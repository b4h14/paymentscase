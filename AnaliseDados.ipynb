{
  "nbformat": 4,
  "nbformat_minor": 0,
  "metadata": {
    "colab": {
      "provenance": [],
      "collapsed_sections": [
        "TofIkF2Pxj_i",
        "DZnfRe-rgNNN",
        "gx8mhlihlyqa",
        "D8W6GM_IVf05",
        "OTP6BiSPfso7",
        "J-NClaAcjiAf",
        "LKe7-q05G7Bh",
        "YrEB9iBxNjit",
        "WOQTnmIbhE3K",
        "VtOOCxQ4Fkzl",
        "LCPaRVU8sIVH",
        "9FiyvvKu1z2u",
        "de3qDRi_vs9a",
        "QbIgQUkzyvcQ",
        "tf1EC_us7ENZ",
        "1asgFqQKJikT",
        "Q8zGyuMNNvYD",
        "Y79sNrIIrcO5",
        "qfUFLUPJ465G",
        "rH92DJJoPUIA",
        "8_plOjztS5yv",
        "BgZluHCjg06w",
        "uh4eIqa4tdMK",
        "Ie7FkkDg-A_d",
        "RPAY7Ip4K95K",
        "SKb5m9DWXbBx",
        "2df_rQ7ny8OL",
        "0qBTifBvzCcq"
      ]
    },
    "kernelspec": {
      "name": "python3",
      "display_name": "Python 3"
    },
    "language_info": {
      "name": "python"
    }
  },
  "cells": [
    {
      "cell_type": "code",
      "execution_count": 139,
      "metadata": {
        "id": "J3yfxF2qje-U"
      },
      "outputs": [],
      "source": [
        "import pandas as pd\n",
        "import matplotlib.pyplot as plt\n",
        "import numpy as np\n",
        "from datetime import datetime"
      ]
    },
    {
      "cell_type": "code",
      "source": [
        "BancoDados = pd.read_csv(\"CSV.csv\")"
      ],
      "metadata": {
        "id": "L7_WfIIzlaIE"
      },
      "execution_count": 3,
      "outputs": []
    },
    {
      "cell_type": "markdown",
      "source": [
        "\n",
        "\n",
        "---\n",
        "\n",
        "#Analises de dados"
      ],
      "metadata": {
        "id": "TofIkF2Pxj_i"
      }
    },
    {
      "cell_type": "markdown",
      "source": [
        "\n",
        "\n",
        "---\n",
        "\n",
        "##Visualizando informacoes primárias"
      ],
      "metadata": {
        "id": "c2pcpbJvf-tc"
      }
    },
    {
      "cell_type": "code",
      "source": [
        "BancoDados['transaction_date'] = pd.to_datetime(BancoDados['transaction_date'])\n",
        "BancoDados['transaction_date'] = BancoDados['transaction_date'].dt.strftime(\"%H:%M %d/%m/%Y\")"
      ],
      "metadata": {
        "id": "M7rWDCQalxmG"
      },
      "execution_count": 4,
      "outputs": []
    },
    {
      "cell_type": "code",
      "source": [
        "BancoDados.info()"
      ],
      "metadata": {
        "colab": {
          "base_uri": "https://localhost:8080/"
        },
        "id": "rsGBU72w6Mqj",
        "outputId": "2718146e-6d51-498e-dca8-eed5681f7e83"
      },
      "execution_count": 5,
      "outputs": [
        {
          "output_type": "stream",
          "name": "stdout",
          "text": [
            "<class 'pandas.core.frame.DataFrame'>\n",
            "RangeIndex: 3199 entries, 0 to 3198\n",
            "Data columns (total 8 columns):\n",
            " #   Column              Non-Null Count  Dtype  \n",
            "---  ------              --------------  -----  \n",
            " 0   transaction_id      3199 non-null   int64  \n",
            " 1   merchant_id         3199 non-null   int64  \n",
            " 2   user_id             3199 non-null   int64  \n",
            " 3   card_number         3199 non-null   object \n",
            " 4   transaction_date    3199 non-null   object \n",
            " 5   transaction_amount  3199 non-null   float64\n",
            " 6   device_id           2369 non-null   float64\n",
            " 7   has_cbk             3199 non-null   bool   \n",
            "dtypes: bool(1), float64(2), int64(3), object(2)\n",
            "memory usage: 178.2+ KB\n"
          ]
        }
      ]
    },
    {
      "cell_type": "code",
      "source": [
        "BancoDados['transaction_amount'].describe()"
      ],
      "metadata": {
        "id": "mPWKlY4hmGMC",
        "colab": {
          "base_uri": "https://localhost:8080/"
        },
        "outputId": "305c2ad8-59bb-4b4a-b198-2ad4df59bd57"
      },
      "execution_count": 6,
      "outputs": [
        {
          "output_type": "execute_result",
          "data": {
            "text/plain": [
              "count    3199.000000\n",
              "mean      767.812904\n",
              "std       889.095904\n",
              "min         1.220000\n",
              "25%       205.235000\n",
              "50%       415.940000\n",
              "75%       981.680000\n",
              "max      4097.210000\n",
              "Name: transaction_amount, dtype: float64"
            ]
          },
          "metadata": {},
          "execution_count": 6
        }
      ]
    },
    {
      "cell_type": "code",
      "source": [
        "# Criando BancoDadosDataHora para o sistema anti-fraude, será usado só na secao de sistema anti-fraude\n",
        "BancoDados['transaction_date_day'] = pd.to_datetime(BancoDados['transaction_date'], format='%H:%M %d/%m/%Y').dt.strftime('%d/%m/%Y')\n",
        "BancoDados['transaction_date_hour'] = pd.to_datetime(BancoDados['transaction_date'], format='%H:%M %d/%m/%Y').dt.hour\n",
        "BancoDados['transaction_date_minute'] = pd.to_datetime(BancoDados['transaction_date'], format='%H:%M %d/%m/%Y').dt.minute\n",
        "\n",
        "BancoDadosHoraData = BancoDados\n",
        "\n",
        "BancoDados = BancoDados.drop(['transaction_date_day', 'transaction_date_hour', 'transaction_date_minute'], axis=1)"
      ],
      "metadata": {
        "id": "44y3uG0-lcZ5"
      },
      "execution_count": 157,
      "outputs": []
    },
    {
      "cell_type": "markdown",
      "source": [
        "\n",
        "\n",
        "---\n",
        "##Visualizando as primeiras anomalias\n"
      ],
      "metadata": {
        "id": "DZnfRe-rgNNN"
      }
    },
    {
      "cell_type": "code",
      "source": [
        "transacoesPorCliente = BancoDados['user_id'].value_counts()\n",
        "print(transacoesPorCliente)"
      ],
      "metadata": {
        "colab": {
          "base_uri": "https://localhost:8080/"
        },
        "id": "bmSwDFRgcYGR",
        "outputId": "df08e69b-c4e5-4958-d8c1-ad38570ffe34"
      },
      "execution_count": 7,
      "outputs": [
        {
          "output_type": "stream",
          "name": "stdout",
          "text": [
            "11750    31\n",
            "91637    22\n",
            "79054    17\n",
            "96025    14\n",
            "78262    13\n",
            "         ..\n",
            "47677     1\n",
            "17323     1\n",
            "38289     1\n",
            "33764     1\n",
            "8         1\n",
            "Name: user_id, Length: 2704, dtype: int64\n"
          ]
        }
      ]
    },
    {
      "cell_type": "code",
      "source": [
        "clienteMaisDeUmaCompra = BancoDados['user_id'].value_counts()\n",
        "clienteMaisDeUmaCompra = clienteMaisDeUmaCompra [clienteMaisDeUmaCompra  > 1]\n",
        "print(clienteMaisDeUmaCompra)"
      ],
      "metadata": {
        "colab": {
          "base_uri": "https://localhost:8080/"
        },
        "id": "Hp0sW-M8hPR2",
        "outputId": "f25202f0-eb62-4257-f669-18bb2c85bbcb"
      },
      "execution_count": 8,
      "outputs": [
        {
          "output_type": "stream",
          "name": "stdout",
          "text": [
            "11750    31\n",
            "91637    22\n",
            "79054    17\n",
            "96025    14\n",
            "78262    13\n",
            "         ..\n",
            "61637     2\n",
            "39443     2\n",
            "89626     2\n",
            "34172     2\n",
            "26913     2\n",
            "Name: user_id, Length: 235, dtype: int64\n"
          ]
        }
      ]
    },
    {
      "cell_type": "code",
      "source": [
        "transacoesPorLojista = BancoDados['merchant_id'].value_counts()\n",
        "print(transacoesPorLojista)"
      ],
      "metadata": {
        "colab": {
          "base_uri": "https://localhost:8080/"
        },
        "id": "ean2pii3cz_z",
        "outputId": "1adcaa1a-2161-4ec3-9b4d-2e1fb6bbc628"
      },
      "execution_count": 9,
      "outputs": [
        {
          "output_type": "stream",
          "name": "stdout",
          "text": [
            "49205    73\n",
            "17275    30\n",
            "4705     22\n",
            "79698    22\n",
            "53041    19\n",
            "         ..\n",
            "65041     1\n",
            "54860     1\n",
            "38891     1\n",
            "55156     1\n",
            "9603      1\n",
            "Name: merchant_id, Length: 1756, dtype: int64\n"
          ]
        }
      ]
    },
    {
      "cell_type": "code",
      "source": [
        "lojistaMaisDeUmaCompra = BancoDados['merchant_id'].value_counts()\n",
        "lojistaMaisDeUmaCompra = lojistaMaisDeUmaCompra [lojistaMaisDeUmaCompra  > 1]\n",
        "print(lojistaMaisDeUmaCompra)"
      ],
      "metadata": {
        "colab": {
          "base_uri": "https://localhost:8080/"
        },
        "id": "MU32qw20i0QE",
        "outputId": "65f3d457-1dba-423e-9b61-45043344fc64"
      },
      "execution_count": 10,
      "outputs": [
        {
          "output_type": "stream",
          "name": "stdout",
          "text": [
            "49205    73\n",
            "17275    30\n",
            "4705     22\n",
            "79698    22\n",
            "53041    19\n",
            "         ..\n",
            "29140     2\n",
            "57534     2\n",
            "10707     2\n",
            "55531     2\n",
            "13202     2\n",
            "Name: merchant_id, Length: 514, dtype: int64\n"
          ]
        }
      ]
    },
    {
      "cell_type": "code",
      "source": [
        "transacoesPorCartao = BancoDados['card_number'].value_counts()\n",
        "print(transacoesPorCartao)"
      ],
      "metadata": {
        "colab": {
          "base_uri": "https://localhost:8080/"
        },
        "id": "xwnl5bljdNFl",
        "outputId": "227b3d17-7653-41b8-ec08-51a4cc005c15"
      },
      "execution_count": 11,
      "outputs": [
        {
          "output_type": "stream",
          "name": "stdout",
          "text": [
            "554482******7640    10\n",
            "432957******7262     7\n",
            "530034******3859     6\n",
            "520132******7705     6\n",
            "651653******2256     5\n",
            "                    ..\n",
            "506778******7321     1\n",
            "650486******2500     1\n",
            "458919******4999     1\n",
            "521433******5690     1\n",
            "650487******9884     1\n",
            "Name: card_number, Length: 2925, dtype: int64\n"
          ]
        }
      ]
    },
    {
      "cell_type": "code",
      "source": [
        "cartaoMaisDeUmaCompra = BancoDados['card_number'].value_counts()\n",
        "cartaoMaisDeUmaCompra = cartaoMaisDeUmaCompra [cartaoMaisDeUmaCompra  > 1]\n",
        "print(cartaoMaisDeUmaCompra)"
      ],
      "metadata": {
        "colab": {
          "base_uri": "https://localhost:8080/"
        },
        "id": "JhC-uJ3ijSIC",
        "outputId": "04dc3e7b-7d9b-40e5-e82a-a4f335a8f6c9"
      },
      "execution_count": 12,
      "outputs": [
        {
          "output_type": "stream",
          "name": "stdout",
          "text": [
            "554482******7640    10\n",
            "432957******7262     7\n",
            "530034******3859     6\n",
            "520132******7705     6\n",
            "651653******2256     5\n",
            "                    ..\n",
            "518454******7187     2\n",
            "490172******9947     2\n",
            "530034******7995     2\n",
            "528392******3157     2\n",
            "525631******6430     2\n",
            "Name: card_number, Length: 192, dtype: int64\n"
          ]
        }
      ]
    },
    {
      "cell_type": "code",
      "source": [
        "transacoesPorDispositivo = BancoDados['device_id'].value_counts()\n",
        "print(transacoesPorDispositivo)"
      ],
      "metadata": {
        "colab": {
          "base_uri": "https://localhost:8080/"
        },
        "id": "DS_ZxUpNd8fP",
        "outputId": "6638f20c-5d6d-492c-ffca-db54517fb20a"
      },
      "execution_count": 13,
      "outputs": [
        {
          "output_type": "stream",
          "name": "stdout",
          "text": [
            "563499.0    22\n",
            "342890.0    19\n",
            "101848.0    17\n",
            "438940.0    14\n",
            "547440.0    13\n",
            "            ..\n",
            "181596.0     1\n",
            "961638.0     1\n",
            "99435.0      1\n",
            "312720.0     1\n",
            "4.0          1\n",
            "Name: device_id, Length: 1996, dtype: int64\n"
          ]
        }
      ]
    },
    {
      "cell_type": "code",
      "source": [
        "dispositivoMaisDeUmaCompra = BancoDados['device_id'].value_counts()\n",
        "dispositivoMaisDeUmaCompra = dispositivoMaisDeUmaCompra [dispositivoMaisDeUmaCompra  > 1]\n",
        "print(dispositivoMaisDeUmaCompra)"
      ],
      "metadata": {
        "colab": {
          "base_uri": "https://localhost:8080/"
        },
        "id": "bdG6BXIejZL8",
        "outputId": "5207de3c-918a-4b13-e226-1b3ac0bf05ac"
      },
      "execution_count": 14,
      "outputs": [
        {
          "output_type": "stream",
          "name": "stdout",
          "text": [
            "563499.0    22\n",
            "342890.0    19\n",
            "101848.0    17\n",
            "438940.0    14\n",
            "547440.0    13\n",
            "            ..\n",
            "471506.0     2\n",
            "321795.0     2\n",
            "34672.0      2\n",
            "290539.0     2\n",
            "402547.0     2\n",
            "Name: device_id, Length: 177, dtype: int64\n"
          ]
        }
      ]
    },
    {
      "cell_type": "code",
      "source": [
        "pedidoComCbk = BancoDados['has_cbk'].value_counts()[True]\n",
        "print(pedidoComCbk)"
      ],
      "metadata": {
        "colab": {
          "base_uri": "https://localhost:8080/"
        },
        "id": "A2Tnc0uoeMkb",
        "outputId": "3095bcf3-1ab8-4f84-dd46-ca66c5d6dc58"
      },
      "execution_count": 15,
      "outputs": [
        {
          "output_type": "stream",
          "name": "stdout",
          "text": [
            "391\n"
          ]
        }
      ]
    },
    {
      "cell_type": "code",
      "source": [
        "pedidoSemCbk = BancoDados['has_cbk'].value_counts()[False]\n",
        "print(pedidoSemCbk)"
      ],
      "metadata": {
        "colab": {
          "base_uri": "https://localhost:8080/"
        },
        "id": "pbmhU7ffeuBk",
        "outputId": "59f3a953-61c2-466e-89da-188ee1030600"
      },
      "execution_count": 16,
      "outputs": [
        {
          "output_type": "stream",
          "name": "stdout",
          "text": [
            "2808\n"
          ]
        }
      ]
    },
    {
      "cell_type": "markdown",
      "source": [
        "### Há 391 pedidos com Chargebacks, o que significa 12,22% das transacoes\n",
        "\n",
        "### 235 clientes fizeram mais de uma compra. (8,7% dos clientes)\n",
        "\n",
        "### 514 lojistas realizaram mais de uma venda (29,3% dos lojistas)\n",
        "\n",
        "### 192 cartoes foram usados em mais de uma compra (6,5% dos cartoes)\n",
        "\n",
        "### 176 dispositivos foram usados mais de uma vez (8,8% dos dispositivos)\n"
      ],
      "metadata": {
        "id": "UByIOJW3foCf"
      }
    },
    {
      "cell_type": "markdown",
      "source": [
        "\n",
        "\n",
        "---\n",
        "\n",
        "##Separando e criando dois dataframes separando as fraudes"
      ],
      "metadata": {
        "id": "gx8mhlihlyqa"
      }
    },
    {
      "cell_type": "code",
      "source": [
        "transacoesComFraude = BancoDados[BancoDados['has_cbk'] == True]\n",
        "transacoesComFraude"
      ],
      "metadata": {
        "colab": {
          "base_uri": "https://localhost:8080/",
          "height": 0
        },
        "id": "e3BtDbmYk_9S",
        "outputId": "93facc1b-c426-4ea0-e0f5-832543324618"
      },
      "execution_count": 17,
      "outputs": [
        {
          "output_type": "execute_result",
          "data": {
            "text/plain": [
              "      transaction_id  merchant_id  user_id       card_number  \\\n",
              "1           21320399        92895     2708  444456******4210   \n",
              "3           21320401        68657    69758  464296******3991   \n",
              "7           21320405        56107    81152  650516******9201   \n",
              "8           21320406        56107    81152  650516******9201   \n",
              "9           21320407        56107    81152  650516******9201   \n",
              "...              ...          ...      ...               ...   \n",
              "3157        21323555        41354    19820  606282******6581   \n",
              "3165        21323563        41354    19820  606282******6581   \n",
              "3178        21323576        16266    96495  522840******2045   \n",
              "3180        21323578        16266    96495  552305******4782   \n",
              "3185        21323583        77570    75889  527496******2850   \n",
              "\n",
              "      transaction_date  transaction_amount  device_id  has_cbk  \n",
              "1     22:45 01/12/2019              734.87   497105.0     True  \n",
              "3     21:59 01/12/2019             2556.13        NaN     True  \n",
              "7     21:24 01/12/2019              188.68      486.0     True  \n",
              "8     21:13 01/12/2019              352.77      486.0     True  \n",
              "9     21:04 01/12/2019              345.68      486.0     True  \n",
              "...                ...                 ...        ...      ...  \n",
              "3157  18:04 02/11/2019             4028.55        NaN     True  \n",
              "3165  16:33 02/11/2019             4031.00        NaN     True  \n",
              "3178  22:10 01/11/2019              762.18        NaN     True  \n",
              "3180  20:54 01/11/2019             2936.66        NaN     True  \n",
              "3185  19:19 01/11/2019             1726.65        NaN     True  \n",
              "\n",
              "[391 rows x 8 columns]"
            ],
            "text/html": [
              "\n",
              "  <div id=\"df-809d3166-0521-4706-88d7-16278698d0a0\">\n",
              "    <div class=\"colab-df-container\">\n",
              "      <div>\n",
              "<style scoped>\n",
              "    .dataframe tbody tr th:only-of-type {\n",
              "        vertical-align: middle;\n",
              "    }\n",
              "\n",
              "    .dataframe tbody tr th {\n",
              "        vertical-align: top;\n",
              "    }\n",
              "\n",
              "    .dataframe thead th {\n",
              "        text-align: right;\n",
              "    }\n",
              "</style>\n",
              "<table border=\"1\" class=\"dataframe\">\n",
              "  <thead>\n",
              "    <tr style=\"text-align: right;\">\n",
              "      <th></th>\n",
              "      <th>transaction_id</th>\n",
              "      <th>merchant_id</th>\n",
              "      <th>user_id</th>\n",
              "      <th>card_number</th>\n",
              "      <th>transaction_date</th>\n",
              "      <th>transaction_amount</th>\n",
              "      <th>device_id</th>\n",
              "      <th>has_cbk</th>\n",
              "    </tr>\n",
              "  </thead>\n",
              "  <tbody>\n",
              "    <tr>\n",
              "      <th>1</th>\n",
              "      <td>21320399</td>\n",
              "      <td>92895</td>\n",
              "      <td>2708</td>\n",
              "      <td>444456******4210</td>\n",
              "      <td>22:45 01/12/2019</td>\n",
              "      <td>734.87</td>\n",
              "      <td>497105.0</td>\n",
              "      <td>True</td>\n",
              "    </tr>\n",
              "    <tr>\n",
              "      <th>3</th>\n",
              "      <td>21320401</td>\n",
              "      <td>68657</td>\n",
              "      <td>69758</td>\n",
              "      <td>464296******3991</td>\n",
              "      <td>21:59 01/12/2019</td>\n",
              "      <td>2556.13</td>\n",
              "      <td>NaN</td>\n",
              "      <td>True</td>\n",
              "    </tr>\n",
              "    <tr>\n",
              "      <th>7</th>\n",
              "      <td>21320405</td>\n",
              "      <td>56107</td>\n",
              "      <td>81152</td>\n",
              "      <td>650516******9201</td>\n",
              "      <td>21:24 01/12/2019</td>\n",
              "      <td>188.68</td>\n",
              "      <td>486.0</td>\n",
              "      <td>True</td>\n",
              "    </tr>\n",
              "    <tr>\n",
              "      <th>8</th>\n",
              "      <td>21320406</td>\n",
              "      <td>56107</td>\n",
              "      <td>81152</td>\n",
              "      <td>650516******9201</td>\n",
              "      <td>21:13 01/12/2019</td>\n",
              "      <td>352.77</td>\n",
              "      <td>486.0</td>\n",
              "      <td>True</td>\n",
              "    </tr>\n",
              "    <tr>\n",
              "      <th>9</th>\n",
              "      <td>21320407</td>\n",
              "      <td>56107</td>\n",
              "      <td>81152</td>\n",
              "      <td>650516******9201</td>\n",
              "      <td>21:04 01/12/2019</td>\n",
              "      <td>345.68</td>\n",
              "      <td>486.0</td>\n",
              "      <td>True</td>\n",
              "    </tr>\n",
              "    <tr>\n",
              "      <th>...</th>\n",
              "      <td>...</td>\n",
              "      <td>...</td>\n",
              "      <td>...</td>\n",
              "      <td>...</td>\n",
              "      <td>...</td>\n",
              "      <td>...</td>\n",
              "      <td>...</td>\n",
              "      <td>...</td>\n",
              "    </tr>\n",
              "    <tr>\n",
              "      <th>3157</th>\n",
              "      <td>21323555</td>\n",
              "      <td>41354</td>\n",
              "      <td>19820</td>\n",
              "      <td>606282******6581</td>\n",
              "      <td>18:04 02/11/2019</td>\n",
              "      <td>4028.55</td>\n",
              "      <td>NaN</td>\n",
              "      <td>True</td>\n",
              "    </tr>\n",
              "    <tr>\n",
              "      <th>3165</th>\n",
              "      <td>21323563</td>\n",
              "      <td>41354</td>\n",
              "      <td>19820</td>\n",
              "      <td>606282******6581</td>\n",
              "      <td>16:33 02/11/2019</td>\n",
              "      <td>4031.00</td>\n",
              "      <td>NaN</td>\n",
              "      <td>True</td>\n",
              "    </tr>\n",
              "    <tr>\n",
              "      <th>3178</th>\n",
              "      <td>21323576</td>\n",
              "      <td>16266</td>\n",
              "      <td>96495</td>\n",
              "      <td>522840******2045</td>\n",
              "      <td>22:10 01/11/2019</td>\n",
              "      <td>762.18</td>\n",
              "      <td>NaN</td>\n",
              "      <td>True</td>\n",
              "    </tr>\n",
              "    <tr>\n",
              "      <th>3180</th>\n",
              "      <td>21323578</td>\n",
              "      <td>16266</td>\n",
              "      <td>96495</td>\n",
              "      <td>552305******4782</td>\n",
              "      <td>20:54 01/11/2019</td>\n",
              "      <td>2936.66</td>\n",
              "      <td>NaN</td>\n",
              "      <td>True</td>\n",
              "    </tr>\n",
              "    <tr>\n",
              "      <th>3185</th>\n",
              "      <td>21323583</td>\n",
              "      <td>77570</td>\n",
              "      <td>75889</td>\n",
              "      <td>527496******2850</td>\n",
              "      <td>19:19 01/11/2019</td>\n",
              "      <td>1726.65</td>\n",
              "      <td>NaN</td>\n",
              "      <td>True</td>\n",
              "    </tr>\n",
              "  </tbody>\n",
              "</table>\n",
              "<p>391 rows × 8 columns</p>\n",
              "</div>\n",
              "      <button class=\"colab-df-convert\" onclick=\"convertToInteractive('df-809d3166-0521-4706-88d7-16278698d0a0')\"\n",
              "              title=\"Convert this dataframe to an interactive table.\"\n",
              "              style=\"display:none;\">\n",
              "        \n",
              "  <svg xmlns=\"http://www.w3.org/2000/svg\" height=\"24px\"viewBox=\"0 0 24 24\"\n",
              "       width=\"24px\">\n",
              "    <path d=\"M0 0h24v24H0V0z\" fill=\"none\"/>\n",
              "    <path d=\"M18.56 5.44l.94 2.06.94-2.06 2.06-.94-2.06-.94-.94-2.06-.94 2.06-2.06.94zm-11 1L8.5 8.5l.94-2.06 2.06-.94-2.06-.94L8.5 2.5l-.94 2.06-2.06.94zm10 10l.94 2.06.94-2.06 2.06-.94-2.06-.94-.94-2.06-.94 2.06-2.06.94z\"/><path d=\"M17.41 7.96l-1.37-1.37c-.4-.4-.92-.59-1.43-.59-.52 0-1.04.2-1.43.59L10.3 9.45l-7.72 7.72c-.78.78-.78 2.05 0 2.83L4 21.41c.39.39.9.59 1.41.59.51 0 1.02-.2 1.41-.59l7.78-7.78 2.81-2.81c.8-.78.8-2.07 0-2.86zM5.41 20L4 18.59l7.72-7.72 1.47 1.35L5.41 20z\"/>\n",
              "  </svg>\n",
              "      </button>\n",
              "      \n",
              "  <style>\n",
              "    .colab-df-container {\n",
              "      display:flex;\n",
              "      flex-wrap:wrap;\n",
              "      gap: 12px;\n",
              "    }\n",
              "\n",
              "    .colab-df-convert {\n",
              "      background-color: #E8F0FE;\n",
              "      border: none;\n",
              "      border-radius: 50%;\n",
              "      cursor: pointer;\n",
              "      display: none;\n",
              "      fill: #1967D2;\n",
              "      height: 32px;\n",
              "      padding: 0 0 0 0;\n",
              "      width: 32px;\n",
              "    }\n",
              "\n",
              "    .colab-df-convert:hover {\n",
              "      background-color: #E2EBFA;\n",
              "      box-shadow: 0px 1px 2px rgba(60, 64, 67, 0.3), 0px 1px 3px 1px rgba(60, 64, 67, 0.15);\n",
              "      fill: #174EA6;\n",
              "    }\n",
              "\n",
              "    [theme=dark] .colab-df-convert {\n",
              "      background-color: #3B4455;\n",
              "      fill: #D2E3FC;\n",
              "    }\n",
              "\n",
              "    [theme=dark] .colab-df-convert:hover {\n",
              "      background-color: #434B5C;\n",
              "      box-shadow: 0px 1px 3px 1px rgba(0, 0, 0, 0.15);\n",
              "      filter: drop-shadow(0px 1px 2px rgba(0, 0, 0, 0.3));\n",
              "      fill: #FFFFFF;\n",
              "    }\n",
              "  </style>\n",
              "\n",
              "      <script>\n",
              "        const buttonEl =\n",
              "          document.querySelector('#df-809d3166-0521-4706-88d7-16278698d0a0 button.colab-df-convert');\n",
              "        buttonEl.style.display =\n",
              "          google.colab.kernel.accessAllowed ? 'block' : 'none';\n",
              "\n",
              "        async function convertToInteractive(key) {\n",
              "          const element = document.querySelector('#df-809d3166-0521-4706-88d7-16278698d0a0');\n",
              "          const dataTable =\n",
              "            await google.colab.kernel.invokeFunction('convertToInteractive',\n",
              "                                                     [key], {});\n",
              "          if (!dataTable) return;\n",
              "\n",
              "          const docLinkHtml = 'Like what you see? Visit the ' +\n",
              "            '<a target=\"_blank\" href=https://colab.research.google.com/notebooks/data_table.ipynb>data table notebook</a>'\n",
              "            + ' to learn more about interactive tables.';\n",
              "          element.innerHTML = '';\n",
              "          dataTable['output_type'] = 'display_data';\n",
              "          await google.colab.output.renderOutput(dataTable, element);\n",
              "          const docLink = document.createElement('div');\n",
              "          docLink.innerHTML = docLinkHtml;\n",
              "          element.appendChild(docLink);\n",
              "        }\n",
              "      </script>\n",
              "    </div>\n",
              "  </div>\n",
              "  "
            ]
          },
          "metadata": {},
          "execution_count": 17
        }
      ]
    },
    {
      "cell_type": "code",
      "source": [
        "transacoesSemFraude = BancoDados[BancoDados['has_cbk'] == False]\n",
        "transacoesSemFraude"
      ],
      "metadata": {
        "colab": {
          "base_uri": "https://localhost:8080/",
          "height": 0
        },
        "id": "VlnYuL_1lari",
        "outputId": "34a2b984-95f7-4680-f591-bbea3be04c1d"
      },
      "execution_count": 18,
      "outputs": [
        {
          "output_type": "execute_result",
          "data": {
            "text/plain": [
              "      transaction_id  merchant_id  user_id       card_number  \\\n",
              "0           21320398        29744    97051  434505******9116   \n",
              "2           21320400        47759    14777  425850******7024   \n",
              "4           21320402        54075    64367  650487******6116   \n",
              "5           21320403        59566    40759  516292******8220   \n",
              "6           21320404        20917    25661  650485******9310   \n",
              "...              ...          ...      ...               ...   \n",
              "3194        21323592        50493    49581  650486******4139   \n",
              "3195        21323593         9603    59275  528052******3611   \n",
              "3196        21323594        57997    84486  522688******9874   \n",
              "3197        21323595        35930        7  544315******7773   \n",
              "3198        21323596        17348        8  650487******9884   \n",
              "\n",
              "      transaction_date  transaction_amount  device_id  has_cbk  \n",
              "0     23:16 01/12/2019              374.56   285475.0    False  \n",
              "2     22:22 01/12/2019              760.36        NaN    False  \n",
              "4     21:30 01/12/2019               55.36   860232.0    False  \n",
              "5     21:25 01/12/2019               60.49   192705.0    False  \n",
              "6     21:25 01/12/2019              318.37   760932.0    False  \n",
              "...                ...                 ...        ...      ...  \n",
              "3194  13:05 01/11/2019              744.15        NaN    False  \n",
              "3195  11:47 01/11/2019             1403.67        NaN    False  \n",
              "3196  10:23 01/11/2019                1.55        NaN    False  \n",
              "3197  01:29 01/11/2019              359.68        NaN    False  \n",
              "3198  01:27 01/11/2019             2416.70        NaN    False  \n",
              "\n",
              "[2808 rows x 8 columns]"
            ],
            "text/html": [
              "\n",
              "  <div id=\"df-79b565be-14a8-47a6-b100-e531d9712b5d\">\n",
              "    <div class=\"colab-df-container\">\n",
              "      <div>\n",
              "<style scoped>\n",
              "    .dataframe tbody tr th:only-of-type {\n",
              "        vertical-align: middle;\n",
              "    }\n",
              "\n",
              "    .dataframe tbody tr th {\n",
              "        vertical-align: top;\n",
              "    }\n",
              "\n",
              "    .dataframe thead th {\n",
              "        text-align: right;\n",
              "    }\n",
              "</style>\n",
              "<table border=\"1\" class=\"dataframe\">\n",
              "  <thead>\n",
              "    <tr style=\"text-align: right;\">\n",
              "      <th></th>\n",
              "      <th>transaction_id</th>\n",
              "      <th>merchant_id</th>\n",
              "      <th>user_id</th>\n",
              "      <th>card_number</th>\n",
              "      <th>transaction_date</th>\n",
              "      <th>transaction_amount</th>\n",
              "      <th>device_id</th>\n",
              "      <th>has_cbk</th>\n",
              "    </tr>\n",
              "  </thead>\n",
              "  <tbody>\n",
              "    <tr>\n",
              "      <th>0</th>\n",
              "      <td>21320398</td>\n",
              "      <td>29744</td>\n",
              "      <td>97051</td>\n",
              "      <td>434505******9116</td>\n",
              "      <td>23:16 01/12/2019</td>\n",
              "      <td>374.56</td>\n",
              "      <td>285475.0</td>\n",
              "      <td>False</td>\n",
              "    </tr>\n",
              "    <tr>\n",
              "      <th>2</th>\n",
              "      <td>21320400</td>\n",
              "      <td>47759</td>\n",
              "      <td>14777</td>\n",
              "      <td>425850******7024</td>\n",
              "      <td>22:22 01/12/2019</td>\n",
              "      <td>760.36</td>\n",
              "      <td>NaN</td>\n",
              "      <td>False</td>\n",
              "    </tr>\n",
              "    <tr>\n",
              "      <th>4</th>\n",
              "      <td>21320402</td>\n",
              "      <td>54075</td>\n",
              "      <td>64367</td>\n",
              "      <td>650487******6116</td>\n",
              "      <td>21:30 01/12/2019</td>\n",
              "      <td>55.36</td>\n",
              "      <td>860232.0</td>\n",
              "      <td>False</td>\n",
              "    </tr>\n",
              "    <tr>\n",
              "      <th>5</th>\n",
              "      <td>21320403</td>\n",
              "      <td>59566</td>\n",
              "      <td>40759</td>\n",
              "      <td>516292******8220</td>\n",
              "      <td>21:25 01/12/2019</td>\n",
              "      <td>60.49</td>\n",
              "      <td>192705.0</td>\n",
              "      <td>False</td>\n",
              "    </tr>\n",
              "    <tr>\n",
              "      <th>6</th>\n",
              "      <td>21320404</td>\n",
              "      <td>20917</td>\n",
              "      <td>25661</td>\n",
              "      <td>650485******9310</td>\n",
              "      <td>21:25 01/12/2019</td>\n",
              "      <td>318.37</td>\n",
              "      <td>760932.0</td>\n",
              "      <td>False</td>\n",
              "    </tr>\n",
              "    <tr>\n",
              "      <th>...</th>\n",
              "      <td>...</td>\n",
              "      <td>...</td>\n",
              "      <td>...</td>\n",
              "      <td>...</td>\n",
              "      <td>...</td>\n",
              "      <td>...</td>\n",
              "      <td>...</td>\n",
              "      <td>...</td>\n",
              "    </tr>\n",
              "    <tr>\n",
              "      <th>3194</th>\n",
              "      <td>21323592</td>\n",
              "      <td>50493</td>\n",
              "      <td>49581</td>\n",
              "      <td>650486******4139</td>\n",
              "      <td>13:05 01/11/2019</td>\n",
              "      <td>744.15</td>\n",
              "      <td>NaN</td>\n",
              "      <td>False</td>\n",
              "    </tr>\n",
              "    <tr>\n",
              "      <th>3195</th>\n",
              "      <td>21323593</td>\n",
              "      <td>9603</td>\n",
              "      <td>59275</td>\n",
              "      <td>528052******3611</td>\n",
              "      <td>11:47 01/11/2019</td>\n",
              "      <td>1403.67</td>\n",
              "      <td>NaN</td>\n",
              "      <td>False</td>\n",
              "    </tr>\n",
              "    <tr>\n",
              "      <th>3196</th>\n",
              "      <td>21323594</td>\n",
              "      <td>57997</td>\n",
              "      <td>84486</td>\n",
              "      <td>522688******9874</td>\n",
              "      <td>10:23 01/11/2019</td>\n",
              "      <td>1.55</td>\n",
              "      <td>NaN</td>\n",
              "      <td>False</td>\n",
              "    </tr>\n",
              "    <tr>\n",
              "      <th>3197</th>\n",
              "      <td>21323595</td>\n",
              "      <td>35930</td>\n",
              "      <td>7</td>\n",
              "      <td>544315******7773</td>\n",
              "      <td>01:29 01/11/2019</td>\n",
              "      <td>359.68</td>\n",
              "      <td>NaN</td>\n",
              "      <td>False</td>\n",
              "    </tr>\n",
              "    <tr>\n",
              "      <th>3198</th>\n",
              "      <td>21323596</td>\n",
              "      <td>17348</td>\n",
              "      <td>8</td>\n",
              "      <td>650487******9884</td>\n",
              "      <td>01:27 01/11/2019</td>\n",
              "      <td>2416.70</td>\n",
              "      <td>NaN</td>\n",
              "      <td>False</td>\n",
              "    </tr>\n",
              "  </tbody>\n",
              "</table>\n",
              "<p>2808 rows × 8 columns</p>\n",
              "</div>\n",
              "      <button class=\"colab-df-convert\" onclick=\"convertToInteractive('df-79b565be-14a8-47a6-b100-e531d9712b5d')\"\n",
              "              title=\"Convert this dataframe to an interactive table.\"\n",
              "              style=\"display:none;\">\n",
              "        \n",
              "  <svg xmlns=\"http://www.w3.org/2000/svg\" height=\"24px\"viewBox=\"0 0 24 24\"\n",
              "       width=\"24px\">\n",
              "    <path d=\"M0 0h24v24H0V0z\" fill=\"none\"/>\n",
              "    <path d=\"M18.56 5.44l.94 2.06.94-2.06 2.06-.94-2.06-.94-.94-2.06-.94 2.06-2.06.94zm-11 1L8.5 8.5l.94-2.06 2.06-.94-2.06-.94L8.5 2.5l-.94 2.06-2.06.94zm10 10l.94 2.06.94-2.06 2.06-.94-2.06-.94-.94-2.06-.94 2.06-2.06.94z\"/><path d=\"M17.41 7.96l-1.37-1.37c-.4-.4-.92-.59-1.43-.59-.52 0-1.04.2-1.43.59L10.3 9.45l-7.72 7.72c-.78.78-.78 2.05 0 2.83L4 21.41c.39.39.9.59 1.41.59.51 0 1.02-.2 1.41-.59l7.78-7.78 2.81-2.81c.8-.78.8-2.07 0-2.86zM5.41 20L4 18.59l7.72-7.72 1.47 1.35L5.41 20z\"/>\n",
              "  </svg>\n",
              "      </button>\n",
              "      \n",
              "  <style>\n",
              "    .colab-df-container {\n",
              "      display:flex;\n",
              "      flex-wrap:wrap;\n",
              "      gap: 12px;\n",
              "    }\n",
              "\n",
              "    .colab-df-convert {\n",
              "      background-color: #E8F0FE;\n",
              "      border: none;\n",
              "      border-radius: 50%;\n",
              "      cursor: pointer;\n",
              "      display: none;\n",
              "      fill: #1967D2;\n",
              "      height: 32px;\n",
              "      padding: 0 0 0 0;\n",
              "      width: 32px;\n",
              "    }\n",
              "\n",
              "    .colab-df-convert:hover {\n",
              "      background-color: #E2EBFA;\n",
              "      box-shadow: 0px 1px 2px rgba(60, 64, 67, 0.3), 0px 1px 3px 1px rgba(60, 64, 67, 0.15);\n",
              "      fill: #174EA6;\n",
              "    }\n",
              "\n",
              "    [theme=dark] .colab-df-convert {\n",
              "      background-color: #3B4455;\n",
              "      fill: #D2E3FC;\n",
              "    }\n",
              "\n",
              "    [theme=dark] .colab-df-convert:hover {\n",
              "      background-color: #434B5C;\n",
              "      box-shadow: 0px 1px 3px 1px rgba(0, 0, 0, 0.15);\n",
              "      filter: drop-shadow(0px 1px 2px rgba(0, 0, 0, 0.3));\n",
              "      fill: #FFFFFF;\n",
              "    }\n",
              "  </style>\n",
              "\n",
              "      <script>\n",
              "        const buttonEl =\n",
              "          document.querySelector('#df-79b565be-14a8-47a6-b100-e531d9712b5d button.colab-df-convert');\n",
              "        buttonEl.style.display =\n",
              "          google.colab.kernel.accessAllowed ? 'block' : 'none';\n",
              "\n",
              "        async function convertToInteractive(key) {\n",
              "          const element = document.querySelector('#df-79b565be-14a8-47a6-b100-e531d9712b5d');\n",
              "          const dataTable =\n",
              "            await google.colab.kernel.invokeFunction('convertToInteractive',\n",
              "                                                     [key], {});\n",
              "          if (!dataTable) return;\n",
              "\n",
              "          const docLinkHtml = 'Like what you see? Visit the ' +\n",
              "            '<a target=\"_blank\" href=https://colab.research.google.com/notebooks/data_table.ipynb>data table notebook</a>'\n",
              "            + ' to learn more about interactive tables.';\n",
              "          element.innerHTML = '';\n",
              "          dataTable['output_type'] = 'display_data';\n",
              "          await google.colab.output.renderOutput(dataTable, element);\n",
              "          const docLink = document.createElement('div');\n",
              "          docLink.innerHTML = docLinkHtml;\n",
              "          element.appendChild(docLink);\n",
              "        }\n",
              "      </script>\n",
              "    </div>\n",
              "  </div>\n",
              "  "
            ]
          },
          "metadata": {},
          "execution_count": 18
        }
      ]
    },
    {
      "cell_type": "code",
      "source": [
        "transacoesComFraude['transaction_amount'].describe()"
      ],
      "metadata": {
        "colab": {
          "base_uri": "https://localhost:8080/"
        },
        "id": "iEibZt-bmFS3",
        "outputId": "7a115f39-1761-49cb-f401-935e6e5615d9"
      },
      "execution_count": 19,
      "outputs": [
        {
          "output_type": "execute_result",
          "data": {
            "text/plain": [
              "count     391.000000\n",
              "mean     1453.571918\n",
              "std      1169.491346\n",
              "min         2.890000\n",
              "25%       565.580000\n",
              "50%       999.470000\n",
              "75%      2140.680000\n",
              "max      4097.210000\n",
              "Name: transaction_amount, dtype: float64"
            ]
          },
          "metadata": {},
          "execution_count": 19
        }
      ]
    },
    {
      "cell_type": "code",
      "source": [
        "transacoesSemFraude['transaction_amount'].describe()"
      ],
      "metadata": {
        "colab": {
          "base_uri": "https://localhost:8080/"
        },
        "id": "pSXxfHIkmTON",
        "outputId": "33bbd294-2fc2-47c3-8015-32342e83a9e1"
      },
      "execution_count": 20,
      "outputs": [
        {
          "output_type": "execute_result",
          "data": {
            "text/plain": [
              "count    2808.000000\n",
              "mean      672.324380\n",
              "std       797.463853\n",
              "min         1.220000\n",
              "25%       191.285000\n",
              "50%       360.315000\n",
              "75%       812.577500\n",
              "max      4091.830000\n",
              "Name: transaction_amount, dtype: float64"
            ]
          },
          "metadata": {},
          "execution_count": 20
        }
      ]
    },
    {
      "cell_type": "markdown",
      "source": [
        "\n",
        "\n",
        "---\n",
        "\n",
        "## Separando os players com has_cbk"
      ],
      "metadata": {
        "id": "D8W6GM_IVf05"
      }
    },
    {
      "cell_type": "markdown",
      "source": [
        "\n",
        "\n",
        "---\n",
        "\n",
        "### Players com has_cbk = true"
      ],
      "metadata": {
        "id": "L201QGlrfGlr"
      }
    },
    {
      "cell_type": "code",
      "source": [
        "lojistaComFraude = transacoesComFraude['merchant_id'].unique()"
      ],
      "metadata": {
        "id": "MgSMTGySVtNr"
      },
      "execution_count": 21,
      "outputs": []
    },
    {
      "cell_type": "code",
      "source": [
        "clienteComFraude = transacoesComFraude['user_id'].unique()"
      ],
      "metadata": {
        "id": "1QyKaEwbZQZ6"
      },
      "execution_count": 22,
      "outputs": []
    },
    {
      "cell_type": "code",
      "source": [
        "cartoesComFraude = transacoesComFraude['card_number'].unique()"
      ],
      "metadata": {
        "id": "U2W8lnUbap6S"
      },
      "execution_count": 23,
      "outputs": []
    },
    {
      "cell_type": "code",
      "source": [
        "dispositivoComFraude = transacoesComFraude['device_id'].unique()"
      ],
      "metadata": {
        "id": "f8yWTTzia5ly"
      },
      "execution_count": 24,
      "outputs": []
    },
    {
      "cell_type": "code",
      "source": [
        "lojistaComFraude"
      ],
      "metadata": {
        "colab": {
          "base_uri": "https://localhost:8080/"
        },
        "id": "IXsPktmG3oFM",
        "outputId": "b7dac9be-56d1-473c-bb76-05431949f6b6"
      },
      "execution_count": 25,
      "outputs": [
        {
          "output_type": "execute_result",
          "data": {
            "text/plain": [
              "array([92895, 68657, 56107, 53816, 11470, 73271, 56977, 49710, 68953,\n",
              "       67764, 66876, 84970, 17275, 72723, 62194, 81795,  5533,  5404,\n",
              "       23722, 11570, 83142, 92215, 48912, 99644, 15326, 29214, 63050,\n",
              "       38568, 44927, 99510, 91972,  4694, 29744, 73205, 15950,  3531,\n",
              "       49909, 23531, 38901, 48126, 97291,  4153,  1308, 83982, 38755,\n",
              "       18768,  4705, 36617,  5252, 60526, 18267, 21281, 46609, 13096,\n",
              "       91446, 98272, 46045, 42356, 55854, 73922,  3109, 89943, 67075,\n",
              "       12745, 91352, 94198, 90035, 20663, 59875, 65330, 65241,  5763,\n",
              "       82867, 75917, 62613,  1175, 18344, 54603, 74211, 39253,  2842,\n",
              "       76239, 35917, 36700,  8787, 38337, 52897, 62988, 11911, 53041,\n",
              "       48982, 71378, 25473, 60779, 84902, 96692,  1017, 25199, 71507,\n",
              "        9292, 81894, 54572, 74450, 94053,  7535, 45399, 49919, 11973,\n",
              "       23017, 77130, 25932, 70899, 77570, 76725, 62052,  8942, 41354,\n",
              "       16266])"
            ]
          },
          "metadata": {},
          "execution_count": 25
        }
      ]
    },
    {
      "cell_type": "markdown",
      "source": [
        "\n",
        "\n",
        "---\n",
        "\n",
        "### Players com has_cbk = false"
      ],
      "metadata": {
        "id": "OTP6BiSPfso7"
      }
    },
    {
      "cell_type": "code",
      "source": [
        "lojistaSemFraude = transacoesSemFraude['merchant_id'].unique()"
      ],
      "metadata": {
        "id": "gcboNEAEfwgV"
      },
      "execution_count": 26,
      "outputs": []
    },
    {
      "cell_type": "code",
      "source": [
        "clienteSemFraude = transacoesSemFraude['user_id'].unique()"
      ],
      "metadata": {
        "id": "qAJcyk6Yf1RZ"
      },
      "execution_count": 27,
      "outputs": []
    },
    {
      "cell_type": "code",
      "source": [
        "cartoesSemFraude = transacoesSemFraude['card_number'].unique()"
      ],
      "metadata": {
        "id": "gZaECovvf0-M"
      },
      "execution_count": 28,
      "outputs": []
    },
    {
      "cell_type": "code",
      "source": [
        "dispositivoSemFraude = transacoesSemFraude['device_id'].unique()"
      ],
      "metadata": {
        "id": "I4PmMBAnf0sQ"
      },
      "execution_count": 29,
      "outputs": []
    },
    {
      "cell_type": "markdown",
      "source": [
        "\n",
        "\n",
        "---\n",
        "\n",
        "## Análise das transacoes sem device_ID"
      ],
      "metadata": {
        "id": "J-NClaAcjiAf"
      }
    },
    {
      "cell_type": "code",
      "source": [
        "transacoesSemDeviceId = BancoDados[BancoDados['device_id'].isnull()]\n",
        "transacoesComDeviceId = BancoDados[~BancoDados['device_id'].isnull()]"
      ],
      "metadata": {
        "id": "sGvLC-D2juMC"
      },
      "execution_count": 30,
      "outputs": []
    },
    {
      "cell_type": "code",
      "source": [
        "transacoesSemDeviceIdCbkOn = transacoesSemDeviceId[transacoesSemDeviceId['has_cbk'] == True]"
      ],
      "metadata": {
        "id": "bxb_bDRLj4pP"
      },
      "execution_count": 31,
      "outputs": []
    },
    {
      "cell_type": "code",
      "source": [
        "lojistasSemDeviceIdCbkOn = transacoesSemDeviceIdCbkOn['merchant_id'].unique()\n",
        "clientesSemDeviceIdCbkOn = transacoesSemDeviceIdCbkOn['user_id'].unique()\n",
        "cartoesSemDeviceIdCbkOn = transacoesSemDeviceIdCbkOn['card_number'].unique()\n",
        "dispositivosSemDeviceIdCbkOn = transacoesSemDeviceIdCbkOn['device_id'].unique()"
      ],
      "metadata": {
        "id": "oyuGTMxomtcT"
      },
      "execution_count": 32,
      "outputs": []
    },
    {
      "cell_type": "code",
      "source": [
        "transacoesSemDeviceIdCbkOff = transacoesSemDeviceId[transacoesSemDeviceId['has_cbk'] == False]"
      ],
      "metadata": {
        "id": "9ZQZqCrclAXd"
      },
      "execution_count": 33,
      "outputs": []
    },
    {
      "cell_type": "code",
      "source": [
        "listaLojistasSemDeviceComFraude = transacoesSemDeviceIdCbkOn['merchant_id'].unique()\n",
        "listaLojistasSemDeviceComFraude"
      ],
      "metadata": {
        "colab": {
          "base_uri": "https://localhost:8080/"
        },
        "id": "2PEir_VqN746",
        "outputId": "ceb28819-db8b-4e78-831a-672a93b9f397"
      },
      "execution_count": 34,
      "outputs": [
        {
          "output_type": "execute_result",
          "data": {
            "text/plain": [
              "array([68657, 56977, 72723, 11570, 92215,  4694, 44927, 97291, 83982,\n",
              "       99510, 36700, 11911, 65330, 74450, 11973, 91972, 23017, 49919,\n",
              "       77130, 25932, 70899, 77570, 76725, 62052,  8942, 41354, 16266])"
            ]
          },
          "metadata": {},
          "execution_count": 34
        }
      ]
    },
    {
      "cell_type": "code",
      "source": [
        "lojistasSemDeviceIdCbkOff = transacoesSemDeviceIdCbkOff['merchant_id'].unique()\n",
        "clientesSemDeviceIdCbkOff = transacoesSemDeviceIdCbkOff['user_id'].unique()\n",
        "cartoesSemDeviceIdCbkOff = transacoesSemDeviceIdCbkOff['card_number'].unique()\n",
        "dispositivosSemDeviceIdCbkOff = transacoesSemDeviceIdCbkOff['device_id'].unique()"
      ],
      "metadata": {
        "id": "QtItOqyImklE"
      },
      "execution_count": 35,
      "outputs": []
    },
    {
      "cell_type": "markdown",
      "source": [
        "\n",
        "\n",
        "---\n",
        "\n",
        "## Analisando transaction_amount"
      ],
      "metadata": {
        "id": "LKe7-q05G7Bh"
      }
    },
    {
      "cell_type": "code",
      "source": [
        "BancoDados['transaction_amount'].describe()"
      ],
      "metadata": {
        "colab": {
          "base_uri": "https://localhost:8080/"
        },
        "id": "LCxz0bvjHCRE",
        "outputId": "00f0b340-c134-45e5-f8ee-49b66db47b0f"
      },
      "execution_count": 36,
      "outputs": [
        {
          "output_type": "execute_result",
          "data": {
            "text/plain": [
              "count    3199.000000\n",
              "mean      767.812904\n",
              "std       889.095904\n",
              "min         1.220000\n",
              "25%       205.235000\n",
              "50%       415.940000\n",
              "75%       981.680000\n",
              "max      4097.210000\n",
              "Name: transaction_amount, dtype: float64"
            ]
          },
          "metadata": {},
          "execution_count": 36
        }
      ]
    },
    {
      "cell_type": "code",
      "source": [
        "transacoesComFraude['transaction_amount'].describe()"
      ],
      "metadata": {
        "colab": {
          "base_uri": "https://localhost:8080/"
        },
        "id": "ioAcAdAkLH_p",
        "outputId": "3a395d72-b928-4dc8-8a7a-08d2a4428dff"
      },
      "execution_count": 37,
      "outputs": [
        {
          "output_type": "execute_result",
          "data": {
            "text/plain": [
              "count     391.000000\n",
              "mean     1453.571918\n",
              "std      1169.491346\n",
              "min         2.890000\n",
              "25%       565.580000\n",
              "50%       999.470000\n",
              "75%      2140.680000\n",
              "max      4097.210000\n",
              "Name: transaction_amount, dtype: float64"
            ]
          },
          "metadata": {},
          "execution_count": 37
        }
      ]
    },
    {
      "cell_type": "code",
      "source": [
        "transacoesSemFraude['transaction_amount'].describe()"
      ],
      "metadata": {
        "colab": {
          "base_uri": "https://localhost:8080/"
        },
        "id": "ZBxomSWPLT2w",
        "outputId": "cb66ea86-912b-4550-ed0a-747409701564"
      },
      "execution_count": 38,
      "outputs": [
        {
          "output_type": "execute_result",
          "data": {
            "text/plain": [
              "count    2808.000000\n",
              "mean      672.324380\n",
              "std       797.463853\n",
              "min         1.220000\n",
              "25%       191.285000\n",
              "50%       360.315000\n",
              "75%       812.577500\n",
              "max      4091.830000\n",
              "Name: transaction_amount, dtype: float64"
            ]
          },
          "metadata": {},
          "execution_count": 38
        }
      ]
    },
    {
      "cell_type": "code",
      "source": [
        "transacoesComFraudeAgrupadas = transacoesComFraude['transaction_amount'].groupby(pd.cut(transacoesComFraude['transaction_amount'], bins=range(0, 4100, 100))).count()\n",
        "transacoesSemFraudeAgrupadas = transacoesSemFraude['transaction_amount'].groupby(pd.cut(transacoesSemFraude['transaction_amount'], bins=range(0, 4100, 100))).count()"
      ],
      "metadata": {
        "id": "tiYxNIqLL8y_"
      },
      "execution_count": 39,
      "outputs": []
    },
    {
      "cell_type": "code",
      "source": [
        "transacoesComFraudeAgrupadas.plot(kind='bar')\n",
        "\n",
        "plt.title('Transações com Fraude Agrupadas')\n",
        "plt.xlabel('Intervalo de Valores')\n",
        "plt.ylabel('Contagem')\n",
        "\n",
        "plt.show()"
      ],
      "metadata": {
        "colab": {
          "base_uri": "https://localhost:8080/",
          "height": 0
        },
        "id": "piFEywcMOIDX",
        "outputId": "b1e54767-5447-46ab-cefa-48efdc0fc01d"
      },
      "execution_count": 40,
      "outputs": [
        {
          "output_type": "display_data",
          "data": {
            "text/plain": [
              "<Figure size 640x480 with 1 Axes>"
            ],
            "image/png": "[encoded data removed]"
          },
          "metadata": {}
        }
      ]
    },
    {
      "cell_type": "code",
      "source": [
        "transacoesSemFraudeAgrupadas.plot(kind='bar')\n",
        "\n",
        "plt.title('Transações sem Fraude Agrupadas')\n",
        "plt.xlabel('Intervalo de Valores')\n",
        "plt.ylabel('Contagem')\n",
        "\n",
        "plt.show()"
      ],
      "metadata": {
        "colab": {
          "base_uri": "https://localhost:8080/",
          "height": 0
        },
        "id": "b2cpvJrZOiOg",
        "outputId": "2a417226-45c0-4721-bae8-08f436a95e72"
      },
      "execution_count": 41,
      "outputs": [
        {
          "output_type": "display_data",
          "data": {
            "text/plain": [
              "<Figure size 640x480 with 1 Axes>"
            ],
            "image/png": "[encoded data removed]"
          },
          "metadata": {}
        }
      ]
    },
    {
      "cell_type": "code",
      "source": [],
      "metadata": {
        "id": "iz7MTnKJRMr2"
      },
      "execution_count": 41,
      "outputs": []
    },
    {
      "cell_type": "markdown",
      "source": [
        "\n",
        "\n",
        "---\n",
        "\n",
        "## Fazendo analises aprofundadas"
      ],
      "metadata": {
        "id": "YrEB9iBxNjit"
      }
    },
    {
      "cell_type": "markdown",
      "source": [
        "### Vendo valores por coluna"
      ],
      "metadata": {
        "id": "WOQTnmIbhE3K"
      }
    },
    {
      "cell_type": "code",
      "source": [
        "frequenciaLojistasComFraude = transacoesComFraude['merchant_id'].value_counts()\n",
        "frequenciaLojistasComFraude"
      ],
      "metadata": {
        "colab": {
          "base_uri": "https://localhost:8080/"
        },
        "id": "k6N4a_9SNntb",
        "outputId": "f8f6d7bf-8901-4dc5-86cc-3d704d1bfb36"
      },
      "execution_count": 42,
      "outputs": [
        {
          "output_type": "execute_result",
          "data": {
            "text/plain": [
              "17275    22\n",
              "4705     19\n",
              "1308     15\n",
              "53041    14\n",
              "77130    13\n",
              "         ..\n",
              "90035     1\n",
              "5763      1\n",
              "62613     1\n",
              "1175      1\n",
              "73922     1\n",
              "Name: merchant_id, Length: 118, dtype: int64"
            ]
          },
          "metadata": {},
          "execution_count": 42
        }
      ]
    },
    {
      "cell_type": "code",
      "source": [
        "frequenciaLojistasSemFraude = transacoesSemFraude['merchant_id'].value_counts()\n",
        "frequenciaLojistasSemFraude"
      ],
      "metadata": {
        "colab": {
          "base_uri": "https://localhost:8080/"
        },
        "id": "bqW2-yb_NyZ7",
        "outputId": "117f748c-797d-4604-bf50-5ffe58509c48"
      },
      "execution_count": 43,
      "outputs": [
        {
          "output_type": "execute_result",
          "data": {
            "text/plain": [
              "49205    73\n",
              "79698    22\n",
              "26765    18\n",
              "17348    16\n",
              "26981    16\n",
              "         ..\n",
              "38891     1\n",
              "12745     1\n",
              "55156     1\n",
              "30032     1\n",
              "9603      1\n",
              "Name: merchant_id, Length: 1690, dtype: int64"
            ]
          },
          "metadata": {},
          "execution_count": 43
        }
      ]
    },
    {
      "cell_type": "code",
      "source": [
        "frequenciaClienteComFraude = transacoesComFraude['user_id'].value_counts()\n",
        "frequenciaClienteComFraude"
      ],
      "metadata": {
        "colab": {
          "base_uri": "https://localhost:8080/"
        },
        "id": "sZt7vb-OiXf4",
        "outputId": "db131d21-03bd-4d39-e46e-456af9e2894c"
      },
      "execution_count": 44,
      "outputs": [
        {
          "output_type": "execute_result",
          "data": {
            "text/plain": [
              "11750    25\n",
              "91637    19\n",
              "79054    15\n",
              "96025    13\n",
              "78262    12\n",
              "         ..\n",
              "74844     1\n",
              "23916     1\n",
              "41281     1\n",
              "23429     1\n",
              "2708      1\n",
              "Name: user_id, Length: 153, dtype: int64"
            ]
          },
          "metadata": {},
          "execution_count": 44
        }
      ]
    },
    {
      "cell_type": "code",
      "source": [
        "frequenciaClienteSemFraude = transacoesSemFraude['user_id'].value_counts()\n",
        "frequenciaClienteSemFraude"
      ],
      "metadata": {
        "colab": {
          "base_uri": "https://localhost:8080/"
        },
        "id": "C95iow-chsgN",
        "outputId": "22fe1e33-6fd9-4e64-d11b-cbd0bb9a97b3"
      },
      "execution_count": 45,
      "outputs": [
        {
          "output_type": "execute_result",
          "data": {
            "text/plain": [
              "77959    7\n",
              "49106    7\n",
              "11750    6\n",
              "34548    6\n",
              "40779    6\n",
              "        ..\n",
              "22494    1\n",
              "47677    1\n",
              "17323    1\n",
              "38289    1\n",
              "8        1\n",
              "Name: user_id, Length: 2584, dtype: int64"
            ]
          },
          "metadata": {},
          "execution_count": 45
        }
      ]
    },
    {
      "cell_type": "code",
      "source": [
        "frequenciaCartoesComFraude= transacoesComFraude['card_number'].value_counts()\n",
        "frequenciaCartoesComFraude"
      ],
      "metadata": {
        "id": "nTnZbfr2pxQp",
        "colab": {
          "base_uri": "https://localhost:8080/"
        },
        "outputId": "fed77641-986c-456c-d713-e606f6d2814a"
      },
      "execution_count": 46,
      "outputs": [
        {
          "output_type": "execute_result",
          "data": {
            "text/plain": [
              "554482******7640    10\n",
              "530034******3859     6\n",
              "651653******2256     5\n",
              "530034******8258     4\n",
              "441030******2146     4\n",
              "                    ..\n",
              "406655******9249     1\n",
              "406655******8913     1\n",
              "406655******2259     1\n",
              "406655******8833     1\n",
              "527496******2850     1\n",
              "Name: card_number, Length: 274, dtype: int64"
            ]
          },
          "metadata": {},
          "execution_count": 46
        }
      ]
    },
    {
      "cell_type": "code",
      "source": [
        "frequenciaCartoesSemFraude= transacoesSemFraude['card_number'].value_counts()\n",
        "frequenciaCartoesSemFraude"
      ],
      "metadata": {
        "colab": {
          "base_uri": "https://localhost:8080/"
        },
        "id": "_8KreaKgruI-",
        "outputId": "c574d180-0033-4e8f-c966-9f8a1cbdc985"
      },
      "execution_count": 47,
      "outputs": [
        {
          "output_type": "execute_result",
          "data": {
            "text/plain": [
              "432957******7262    7\n",
              "520132******7705    6\n",
              "536805******7429    4\n",
              "410863******7755    4\n",
              "651660******3628    4\n",
              "                   ..\n",
              "530780******7007    1\n",
              "550209******7808    1\n",
              "476331******3122    1\n",
              "472280******3538    1\n",
              "650487******9884    1\n",
              "Name: card_number, Length: 2658, dtype: int64"
            ]
          },
          "metadata": {},
          "execution_count": 47
        }
      ]
    },
    {
      "cell_type": "code",
      "source": [
        "frequenciaDispositivoComFraude = transacoesComFraude['device_id'].value_counts()\n",
        "frequenciaDispositivoComFraude"
      ],
      "metadata": {
        "colab": {
          "base_uri": "https://localhost:8080/"
        },
        "id": "-nN1kG4Oiepk",
        "outputId": "764d37ce-62cb-4314-d0a0-b00191ad1781"
      },
      "execution_count": 48,
      "outputs": [
        {
          "output_type": "execute_result",
          "data": {
            "text/plain": [
              "563499.0    19\n",
              "342890.0    15\n",
              "101848.0    15\n",
              "438940.0    13\n",
              "547440.0    12\n",
              "            ..\n",
              "857439.0     1\n",
              "660508.0     1\n",
              "561984.0     1\n",
              "123636.0     1\n",
              "207247.0     1\n",
              "Name: device_id, Length: 129, dtype: int64"
            ]
          },
          "metadata": {},
          "execution_count": 48
        }
      ]
    },
    {
      "cell_type": "code",
      "source": [
        "frequenciaDispositivoSemFraude = transacoesSemFraude['device_id'].value_counts()\n",
        "frequenciaDispositivoSemFraude"
      ],
      "metadata": {
        "colab": {
          "base_uri": "https://localhost:8080/"
        },
        "id": "hzOPUUKlkyrL",
        "outputId": "6443b09a-359f-41f0-8b43-634c251d522e"
      },
      "execution_count": 49,
      "outputs": [
        {
          "output_type": "execute_result",
          "data": {
            "text/plain": [
              "589318.0    7\n",
              "274282.0    5\n",
              "115003.0    5\n",
              "203134.0    5\n",
              "715437.0    4\n",
              "           ..\n",
              "99435.0     1\n",
              "312720.0    1\n",
              "867567.0    1\n",
              "894628.0    1\n",
              "977260.0    1\n",
              "Name: device_id, Length: 1894, dtype: int64"
            ]
          },
          "metadata": {},
          "execution_count": 49
        }
      ]
    },
    {
      "cell_type": "markdown",
      "source": [
        "\n",
        "\n",
        "---\n",
        "\n",
        "### Identificando os cartoes com mais de 1 usuário"
      ],
      "metadata": {
        "id": "VtOOCxQ4Fkzl"
      }
    },
    {
      "cell_type": "code",
      "source": [
        "userPorCartao = BancoDados.groupby('card_number')['user_id'].nunique()\n",
        "cartoesMaisdeUmUser = userPorCartao[userPorCartao > 1]\n",
        "detalhesCartoesMaisdeUmUser = BancoDados[BancoDados['card_number'].isin(cartoesMaisdeUmUser.index)]\n",
        "detalhesCartoesMaisdeUmUser = detalhesCartoesMaisdeUmUser.sort_values('card_number', ascending=True)\n",
        "detalhesCartoesMaisdeUmUser"
      ],
      "metadata": {
        "colab": {
          "base_uri": "https://localhost:8080/",
          "height": 0
        },
        "id": "aMYzdYVPFp61",
        "outputId": "127384da-ae96-4ae9-e988-8a2f7c3eed2c"
      },
      "execution_count": 50,
      "outputs": [
        {
          "output_type": "execute_result",
          "data": {
            "text/plain": [
              "      transaction_id  merchant_id  user_id       card_number  \\\n",
              "1836        21322234        73152     5156  230650******7507   \n",
              "1438        21321836        49205    13080  230650******7507   \n",
              "755         21321153        36617    79054  406655******4572   \n",
              "724         21321122         1308    96025  406655******4572   \n",
              "734         21321132         1308    96025  406655******5763   \n",
              "...              ...          ...      ...               ...   \n",
              "545         21320943        63050     4651  606282******4880   \n",
              "305         21320703        43575     3995  650516******3633   \n",
              "2545        21322943        43575    11924  650516******3633   \n",
              "2660        21323058        33192    34548  651668******2020   \n",
              "2076        21322474        68337    31847  651668******2020   \n",
              "\n",
              "      transaction_date  transaction_amount  device_id  has_cbk  \n",
              "1836  18:15 22/11/2019              306.95   774426.0    False  \n",
              "1438  19:37 23/11/2019              253.00   316601.0    False  \n",
              "755   00:04 29/11/2019             2971.56   101848.0     True  \n",
              "724   03:17 29/11/2019             1648.30   438940.0     True  \n",
              "734   02:02 29/11/2019             2904.60   438940.0     True  \n",
              "...                ...                 ...        ...      ...  \n",
              "545   18:34 29/11/2019             3068.63   571150.0     True  \n",
              "305   16:10 30/11/2019              255.15   794200.0    False  \n",
              "2545  15:00 17/11/2019              156.12   704203.0    False  \n",
              "2660  15:42 15/11/2019               30.37   203134.0    False  \n",
              "2076  21:58 21/11/2019             1571.14   372281.0    False  \n",
              "\n",
              "[71 rows x 8 columns]"
            ],
            "text/html": [
              "\n",
              "  <div id=\"df-a9d8d98a-bd87-42c3-bd04-a933bda93bce\">\n",
              "    <div class=\"colab-df-container\">\n",
              "      <div>\n",
              "<style scoped>\n",
              "    .dataframe tbody tr th:only-of-type {\n",
              "        vertical-align: middle;\n",
              "    }\n",
              "\n",
              "    .dataframe tbody tr th {\n",
              "        vertical-align: top;\n",
              "    }\n",
              "\n",
              "    .dataframe thead th {\n",
              "        text-align: right;\n",
              "    }\n",
              "</style>\n",
              "<table border=\"1\" class=\"dataframe\">\n",
              "  <thead>\n",
              "    <tr style=\"text-align: right;\">\n",
              "      <th></th>\n",
              "      <th>transaction_id</th>\n",
              "      <th>merchant_id</th>\n",
              "      <th>user_id</th>\n",
              "      <th>card_number</th>\n",
              "      <th>transaction_date</th>\n",
              "      <th>transaction_amount</th>\n",
              "      <th>device_id</th>\n",
              "      <th>has_cbk</th>\n",
              "    </tr>\n",
              "  </thead>\n",
              "  <tbody>\n",
              "    <tr>\n",
              "      <th>1836</th>\n",
              "      <td>21322234</td>\n",
              "      <td>73152</td>\n",
              "      <td>5156</td>\n",
              "      <td>230650******7507</td>\n",
              "      <td>18:15 22/11/2019</td>\n",
              "      <td>306.95</td>\n",
              "      <td>774426.0</td>\n",
              "      <td>False</td>\n",
              "    </tr>\n",
              "    <tr>\n",
              "      <th>1438</th>\n",
              "      <td>21321836</td>\n",
              "      <td>49205</td>\n",
              "      <td>13080</td>\n",
              "      <td>230650******7507</td>\n",
              "      <td>19:37 23/11/2019</td>\n",
              "      <td>253.00</td>\n",
              "      <td>316601.0</td>\n",
              "      <td>False</td>\n",
              "    </tr>\n",
              "    <tr>\n",
              "      <th>755</th>\n",
              "      <td>21321153</td>\n",
              "      <td>36617</td>\n",
              "      <td>79054</td>\n",
              "      <td>406655******4572</td>\n",
              "      <td>00:04 29/11/2019</td>\n",
              "      <td>2971.56</td>\n",
              "      <td>101848.0</td>\n",
              "      <td>True</td>\n",
              "    </tr>\n",
              "    <tr>\n",
              "      <th>724</th>\n",
              "      <td>21321122</td>\n",
              "      <td>1308</td>\n",
              "      <td>96025</td>\n",
              "      <td>406655******4572</td>\n",
              "      <td>03:17 29/11/2019</td>\n",
              "      <td>1648.30</td>\n",
              "      <td>438940.0</td>\n",
              "      <td>True</td>\n",
              "    </tr>\n",
              "    <tr>\n",
              "      <th>734</th>\n",
              "      <td>21321132</td>\n",
              "      <td>1308</td>\n",
              "      <td>96025</td>\n",
              "      <td>406655******5763</td>\n",
              "      <td>02:02 29/11/2019</td>\n",
              "      <td>2904.60</td>\n",
              "      <td>438940.0</td>\n",
              "      <td>True</td>\n",
              "    </tr>\n",
              "    <tr>\n",
              "      <th>...</th>\n",
              "      <td>...</td>\n",
              "      <td>...</td>\n",
              "      <td>...</td>\n",
              "      <td>...</td>\n",
              "      <td>...</td>\n",
              "      <td>...</td>\n",
              "      <td>...</td>\n",
              "      <td>...</td>\n",
              "    </tr>\n",
              "    <tr>\n",
              "      <th>545</th>\n",
              "      <td>21320943</td>\n",
              "      <td>63050</td>\n",
              "      <td>4651</td>\n",
              "      <td>606282******4880</td>\n",
              "      <td>18:34 29/11/2019</td>\n",
              "      <td>3068.63</td>\n",
              "      <td>571150.0</td>\n",
              "      <td>True</td>\n",
              "    </tr>\n",
              "    <tr>\n",
              "      <th>305</th>\n",
              "      <td>21320703</td>\n",
              "      <td>43575</td>\n",
              "      <td>3995</td>\n",
              "      <td>650516******3633</td>\n",
              "      <td>16:10 30/11/2019</td>\n",
              "      <td>255.15</td>\n",
              "      <td>794200.0</td>\n",
              "      <td>False</td>\n",
              "    </tr>\n",
              "    <tr>\n",
              "      <th>2545</th>\n",
              "      <td>21322943</td>\n",
              "      <td>43575</td>\n",
              "      <td>11924</td>\n",
              "      <td>650516******3633</td>\n",
              "      <td>15:00 17/11/2019</td>\n",
              "      <td>156.12</td>\n",
              "      <td>704203.0</td>\n",
              "      <td>False</td>\n",
              "    </tr>\n",
              "    <tr>\n",
              "      <th>2660</th>\n",
              "      <td>21323058</td>\n",
              "      <td>33192</td>\n",
              "      <td>34548</td>\n",
              "      <td>651668******2020</td>\n",
              "      <td>15:42 15/11/2019</td>\n",
              "      <td>30.37</td>\n",
              "      <td>203134.0</td>\n",
              "      <td>False</td>\n",
              "    </tr>\n",
              "    <tr>\n",
              "      <th>2076</th>\n",
              "      <td>21322474</td>\n",
              "      <td>68337</td>\n",
              "      <td>31847</td>\n",
              "      <td>651668******2020</td>\n",
              "      <td>21:58 21/11/2019</td>\n",
              "      <td>1571.14</td>\n",
              "      <td>372281.0</td>\n",
              "      <td>False</td>\n",
              "    </tr>\n",
              "  </tbody>\n",
              "</table>\n",
              "<p>71 rows × 8 columns</p>\n",
              "</div>\n",
              "      <button class=\"colab-df-convert\" onclick=\"convertToInteractive('df-a9d8d98a-bd87-42c3-bd04-a933bda93bce')\"\n",
              "              title=\"Convert this dataframe to an interactive table.\"\n",
              "              style=\"display:none;\">\n",
              "        \n",
              "  <svg xmlns=\"http://www.w3.org/2000/svg\" height=\"24px\"viewBox=\"0 0 24 24\"\n",
              "       width=\"24px\">\n",
              "    <path d=\"M0 0h24v24H0V0z\" fill=\"none\"/>\n",
              "    <path d=\"M18.56 5.44l.94 2.06.94-2.06 2.06-.94-2.06-.94-.94-2.06-.94 2.06-2.06.94zm-11 1L8.5 8.5l.94-2.06 2.06-.94-2.06-.94L8.5 2.5l-.94 2.06-2.06.94zm10 10l.94 2.06.94-2.06 2.06-.94-2.06-.94-.94-2.06-.94 2.06-2.06.94z\"/><path d=\"M17.41 7.96l-1.37-1.37c-.4-.4-.92-.59-1.43-.59-.52 0-1.04.2-1.43.59L10.3 9.45l-7.72 7.72c-.78.78-.78 2.05 0 2.83L4 21.41c.39.39.9.59 1.41.59.51 0 1.02-.2 1.41-.59l7.78-7.78 2.81-2.81c.8-.78.8-2.07 0-2.86zM5.41 20L4 18.59l7.72-7.72 1.47 1.35L5.41 20z\"/>\n",
              "  </svg>\n",
              "      </button>\n",
              "      \n",
              "  <style>\n",
              "    .colab-df-container {\n",
              "      display:flex;\n",
              "      flex-wrap:wrap;\n",
              "      gap: 12px;\n",
              "    }\n",
              "\n",
              "    .colab-df-convert {\n",
              "      background-color: #E8F0FE;\n",
              "      border: none;\n",
              "      border-radius: 50%;\n",
              "      cursor: pointer;\n",
              "      display: none;\n",
              "      fill: #1967D2;\n",
              "      height: 32px;\n",
              "      padding: 0 0 0 0;\n",
              "      width: 32px;\n",
              "    }\n",
              "\n",
              "    .colab-df-convert:hover {\n",
              "      background-color: #E2EBFA;\n",
              "      box-shadow: 0px 1px 2px rgba(60, 64, 67, 0.3), 0px 1px 3px 1px rgba(60, 64, 67, 0.15);\n",
              "      fill: #174EA6;\n",
              "    }\n",
              "\n",
              "    [theme=dark] .colab-df-convert {\n",
              "      background-color: #3B4455;\n",
              "      fill: #D2E3FC;\n",
              "    }\n",
              "\n",
              "    [theme=dark] .colab-df-convert:hover {\n",
              "      background-color: #434B5C;\n",
              "      box-shadow: 0px 1px 3px 1px rgba(0, 0, 0, 0.15);\n",
              "      filter: drop-shadow(0px 1px 2px rgba(0, 0, 0, 0.3));\n",
              "      fill: #FFFFFF;\n",
              "    }\n",
              "  </style>\n",
              "\n",
              "      <script>\n",
              "        const buttonEl =\n",
              "          document.querySelector('#df-a9d8d98a-bd87-42c3-bd04-a933bda93bce button.colab-df-convert');\n",
              "        buttonEl.style.display =\n",
              "          google.colab.kernel.accessAllowed ? 'block' : 'none';\n",
              "\n",
              "        async function convertToInteractive(key) {\n",
              "          const element = document.querySelector('#df-a9d8d98a-bd87-42c3-bd04-a933bda93bce');\n",
              "          const dataTable =\n",
              "            await google.colab.kernel.invokeFunction('convertToInteractive',\n",
              "                                                     [key], {});\n",
              "          if (!dataTable) return;\n",
              "\n",
              "          const docLinkHtml = 'Like what you see? Visit the ' +\n",
              "            '<a target=\"_blank\" href=https://colab.research.google.com/notebooks/data_table.ipynb>data table notebook</a>'\n",
              "            + ' to learn more about interactive tables.';\n",
              "          element.innerHTML = '';\n",
              "          dataTable['output_type'] = 'display_data';\n",
              "          await google.colab.output.renderOutput(dataTable, element);\n",
              "          const docLink = document.createElement('div');\n",
              "          docLink.innerHTML = docLinkHtml;\n",
              "          element.appendChild(docLink);\n",
              "        }\n",
              "      </script>\n",
              "    </div>\n",
              "  </div>\n",
              "  "
            ]
          },
          "metadata": {},
          "execution_count": 50
        }
      ]
    },
    {
      "cell_type": "code",
      "source": [
        "detalhesCartoesMaisdeUmUserCbkOn = detalhesCartoesMaisdeUmUser[detalhesCartoesMaisdeUmUser['has_cbk'] == True].copy()\n",
        "detalhesCartoesMaisdeUmUserCbkOn = detalhesCartoesMaisdeUmUserCbkOn.sort_values('card_number', ascending=True)\n",
        "detalhesCartoesMaisdeUmUserCbkOn"
      ],
      "metadata": {
        "colab": {
          "base_uri": "https://localhost:8080/",
          "height": 0
        },
        "id": "OZ3H2rpGSTsC",
        "outputId": "dd161ba6-fd94-473c-a079-ef17d7401df0"
      },
      "execution_count": 51,
      "outputs": [
        {
          "output_type": "execute_result",
          "data": {
            "text/plain": [
              "      transaction_id  merchant_id  user_id       card_number  \\\n",
              "755         21321153        36617    79054  406655******4572   \n",
              "724         21321122         1308    96025  406655******4572   \n",
              "734         21321132         1308    96025  406655******5763   \n",
              "727         21321125         1308    79054  406655******5763   \n",
              "596         21320994         1308    96025  406655******7343   \n",
              "569         21320967         1308    96025  406655******7343   \n",
              "692         21321090         1308    79054  406655******7343   \n",
              "1800        21322198        53041      900  412177******1138   \n",
              "1212        21321610        90035    85612  412177******1138   \n",
              "32          21320430        56977    69758  464296******3991   \n",
              "86          21320484        84970    90182  464296******3991   \n",
              "3           21320401        68657    69758  464296******3991   \n",
              "583         21320981        29214    50643  490172******3386   \n",
              "604         21321002        29214    50643  490172******3386   \n",
              "855         21321253        29214    71424  490172******3386   \n",
              "2049        21322447         4705    91637  496045******1160   \n",
              "1078        21321476        42356    76422  498408******4290   \n",
              "1057        21321455        42356    11065  498408******4290   \n",
              "1076        21321474        42356    76422  498408******4290   \n",
              "306         21320704        38568    99396  536380******6214   \n",
              "425         21320823         3531    52129  544731******8590   \n",
              "416         21320814         3531    52129  544731******8590   \n",
              "299         21320697        63050    59418  606282******4880   \n",
              "545         21320943        63050     4651  606282******4880   \n",
              "\n",
              "      transaction_date  transaction_amount  device_id  has_cbk  \n",
              "755   00:04 29/11/2019             2971.56   101848.0     True  \n",
              "724   03:17 29/11/2019             1648.30   438940.0     True  \n",
              "734   02:02 29/11/2019             2904.60   438940.0     True  \n",
              "727   02:58 29/11/2019             1834.09   101848.0     True  \n",
              "596   16:46 29/11/2019             2288.47   438940.0     True  \n",
              "569   17:42 29/11/2019             2259.99   438940.0     True  \n",
              "692   12:51 29/11/2019             2231.98   101848.0     True  \n",
              "1800  19:15 22/11/2019             1346.26   691601.0     True  \n",
              "1212  14:11 26/11/2019              556.91   653105.0     True  \n",
              "32    19:17 01/12/2019             2803.32        NaN     True  \n",
              "86    14:46 01/12/2019             3782.17   769545.0     True  \n",
              "3     21:59 01/12/2019             2556.13        NaN     True  \n",
              "583   17:15 29/11/2019              605.60   570971.0     True  \n",
              "604   16:32 29/11/2019              725.94   570971.0     True  \n",
              "855   19:58 28/11/2019              511.79   453490.0     True  \n",
              "2049  23:46 21/11/2019              905.32   563499.0     True  \n",
              "1078  19:07 27/11/2019              452.67   374474.0     True  \n",
              "1057  22:11 27/11/2019              306.14   698520.0     True  \n",
              "1076  19:10 27/11/2019              549.90   374474.0     True  \n",
              "306   16:09 30/11/2019             3627.51   834436.0     True  \n",
              "425   00:15 30/11/2019              989.12   307489.0     True  \n",
              "416   00:44 30/11/2019              248.97   307489.0     True  \n",
              "299   16:24 30/11/2019             3003.40   790490.0     True  \n",
              "545   18:34 29/11/2019             3068.63   571150.0     True  "
            ],
            "text/html": [
              "\n",
              "  <div id=\"df-ce414626-3eda-4c8b-9153-e8c427f139d0\">\n",
              "    <div class=\"colab-df-container\">\n",
              "      <div>\n",
              "<style scoped>\n",
              "    .dataframe tbody tr th:only-of-type {\n",
              "        vertical-align: middle;\n",
              "    }\n",
              "\n",
              "    .dataframe tbody tr th {\n",
              "        vertical-align: top;\n",
              "    }\n",
              "\n",
              "    .dataframe thead th {\n",
              "        text-align: right;\n",
              "    }\n",
              "</style>\n",
              "<table border=\"1\" class=\"dataframe\">\n",
              "  <thead>\n",
              "    <tr style=\"text-align: right;\">\n",
              "      <th></th>\n",
              "      <th>transaction_id</th>\n",
              "      <th>merchant_id</th>\n",
              "      <th>user_id</th>\n",
              "      <th>card_number</th>\n",
              "      <th>transaction_date</th>\n",
              "      <th>transaction_amount</th>\n",
              "      <th>device_id</th>\n",
              "      <th>has_cbk</th>\n",
              "    </tr>\n",
              "  </thead>\n",
              "  <tbody>\n",
              "    <tr>\n",
              "      <th>755</th>\n",
              "      <td>21321153</td>\n",
              "      <td>36617</td>\n",
              "      <td>79054</td>\n",
              "      <td>406655******4572</td>\n",
              "      <td>00:04 29/11/2019</td>\n",
              "      <td>2971.56</td>\n",
              "      <td>101848.0</td>\n",
              "      <td>True</td>\n",
              "    </tr>\n",
              "    <tr>\n",
              "      <th>724</th>\n",
              "      <td>21321122</td>\n",
              "      <td>1308</td>\n",
              "      <td>96025</td>\n",
              "      <td>406655******4572</td>\n",
              "      <td>03:17 29/11/2019</td>\n",
              "      <td>1648.30</td>\n",
              "      <td>438940.0</td>\n",
              "      <td>True</td>\n",
              "    </tr>\n",
              "    <tr>\n",
              "      <th>734</th>\n",
              "      <td>21321132</td>\n",
              "      <td>1308</td>\n",
              "      <td>96025</td>\n",
              "      <td>406655******5763</td>\n",
              "      <td>02:02 29/11/2019</td>\n",
              "      <td>2904.60</td>\n",
              "      <td>438940.0</td>\n",
              "      <td>True</td>\n",
              "    </tr>\n",
              "    <tr>\n",
              "      <th>727</th>\n",
              "      <td>21321125</td>\n",
              "      <td>1308</td>\n",
              "      <td>79054</td>\n",
              "      <td>406655******5763</td>\n",
              "      <td>02:58 29/11/2019</td>\n",
              "      <td>1834.09</td>\n",
              "      <td>101848.0</td>\n",
              "      <td>True</td>\n",
              "    </tr>\n",
              "    <tr>\n",
              "      <th>596</th>\n",
              "      <td>21320994</td>\n",
              "      <td>1308</td>\n",
              "      <td>96025</td>\n",
              "      <td>406655******7343</td>\n",
              "      <td>16:46 29/11/2019</td>\n",
              "      <td>2288.47</td>\n",
              "      <td>438940.0</td>\n",
              "      <td>True</td>\n",
              "    </tr>\n",
              "    <tr>\n",
              "      <th>569</th>\n",
              "      <td>21320967</td>\n",
              "      <td>1308</td>\n",
              "      <td>96025</td>\n",
              "      <td>406655******7343</td>\n",
              "      <td>17:42 29/11/2019</td>\n",
              "      <td>2259.99</td>\n",
              "      <td>438940.0</td>\n",
              "      <td>True</td>\n",
              "    </tr>\n",
              "    <tr>\n",
              "      <th>692</th>\n",
              "      <td>21321090</td>\n",
              "      <td>1308</td>\n",
              "      <td>79054</td>\n",
              "      <td>406655******7343</td>\n",
              "      <td>12:51 29/11/2019</td>\n",
              "      <td>2231.98</td>\n",
              "      <td>101848.0</td>\n",
              "      <td>True</td>\n",
              "    </tr>\n",
              "    <tr>\n",
              "      <th>1800</th>\n",
              "      <td>21322198</td>\n",
              "      <td>53041</td>\n",
              "      <td>900</td>\n",
              "      <td>412177******1138</td>\n",
              "      <td>19:15 22/11/2019</td>\n",
              "      <td>1346.26</td>\n",
              "      <td>691601.0</td>\n",
              "      <td>True</td>\n",
              "    </tr>\n",
              "    <tr>\n",
              "      <th>1212</th>\n",
              "      <td>21321610</td>\n",
              "      <td>90035</td>\n",
              "      <td>85612</td>\n",
              "      <td>412177******1138</td>\n",
              "      <td>14:11 26/11/2019</td>\n",
              "      <td>556.91</td>\n",
              "      <td>653105.0</td>\n",
              "      <td>True</td>\n",
              "    </tr>\n",
              "    <tr>\n",
              "      <th>32</th>\n",
              "      <td>21320430</td>\n",
              "      <td>56977</td>\n",
              "      <td>69758</td>\n",
              "      <td>464296******3991</td>\n",
              "      <td>19:17 01/12/2019</td>\n",
              "      <td>2803.32</td>\n",
              "      <td>NaN</td>\n",
              "      <td>True</td>\n",
              "    </tr>\n",
              "    <tr>\n",
              "      <th>86</th>\n",
              "      <td>21320484</td>\n",
              "      <td>84970</td>\n",
              "      <td>90182</td>\n",
              "      <td>464296******3991</td>\n",
              "      <td>14:46 01/12/2019</td>\n",
              "      <td>3782.17</td>\n",
              "      <td>769545.0</td>\n",
              "      <td>True</td>\n",
              "    </tr>\n",
              "    <tr>\n",
              "      <th>3</th>\n",
              "      <td>21320401</td>\n",
              "      <td>68657</td>\n",
              "      <td>69758</td>\n",
              "      <td>464296******3991</td>\n",
              "      <td>21:59 01/12/2019</td>\n",
              "      <td>2556.13</td>\n",
              "      <td>NaN</td>\n",
              "      <td>True</td>\n",
              "    </tr>\n",
              "    <tr>\n",
              "      <th>583</th>\n",
              "      <td>21320981</td>\n",
              "      <td>29214</td>\n",
              "      <td>50643</td>\n",
              "      <td>490172******3386</td>\n",
              "      <td>17:15 29/11/2019</td>\n",
              "      <td>605.60</td>\n",
              "      <td>570971.0</td>\n",
              "      <td>True</td>\n",
              "    </tr>\n",
              "    <tr>\n",
              "      <th>604</th>\n",
              "      <td>21321002</td>\n",
              "      <td>29214</td>\n",
              "      <td>50643</td>\n",
              "      <td>490172******3386</td>\n",
              "      <td>16:32 29/11/2019</td>\n",
              "      <td>725.94</td>\n",
              "      <td>570971.0</td>\n",
              "      <td>True</td>\n",
              "    </tr>\n",
              "    <tr>\n",
              "      <th>855</th>\n",
              "      <td>21321253</td>\n",
              "      <td>29214</td>\n",
              "      <td>71424</td>\n",
              "      <td>490172******3386</td>\n",
              "      <td>19:58 28/11/2019</td>\n",
              "      <td>511.79</td>\n",
              "      <td>453490.0</td>\n",
              "      <td>True</td>\n",
              "    </tr>\n",
              "    <tr>\n",
              "      <th>2049</th>\n",
              "      <td>21322447</td>\n",
              "      <td>4705</td>\n",
              "      <td>91637</td>\n",
              "      <td>496045******1160</td>\n",
              "      <td>23:46 21/11/2019</td>\n",
              "      <td>905.32</td>\n",
              "      <td>563499.0</td>\n",
              "      <td>True</td>\n",
              "    </tr>\n",
              "    <tr>\n",
              "      <th>1078</th>\n",
              "      <td>21321476</td>\n",
              "      <td>42356</td>\n",
              "      <td>76422</td>\n",
              "      <td>498408******4290</td>\n",
              "      <td>19:07 27/11/2019</td>\n",
              "      <td>452.67</td>\n",
              "      <td>374474.0</td>\n",
              "      <td>True</td>\n",
              "    </tr>\n",
              "    <tr>\n",
              "      <th>1057</th>\n",
              "      <td>21321455</td>\n",
              "      <td>42356</td>\n",
              "      <td>11065</td>\n",
              "      <td>498408******4290</td>\n",
              "      <td>22:11 27/11/2019</td>\n",
              "      <td>306.14</td>\n",
              "      <td>698520.0</td>\n",
              "      <td>True</td>\n",
              "    </tr>\n",
              "    <tr>\n",
              "      <th>1076</th>\n",
              "      <td>21321474</td>\n",
              "      <td>42356</td>\n",
              "      <td>76422</td>\n",
              "      <td>498408******4290</td>\n",
              "      <td>19:10 27/11/2019</td>\n",
              "      <td>549.90</td>\n",
              "      <td>374474.0</td>\n",
              "      <td>True</td>\n",
              "    </tr>\n",
              "    <tr>\n",
              "      <th>306</th>\n",
              "      <td>21320704</td>\n",
              "      <td>38568</td>\n",
              "      <td>99396</td>\n",
              "      <td>536380******6214</td>\n",
              "      <td>16:09 30/11/2019</td>\n",
              "      <td>3627.51</td>\n",
              "      <td>834436.0</td>\n",
              "      <td>True</td>\n",
              "    </tr>\n",
              "    <tr>\n",
              "      <th>425</th>\n",
              "      <td>21320823</td>\n",
              "      <td>3531</td>\n",
              "      <td>52129</td>\n",
              "      <td>544731******8590</td>\n",
              "      <td>00:15 30/11/2019</td>\n",
              "      <td>989.12</td>\n",
              "      <td>307489.0</td>\n",
              "      <td>True</td>\n",
              "    </tr>\n",
              "    <tr>\n",
              "      <th>416</th>\n",
              "      <td>21320814</td>\n",
              "      <td>3531</td>\n",
              "      <td>52129</td>\n",
              "      <td>544731******8590</td>\n",
              "      <td>00:44 30/11/2019</td>\n",
              "      <td>248.97</td>\n",
              "      <td>307489.0</td>\n",
              "      <td>True</td>\n",
              "    </tr>\n",
              "    <tr>\n",
              "      <th>299</th>\n",
              "      <td>21320697</td>\n",
              "      <td>63050</td>\n",
              "      <td>59418</td>\n",
              "      <td>606282******4880</td>\n",
              "      <td>16:24 30/11/2019</td>\n",
              "      <td>3003.40</td>\n",
              "      <td>790490.0</td>\n",
              "      <td>True</td>\n",
              "    </tr>\n",
              "    <tr>\n",
              "      <th>545</th>\n",
              "      <td>21320943</td>\n",
              "      <td>63050</td>\n",
              "      <td>4651</td>\n",
              "      <td>606282******4880</td>\n",
              "      <td>18:34 29/11/2019</td>\n",
              "      <td>3068.63</td>\n",
              "      <td>571150.0</td>\n",
              "      <td>True</td>\n",
              "    </tr>\n",
              "  </tbody>\n",
              "</table>\n",
              "</div>\n",
              "      <button class=\"colab-df-convert\" onclick=\"convertToInteractive('df-ce414626-3eda-4c8b-9153-e8c427f139d0')\"\n",
              "              title=\"Convert this dataframe to an interactive table.\"\n",
              "              style=\"display:none;\">\n",
              "        \n",
              "  <svg xmlns=\"http://www.w3.org/2000/svg\" height=\"24px\"viewBox=\"0 0 24 24\"\n",
              "       width=\"24px\">\n",
              "    <path d=\"M0 0h24v24H0V0z\" fill=\"none\"/>\n",
              "    <path d=\"M18.56 5.44l.94 2.06.94-2.06 2.06-.94-2.06-.94-.94-2.06-.94 2.06-2.06.94zm-11 1L8.5 8.5l.94-2.06 2.06-.94-2.06-.94L8.5 2.5l-.94 2.06-2.06.94zm10 10l.94 2.06.94-2.06 2.06-.94-2.06-.94-.94-2.06-.94 2.06-2.06.94z\"/><path d=\"M17.41 7.96l-1.37-1.37c-.4-.4-.92-.59-1.43-.59-.52 0-1.04.2-1.43.59L10.3 9.45l-7.72 7.72c-.78.78-.78 2.05 0 2.83L4 21.41c.39.39.9.59 1.41.59.51 0 1.02-.2 1.41-.59l7.78-7.78 2.81-2.81c.8-.78.8-2.07 0-2.86zM5.41 20L4 18.59l7.72-7.72 1.47 1.35L5.41 20z\"/>\n",
              "  </svg>\n",
              "      </button>\n",
              "      \n",
              "  <style>\n",
              "    .colab-df-container {\n",
              "      display:flex;\n",
              "      flex-wrap:wrap;\n",
              "      gap: 12px;\n",
              "    }\n",
              "\n",
              "    .colab-df-convert {\n",
              "      background-color: #E8F0FE;\n",
              "      border: none;\n",
              "      border-radius: 50%;\n",
              "      cursor: pointer;\n",
              "      display: none;\n",
              "      fill: #1967D2;\n",
              "      height: 32px;\n",
              "      padding: 0 0 0 0;\n",
              "      width: 32px;\n",
              "    }\n",
              "\n",
              "    .colab-df-convert:hover {\n",
              "      background-color: #E2EBFA;\n",
              "      box-shadow: 0px 1px 2px rgba(60, 64, 67, 0.3), 0px 1px 3px 1px rgba(60, 64, 67, 0.15);\n",
              "      fill: #174EA6;\n",
              "    }\n",
              "\n",
              "    [theme=dark] .colab-df-convert {\n",
              "      background-color: #3B4455;\n",
              "      fill: #D2E3FC;\n",
              "    }\n",
              "\n",
              "    [theme=dark] .colab-df-convert:hover {\n",
              "      background-color: #434B5C;\n",
              "      box-shadow: 0px 1px 3px 1px rgba(0, 0, 0, 0.15);\n",
              "      filter: drop-shadow(0px 1px 2px rgba(0, 0, 0, 0.3));\n",
              "      fill: #FFFFFF;\n",
              "    }\n",
              "  </style>\n",
              "\n",
              "      <script>\n",
              "        const buttonEl =\n",
              "          document.querySelector('#df-ce414626-3eda-4c8b-9153-e8c427f139d0 button.colab-df-convert');\n",
              "        buttonEl.style.display =\n",
              "          google.colab.kernel.accessAllowed ? 'block' : 'none';\n",
              "\n",
              "        async function convertToInteractive(key) {\n",
              "          const element = document.querySelector('#df-ce414626-3eda-4c8b-9153-e8c427f139d0');\n",
              "          const dataTable =\n",
              "            await google.colab.kernel.invokeFunction('convertToInteractive',\n",
              "                                                     [key], {});\n",
              "          if (!dataTable) return;\n",
              "\n",
              "          const docLinkHtml = 'Like what you see? Visit the ' +\n",
              "            '<a target=\"_blank\" href=https://colab.research.google.com/notebooks/data_table.ipynb>data table notebook</a>'\n",
              "            + ' to learn more about interactive tables.';\n",
              "          element.innerHTML = '';\n",
              "          dataTable['output_type'] = 'display_data';\n",
              "          await google.colab.output.renderOutput(dataTable, element);\n",
              "          const docLink = document.createElement('div');\n",
              "          docLink.innerHTML = docLinkHtml;\n",
              "          element.appendChild(docLink);\n",
              "        }\n",
              "      </script>\n",
              "    </div>\n",
              "  </div>\n",
              "  "
            ]
          },
          "metadata": {},
          "execution_count": 51
        }
      ]
    },
    {
      "cell_type": "markdown",
      "source": [
        "\n",
        "\n",
        "---\n",
        "\n",
        "### Indicando os players que só tiveram cbk"
      ],
      "metadata": {
        "id": "LCPaRVU8sIVH"
      }
    },
    {
      "cell_type": "code",
      "source": [
        "lojistasComFraudeApenas = np.setdiff1d(lojistaComFraude, lojistaSemFraude)\n",
        "clientesComFraudeApenas = np.setdiff1d(clienteComFraude, clienteSemFraude)\n",
        "cartoesComFraudeApenas = np.setdiff1d(cartoesComFraude, cartoesSemFraude)\n",
        "dispositivosComFraudeApenas = np.setdiff1d(dispositivoComFraude, dispositivoSemFraude)\n",
        "dispositivosComFraudeApenas = pd.Series(dispositivosComFraudeApenas).dropna().tolist()"
      ],
      "metadata": {
        "id": "RLQmihfTs5MK"
      },
      "execution_count": 52,
      "outputs": []
    },
    {
      "cell_type": "code",
      "source": [
        "lojistasSemFraudeApenas = np.setdiff1d(lojistaSemFraude, lojistaComFraude)\n",
        "clientesSemFraudeApenas = np.setdiff1d(clienteSemFraude, clienteComFraude)\n",
        "cartoesSemFraudeApenas = np.setdiff1d(cartoesSemFraude, cartoesComFraude)\n",
        "dispositivosSemFraudeApenas = np.setdiff1d(dispositivoSemFraude, dispositivoComFraude)\n",
        "dispositivosSemFraudeApenas = pd.Series(dispositivosSemFraudeApenas).dropna().tolist()\n",
        "len(dispositivosSemFraudeApenas)"
      ],
      "metadata": {
        "colab": {
          "base_uri": "https://localhost:8080/"
        },
        "id": "R5Du34nUtbPK",
        "outputId": "39e719f6-27e4-48c2-a7eb-828752e38da8"
      },
      "execution_count": 53,
      "outputs": [
        {
          "output_type": "execute_result",
          "data": {
            "text/plain": [
              "1867"
            ]
          },
          "metadata": {},
          "execution_count": 53
        }
      ]
    },
    {
      "cell_type": "markdown",
      "source": [
        "### Identificando os clientes com mais de 1 cartao"
      ],
      "metadata": {
        "id": "9FiyvvKu1z2u"
      }
    },
    {
      "cell_type": "code",
      "source": [
        "contagemCartoes = BancoDados.groupby('user_id')['card_number'].nunique()\n",
        "clientesMaisDeUmCartao = contagemCartoes[contagemCartoes > 1].index.tolist()\n",
        "comprasClientesMaisDeUmCartao = BancoDados[BancoDados['user_id'].isin(clientesMaisDeUmCartao)]\n",
        "comprasClientesMaisDeUmCartao = comprasClientesMaisDeUmCartao.sort_values('user_id')\n",
        "quantidadeClientesMaisDeUmCartao = comprasClientesMaisDeUmCartao['user_id'].nunique()\n",
        "comprasClientesMaisDeUmCartao"
      ],
      "metadata": {
        "colab": {
          "base_uri": "https://localhost:8080/",
          "height": 0
        },
        "id": "Rq7ZM5xE15Ly",
        "outputId": "a5207c3f-b12b-4073-f324-544e0df721f7"
      },
      "execution_count": 54,
      "outputs": [
        {
          "output_type": "execute_result",
          "data": {
            "text/plain": [
              "      transaction_id  merchant_id  user_id       card_number  \\\n",
              "2520        21322918        42687     1516  423153******7295   \n",
              "2324        21322722        42687     1516  423153******7583   \n",
              "948         21321346           91     1668  406441******1400   \n",
              "2021        21322419           91     1668  536518******2118   \n",
              "450         21320848        23591     1836  444456******3799   \n",
              "...              ...          ...      ...               ...   \n",
              "419         21320817        38568    99396  422100******2853   \n",
              "327         21320725        38568    99396  412177******2318   \n",
              "306         21320704        38568    99396  536380******6214   \n",
              "1709        21322107         8754    99850  655000******8835   \n",
              "2480        21322878         8754    99850  428267******4023   \n",
              "\n",
              "      transaction_date  transaction_amount  device_id  has_cbk  \n",
              "2520  18:19 17/11/2019             1354.65   167508.0    False  \n",
              "2324  15:41 19/11/2019             3375.01   167508.0    False  \n",
              "948   16:22 28/11/2019              466.36   208768.0    False  \n",
              "2021  01:55 22/11/2019             1052.86   208768.0    False  \n",
              "450   23:12 29/11/2019              708.34   889989.0    False  \n",
              "...                ...                 ...        ...      ...  \n",
              "419   00:29 30/11/2019              471.94   834436.0     True  \n",
              "327   15:09 30/11/2019             2559.25   248385.0     True  \n",
              "306   16:09 30/11/2019             3627.51   834436.0     True  \n",
              "1709  22:48 22/11/2019             2593.15   880573.0    False  \n",
              "2480  12:35 18/11/2019              668.78   880573.0    False  \n",
              "\n",
              "[435 rows x 8 columns]"
            ],
            "text/html": [
              "\n",
              "  <div id=\"df-381ac974-3539-428c-8324-2384f9bc655d\">\n",
              "    <div class=\"colab-df-container\">\n",
              "      <div>\n",
              "<style scoped>\n",
              "    .dataframe tbody tr th:only-of-type {\n",
              "        vertical-align: middle;\n",
              "    }\n",
              "\n",
              "    .dataframe tbody tr th {\n",
              "        vertical-align: top;\n",
              "    }\n",
              "\n",
              "    .dataframe thead th {\n",
              "        text-align: right;\n",
              "    }\n",
              "</style>\n",
              "<table border=\"1\" class=\"dataframe\">\n",
              "  <thead>\n",
              "    <tr style=\"text-align: right;\">\n",
              "      <th></th>\n",
              "      <th>transaction_id</th>\n",
              "      <th>merchant_id</th>\n",
              "      <th>user_id</th>\n",
              "      <th>card_number</th>\n",
              "      <th>transaction_date</th>\n",
              "      <th>transaction_amount</th>\n",
              "      <th>device_id</th>\n",
              "      <th>has_cbk</th>\n",
              "    </tr>\n",
              "  </thead>\n",
              "  <tbody>\n",
              "    <tr>\n",
              "      <th>2520</th>\n",
              "      <td>21322918</td>\n",
              "      <td>42687</td>\n",
              "      <td>1516</td>\n",
              "      <td>423153******7295</td>\n",
              "      <td>18:19 17/11/2019</td>\n",
              "      <td>1354.65</td>\n",
              "      <td>167508.0</td>\n",
              "      <td>False</td>\n",
              "    </tr>\n",
              "    <tr>\n",
              "      <th>2324</th>\n",
              "      <td>21322722</td>\n",
              "      <td>42687</td>\n",
              "      <td>1516</td>\n",
              "      <td>423153******7583</td>\n",
              "      <td>15:41 19/11/2019</td>\n",
              "      <td>3375.01</td>\n",
              "      <td>167508.0</td>\n",
              "      <td>False</td>\n",
              "    </tr>\n",
              "    <tr>\n",
              "      <th>948</th>\n",
              "      <td>21321346</td>\n",
              "      <td>91</td>\n",
              "      <td>1668</td>\n",
              "      <td>406441******1400</td>\n",
              "      <td>16:22 28/11/2019</td>\n",
              "      <td>466.36</td>\n",
              "      <td>208768.0</td>\n",
              "      <td>False</td>\n",
              "    </tr>\n",
              "    <tr>\n",
              "      <th>2021</th>\n",
              "      <td>21322419</td>\n",
              "      <td>91</td>\n",
              "      <td>1668</td>\n",
              "      <td>536518******2118</td>\n",
              "      <td>01:55 22/11/2019</td>\n",
              "      <td>1052.86</td>\n",
              "      <td>208768.0</td>\n",
              "      <td>False</td>\n",
              "    </tr>\n",
              "    <tr>\n",
              "      <th>450</th>\n",
              "      <td>21320848</td>\n",
              "      <td>23591</td>\n",
              "      <td>1836</td>\n",
              "      <td>444456******3799</td>\n",
              "      <td>23:12 29/11/2019</td>\n",
              "      <td>708.34</td>\n",
              "      <td>889989.0</td>\n",
              "      <td>False</td>\n",
              "    </tr>\n",
              "    <tr>\n",
              "      <th>...</th>\n",
              "      <td>...</td>\n",
              "      <td>...</td>\n",
              "      <td>...</td>\n",
              "      <td>...</td>\n",
              "      <td>...</td>\n",
              "      <td>...</td>\n",
              "      <td>...</td>\n",
              "      <td>...</td>\n",
              "    </tr>\n",
              "    <tr>\n",
              "      <th>419</th>\n",
              "      <td>21320817</td>\n",
              "      <td>38568</td>\n",
              "      <td>99396</td>\n",
              "      <td>422100******2853</td>\n",
              "      <td>00:29 30/11/2019</td>\n",
              "      <td>471.94</td>\n",
              "      <td>834436.0</td>\n",
              "      <td>True</td>\n",
              "    </tr>\n",
              "    <tr>\n",
              "      <th>327</th>\n",
              "      <td>21320725</td>\n",
              "      <td>38568</td>\n",
              "      <td>99396</td>\n",
              "      <td>412177******2318</td>\n",
              "      <td>15:09 30/11/2019</td>\n",
              "      <td>2559.25</td>\n",
              "      <td>248385.0</td>\n",
              "      <td>True</td>\n",
              "    </tr>\n",
              "    <tr>\n",
              "      <th>306</th>\n",
              "      <td>21320704</td>\n",
              "      <td>38568</td>\n",
              "      <td>99396</td>\n",
              "      <td>536380******6214</td>\n",
              "      <td>16:09 30/11/2019</td>\n",
              "      <td>3627.51</td>\n",
              "      <td>834436.0</td>\n",
              "      <td>True</td>\n",
              "    </tr>\n",
              "    <tr>\n",
              "      <th>1709</th>\n",
              "      <td>21322107</td>\n",
              "      <td>8754</td>\n",
              "      <td>99850</td>\n",
              "      <td>655000******8835</td>\n",
              "      <td>22:48 22/11/2019</td>\n",
              "      <td>2593.15</td>\n",
              "      <td>880573.0</td>\n",
              "      <td>False</td>\n",
              "    </tr>\n",
              "    <tr>\n",
              "      <th>2480</th>\n",
              "      <td>21322878</td>\n",
              "      <td>8754</td>\n",
              "      <td>99850</td>\n",
              "      <td>428267******4023</td>\n",
              "      <td>12:35 18/11/2019</td>\n",
              "      <td>668.78</td>\n",
              "      <td>880573.0</td>\n",
              "      <td>False</td>\n",
              "    </tr>\n",
              "  </tbody>\n",
              "</table>\n",
              "<p>435 rows × 8 columns</p>\n",
              "</div>\n",
              "      <button class=\"colab-df-convert\" onclick=\"convertToInteractive('df-381ac974-3539-428c-8324-2384f9bc655d')\"\n",
              "              title=\"Convert this dataframe to an interactive table.\"\n",
              "              style=\"display:none;\">\n",
              "        \n",
              "  <svg xmlns=\"http://www.w3.org/2000/svg\" height=\"24px\"viewBox=\"0 0 24 24\"\n",
              "       width=\"24px\">\n",
              "    <path d=\"M0 0h24v24H0V0z\" fill=\"none\"/>\n",
              "    <path d=\"M18.56 5.44l.94 2.06.94-2.06 2.06-.94-2.06-.94-.94-2.06-.94 2.06-2.06.94zm-11 1L8.5 8.5l.94-2.06 2.06-.94-2.06-.94L8.5 2.5l-.94 2.06-2.06.94zm10 10l.94 2.06.94-2.06 2.06-.94-2.06-.94-.94-2.06-.94 2.06-2.06.94z\"/><path d=\"M17.41 7.96l-1.37-1.37c-.4-.4-.92-.59-1.43-.59-.52 0-1.04.2-1.43.59L10.3 9.45l-7.72 7.72c-.78.78-.78 2.05 0 2.83L4 21.41c.39.39.9.59 1.41.59.51 0 1.02-.2 1.41-.59l7.78-7.78 2.81-2.81c.8-.78.8-2.07 0-2.86zM5.41 20L4 18.59l7.72-7.72 1.47 1.35L5.41 20z\"/>\n",
              "  </svg>\n",
              "      </button>\n",
              "      \n",
              "  <style>\n",
              "    .colab-df-container {\n",
              "      display:flex;\n",
              "      flex-wrap:wrap;\n",
              "      gap: 12px;\n",
              "    }\n",
              "\n",
              "    .colab-df-convert {\n",
              "      background-color: #E8F0FE;\n",
              "      border: none;\n",
              "      border-radius: 50%;\n",
              "      cursor: pointer;\n",
              "      display: none;\n",
              "      fill: #1967D2;\n",
              "      height: 32px;\n",
              "      padding: 0 0 0 0;\n",
              "      width: 32px;\n",
              "    }\n",
              "\n",
              "    .colab-df-convert:hover {\n",
              "      background-color: #E2EBFA;\n",
              "      box-shadow: 0px 1px 2px rgba(60, 64, 67, 0.3), 0px 1px 3px 1px rgba(60, 64, 67, 0.15);\n",
              "      fill: #174EA6;\n",
              "    }\n",
              "\n",
              "    [theme=dark] .colab-df-convert {\n",
              "      background-color: #3B4455;\n",
              "      fill: #D2E3FC;\n",
              "    }\n",
              "\n",
              "    [theme=dark] .colab-df-convert:hover {\n",
              "      background-color: #434B5C;\n",
              "      box-shadow: 0px 1px 3px 1px rgba(0, 0, 0, 0.15);\n",
              "      filter: drop-shadow(0px 1px 2px rgba(0, 0, 0, 0.3));\n",
              "      fill: #FFFFFF;\n",
              "    }\n",
              "  </style>\n",
              "\n",
              "      <script>\n",
              "        const buttonEl =\n",
              "          document.querySelector('#df-381ac974-3539-428c-8324-2384f9bc655d button.colab-df-convert');\n",
              "        buttonEl.style.display =\n",
              "          google.colab.kernel.accessAllowed ? 'block' : 'none';\n",
              "\n",
              "        async function convertToInteractive(key) {\n",
              "          const element = document.querySelector('#df-381ac974-3539-428c-8324-2384f9bc655d');\n",
              "          const dataTable =\n",
              "            await google.colab.kernel.invokeFunction('convertToInteractive',\n",
              "                                                     [key], {});\n",
              "          if (!dataTable) return;\n",
              "\n",
              "          const docLinkHtml = 'Like what you see? Visit the ' +\n",
              "            '<a target=\"_blank\" href=https://colab.research.google.com/notebooks/data_table.ipynb>data table notebook</a>'\n",
              "            + ' to learn more about interactive tables.';\n",
              "          element.innerHTML = '';\n",
              "          dataTable['output_type'] = 'display_data';\n",
              "          await google.colab.output.renderOutput(dataTable, element);\n",
              "          const docLink = document.createElement('div');\n",
              "          docLink.innerHTML = docLinkHtml;\n",
              "          element.appendChild(docLink);\n",
              "        }\n",
              "      </script>\n",
              "    </div>\n",
              "  </div>\n",
              "  "
            ]
          },
          "metadata": {},
          "execution_count": 54
        }
      ]
    },
    {
      "cell_type": "code",
      "source": [
        "comprasClientesMaisDeUmCartaoCbkOn = comprasClientesMaisDeUmCartao.loc[comprasClientesMaisDeUmCartao['has_cbk'] == True]\n",
        "listaClientesMaisDeUmCartaoCbkOn = comprasClientesMaisDeUmCartaoCbkOn['user_id'].unique()\n",
        "comprasClientesMaisDeUmCartaoCbkOn"
      ],
      "metadata": {
        "colab": {
          "base_uri": "https://localhost:8080/",
          "height": 0
        },
        "id": "Q4RV9knYvmyr",
        "outputId": "40b20ce3-20ce-4021-8489-159d2d627dd6"
      },
      "execution_count": 55,
      "outputs": [
        {
          "output_type": "execute_result",
          "data": {
            "text/plain": [
              "      transaction_id  merchant_id  user_id       card_number  \\\n",
              "1           21320399        92895     2708  444456******4210   \n",
              "1050        21321448        55854     3584  544731******9913   \n",
              "1068        21321466        55854     3584  544731******7164   \n",
              "1069        21321467        55854     3584  544731******7164   \n",
              "1074        21321472        55854     3584  544731******7164   \n",
              "...              ...          ...      ...               ...   \n",
              "472         21320870        38568    99396  606282******6990   \n",
              "446         21320844        38568    99396  524703******3515   \n",
              "419         21320817        38568    99396  422100******2853   \n",
              "327         21320725        38568    99396  412177******2318   \n",
              "306         21320704        38568    99396  536380******6214   \n",
              "\n",
              "      transaction_date  transaction_amount  device_id  has_cbk  \n",
              "1     22:45 01/12/2019              734.87   497105.0     True  \n",
              "1050  23:20 27/11/2019              542.36   707086.0     True  \n",
              "1068  20:03 27/11/2019              607.96   707086.0     True  \n",
              "1069  19:56 27/11/2019              971.97   707086.0     True  \n",
              "1074  19:27 27/11/2019              529.19   707086.0     True  \n",
              "...                ...                 ...        ...      ...  \n",
              "472   21:43 29/11/2019              820.01   278124.0     True  \n",
              "446   23:25 29/11/2019             2580.62   278124.0     True  \n",
              "419   00:29 30/11/2019              471.94   834436.0     True  \n",
              "327   15:09 30/11/2019             2559.25   248385.0     True  \n",
              "306   16:09 30/11/2019             3627.51   834436.0     True  \n",
              "\n",
              "[232 rows x 8 columns]"
            ],
            "text/html": [
              "\n",
              "  <div id=\"df-ef6a356f-7587-4cec-9b7b-790132c1eae1\">\n",
              "    <div class=\"colab-df-container\">\n",
              "      <div>\n",
              "<style scoped>\n",
              "    .dataframe tbody tr th:only-of-type {\n",
              "        vertical-align: middle;\n",
              "    }\n",
              "\n",
              "    .dataframe tbody tr th {\n",
              "        vertical-align: top;\n",
              "    }\n",
              "\n",
              "    .dataframe thead th {\n",
              "        text-align: right;\n",
              "    }\n",
              "</style>\n",
              "<table border=\"1\" class=\"dataframe\">\n",
              "  <thead>\n",
              "    <tr style=\"text-align: right;\">\n",
              "      <th></th>\n",
              "      <th>transaction_id</th>\n",
              "      <th>merchant_id</th>\n",
              "      <th>user_id</th>\n",
              "      <th>card_number</th>\n",
              "      <th>transaction_date</th>\n",
              "      <th>transaction_amount</th>\n",
              "      <th>device_id</th>\n",
              "      <th>has_cbk</th>\n",
              "    </tr>\n",
              "  </thead>\n",
              "  <tbody>\n",
              "    <tr>\n",
              "      <th>1</th>\n",
              "      <td>21320399</td>\n",
              "      <td>92895</td>\n",
              "      <td>2708</td>\n",
              "      <td>444456******4210</td>\n",
              "      <td>22:45 01/12/2019</td>\n",
              "      <td>734.87</td>\n",
              "      <td>497105.0</td>\n",
              "      <td>True</td>\n",
              "    </tr>\n",
              "    <tr>\n",
              "      <th>1050</th>\n",
              "      <td>21321448</td>\n",
              "      <td>55854</td>\n",
              "      <td>3584</td>\n",
              "      <td>544731******9913</td>\n",
              "      <td>23:20 27/11/2019</td>\n",
              "      <td>542.36</td>\n",
              "      <td>707086.0</td>\n",
              "      <td>True</td>\n",
              "    </tr>\n",
              "    <tr>\n",
              "      <th>1068</th>\n",
              "      <td>21321466</td>\n",
              "      <td>55854</td>\n",
              "      <td>3584</td>\n",
              "      <td>544731******7164</td>\n",
              "      <td>20:03 27/11/2019</td>\n",
              "      <td>607.96</td>\n",
              "      <td>707086.0</td>\n",
              "      <td>True</td>\n",
              "    </tr>\n",
              "    <tr>\n",
              "      <th>1069</th>\n",
              "      <td>21321467</td>\n",
              "      <td>55854</td>\n",
              "      <td>3584</td>\n",
              "      <td>544731******7164</td>\n",
              "      <td>19:56 27/11/2019</td>\n",
              "      <td>971.97</td>\n",
              "      <td>707086.0</td>\n",
              "      <td>True</td>\n",
              "    </tr>\n",
              "    <tr>\n",
              "      <th>1074</th>\n",
              "      <td>21321472</td>\n",
              "      <td>55854</td>\n",
              "      <td>3584</td>\n",
              "      <td>544731******7164</td>\n",
              "      <td>19:27 27/11/2019</td>\n",
              "      <td>529.19</td>\n",
              "      <td>707086.0</td>\n",
              "      <td>True</td>\n",
              "    </tr>\n",
              "    <tr>\n",
              "      <th>...</th>\n",
              "      <td>...</td>\n",
              "      <td>...</td>\n",
              "      <td>...</td>\n",
              "      <td>...</td>\n",
              "      <td>...</td>\n",
              "      <td>...</td>\n",
              "      <td>...</td>\n",
              "      <td>...</td>\n",
              "    </tr>\n",
              "    <tr>\n",
              "      <th>472</th>\n",
              "      <td>21320870</td>\n",
              "      <td>38568</td>\n",
              "      <td>99396</td>\n",
              "      <td>606282******6990</td>\n",
              "      <td>21:43 29/11/2019</td>\n",
              "      <td>820.01</td>\n",
              "      <td>278124.0</td>\n",
              "      <td>True</td>\n",
              "    </tr>\n",
              "    <tr>\n",
              "      <th>446</th>\n",
              "      <td>21320844</td>\n",
              "      <td>38568</td>\n",
              "      <td>99396</td>\n",
              "      <td>524703******3515</td>\n",
              "      <td>23:25 29/11/2019</td>\n",
              "      <td>2580.62</td>\n",
              "      <td>278124.0</td>\n",
              "      <td>True</td>\n",
              "    </tr>\n",
              "    <tr>\n",
              "      <th>419</th>\n",
              "      <td>21320817</td>\n",
              "      <td>38568</td>\n",
              "      <td>99396</td>\n",
              "      <td>422100******2853</td>\n",
              "      <td>00:29 30/11/2019</td>\n",
              "      <td>471.94</td>\n",
              "      <td>834436.0</td>\n",
              "      <td>True</td>\n",
              "    </tr>\n",
              "    <tr>\n",
              "      <th>327</th>\n",
              "      <td>21320725</td>\n",
              "      <td>38568</td>\n",
              "      <td>99396</td>\n",
              "      <td>412177******2318</td>\n",
              "      <td>15:09 30/11/2019</td>\n",
              "      <td>2559.25</td>\n",
              "      <td>248385.0</td>\n",
              "      <td>True</td>\n",
              "    </tr>\n",
              "    <tr>\n",
              "      <th>306</th>\n",
              "      <td>21320704</td>\n",
              "      <td>38568</td>\n",
              "      <td>99396</td>\n",
              "      <td>536380******6214</td>\n",
              "      <td>16:09 30/11/2019</td>\n",
              "      <td>3627.51</td>\n",
              "      <td>834436.0</td>\n",
              "      <td>True</td>\n",
              "    </tr>\n",
              "  </tbody>\n",
              "</table>\n",
              "<p>232 rows × 8 columns</p>\n",
              "</div>\n",
              "      <button class=\"colab-df-convert\" onclick=\"convertToInteractive('df-ef6a356f-7587-4cec-9b7b-790132c1eae1')\"\n",
              "              title=\"Convert this dataframe to an interactive table.\"\n",
              "              style=\"display:none;\">\n",
              "        \n",
              "  <svg xmlns=\"http://www.w3.org/2000/svg\" height=\"24px\"viewBox=\"0 0 24 24\"\n",
              "       width=\"24px\">\n",
              "    <path d=\"M0 0h24v24H0V0z\" fill=\"none\"/>\n",
              "    <path d=\"M18.56 5.44l.94 2.06.94-2.06 2.06-.94-2.06-.94-.94-2.06-.94 2.06-2.06.94zm-11 1L8.5 8.5l.94-2.06 2.06-.94-2.06-.94L8.5 2.5l-.94 2.06-2.06.94zm10 10l.94 2.06.94-2.06 2.06-.94-2.06-.94-.94-2.06-.94 2.06-2.06.94z\"/><path d=\"M17.41 7.96l-1.37-1.37c-.4-.4-.92-.59-1.43-.59-.52 0-1.04.2-1.43.59L10.3 9.45l-7.72 7.72c-.78.78-.78 2.05 0 2.83L4 21.41c.39.39.9.59 1.41.59.51 0 1.02-.2 1.41-.59l7.78-7.78 2.81-2.81c.8-.78.8-2.07 0-2.86zM5.41 20L4 18.59l7.72-7.72 1.47 1.35L5.41 20z\"/>\n",
              "  </svg>\n",
              "      </button>\n",
              "      \n",
              "  <style>\n",
              "    .colab-df-container {\n",
              "      display:flex;\n",
              "      flex-wrap:wrap;\n",
              "      gap: 12px;\n",
              "    }\n",
              "\n",
              "    .colab-df-convert {\n",
              "      background-color: #E8F0FE;\n",
              "      border: none;\n",
              "      border-radius: 50%;\n",
              "      cursor: pointer;\n",
              "      display: none;\n",
              "      fill: #1967D2;\n",
              "      height: 32px;\n",
              "      padding: 0 0 0 0;\n",
              "      width: 32px;\n",
              "    }\n",
              "\n",
              "    .colab-df-convert:hover {\n",
              "      background-color: #E2EBFA;\n",
              "      box-shadow: 0px 1px 2px rgba(60, 64, 67, 0.3), 0px 1px 3px 1px rgba(60, 64, 67, 0.15);\n",
              "      fill: #174EA6;\n",
              "    }\n",
              "\n",
              "    [theme=dark] .colab-df-convert {\n",
              "      background-color: #3B4455;\n",
              "      fill: #D2E3FC;\n",
              "    }\n",
              "\n",
              "    [theme=dark] .colab-df-convert:hover {\n",
              "      background-color: #434B5C;\n",
              "      box-shadow: 0px 1px 3px 1px rgba(0, 0, 0, 0.15);\n",
              "      filter: drop-shadow(0px 1px 2px rgba(0, 0, 0, 0.3));\n",
              "      fill: #FFFFFF;\n",
              "    }\n",
              "  </style>\n",
              "\n",
              "      <script>\n",
              "        const buttonEl =\n",
              "          document.querySelector('#df-ef6a356f-7587-4cec-9b7b-790132c1eae1 button.colab-df-convert');\n",
              "        buttonEl.style.display =\n",
              "          google.colab.kernel.accessAllowed ? 'block' : 'none';\n",
              "\n",
              "        async function convertToInteractive(key) {\n",
              "          const element = document.querySelector('#df-ef6a356f-7587-4cec-9b7b-790132c1eae1');\n",
              "          const dataTable =\n",
              "            await google.colab.kernel.invokeFunction('convertToInteractive',\n",
              "                                                     [key], {});\n",
              "          if (!dataTable) return;\n",
              "\n",
              "          const docLinkHtml = 'Like what you see? Visit the ' +\n",
              "            '<a target=\"_blank\" href=https://colab.research.google.com/notebooks/data_table.ipynb>data table notebook</a>'\n",
              "            + ' to learn more about interactive tables.';\n",
              "          element.innerHTML = '';\n",
              "          dataTable['output_type'] = 'display_data';\n",
              "          await google.colab.output.renderOutput(dataTable, element);\n",
              "          const docLink = document.createElement('div');\n",
              "          docLink.innerHTML = docLinkHtml;\n",
              "          element.appendChild(docLink);\n",
              "        }\n",
              "      </script>\n",
              "    </div>\n",
              "  </div>\n",
              "  "
            ]
          },
          "metadata": {},
          "execution_count": 55
        }
      ]
    },
    {
      "cell_type": "markdown",
      "source": [
        "\n",
        "\n",
        "---\n",
        "\n",
        "## Primeiras análises"
      ],
      "metadata": {
        "id": "RCszHyybyfKO"
      }
    },
    {
      "cell_type": "markdown",
      "source": [
        "\n",
        "\n",
        "---\n",
        "\n",
        "### Visualizando os lojistas que fizeram mais de 1 venda e todas as compras tiveram chargeback"
      ],
      "metadata": {
        "id": "de3qDRi_vs9a"
      }
    },
    {
      "cell_type": "code",
      "source": [
        "#Visualizando só os lojistas que tiveram todas suas compras com Chargeback\n",
        "\n",
        "listaLojistasComFraude = BancoDados[BancoDados['merchant_id'].isin(lojistasComFraudeApenas)]"
      ],
      "metadata": {
        "id": "hOlrqJc51lEv"
      },
      "execution_count": 56,
      "outputs": []
    },
    {
      "cell_type": "code",
      "source": [
        "#Filtrando as lojas que tiveram mais de 1 compra\n",
        "contagemOcorrencias = listaLojistasComFraude['merchant_id'].value_counts()\n",
        "valoresRepetidos = contagemOcorrencias[contagemOcorrencias > 1].index.tolist()\n",
        "\n",
        "#Visualizando as lojas que tiveram mais de 1 compra e todas as transacoes tiveram cashback\n",
        "listaLojistasComFraudeMaisde1Compra = listaLojistasComFraude[listaLojistasComFraude['merchant_id'].isin(valoresRepetidos)]\n",
        "listaLojistasComFraudeMaisde1Compra"
      ],
      "metadata": {
        "colab": {
          "base_uri": "https://localhost:8080/",
          "height": 0
        },
        "id": "3kvmBAJRhKkZ",
        "outputId": "c127c128-b862-4a68-fafd-c87f898c4665"
      },
      "execution_count": 57,
      "outputs": [
        {
          "output_type": "execute_result",
          "data": {
            "text/plain": [
              "      transaction_id  merchant_id  user_id       card_number  \\\n",
              "30          21320428        73271     7725  489391******7420   \n",
              "55          21320453        67764    21768  530034******3859   \n",
              "56          21320454        67764    21768  530034******3859   \n",
              "134         21320532        72723    26251  530034******4649   \n",
              "135         21320533        72723    26251  530034******4649   \n",
              "...              ...          ...      ...               ...   \n",
              "3142        21323540         8942    76819  552289******8870   \n",
              "3156        21323554        41354    19820  606282******6581   \n",
              "3157        21323555        41354    19820  606282******6581   \n",
              "3165        21323563        41354    19820  606282******6581   \n",
              "3185        21323583        77570    75889  527496******2850   \n",
              "\n",
              "      transaction_date  transaction_amount  device_id  has_cbk  \n",
              "30    19:22 01/12/2019             2092.79   308950.0     True  \n",
              "55    16:55 01/12/2019             1012.16   357277.0     True  \n",
              "56    16:52 01/12/2019              170.69   357277.0     True  \n",
              "134   03:35 01/12/2019              695.36        NaN     True  \n",
              "135   03:20 01/12/2019              991.37        NaN     True  \n",
              "...                ...                 ...        ...      ...  \n",
              "3142  16:08 03/11/2019             1551.77        NaN     True  \n",
              "3156  18:07 02/11/2019              234.06        NaN     True  \n",
              "3157  18:04 02/11/2019             4028.55        NaN     True  \n",
              "3165  16:33 02/11/2019             4031.00        NaN     True  \n",
              "3185  19:19 01/11/2019             1726.65        NaN     True  \n",
              "\n",
              "[128 rows x 8 columns]"
            ],
            "text/html": [
              "\n",
              "  <div id=\"df-77433d79-e535-4745-a5f7-f04f616eb089\">\n",
              "    <div class=\"colab-df-container\">\n",
              "      <div>\n",
              "<style scoped>\n",
              "    .dataframe tbody tr th:only-of-type {\n",
              "        vertical-align: middle;\n",
              "    }\n",
              "\n",
              "    .dataframe tbody tr th {\n",
              "        vertical-align: top;\n",
              "    }\n",
              "\n",
              "    .dataframe thead th {\n",
              "        text-align: right;\n",
              "    }\n",
              "</style>\n",
              "<table border=\"1\" class=\"dataframe\">\n",
              "  <thead>\n",
              "    <tr style=\"text-align: right;\">\n",
              "      <th></th>\n",
              "      <th>transaction_id</th>\n",
              "      <th>merchant_id</th>\n",
              "      <th>user_id</th>\n",
              "      <th>card_number</th>\n",
              "      <th>transaction_date</th>\n",
              "      <th>transaction_amount</th>\n",
              "      <th>device_id</th>\n",
              "      <th>has_cbk</th>\n",
              "    </tr>\n",
              "  </thead>\n",
              "  <tbody>\n",
              "    <tr>\n",
              "      <th>30</th>\n",
              "      <td>21320428</td>\n",
              "      <td>73271</td>\n",
              "      <td>7725</td>\n",
              "      <td>489391******7420</td>\n",
              "      <td>19:22 01/12/2019</td>\n",
              "      <td>2092.79</td>\n",
              "      <td>308950.0</td>\n",
              "      <td>True</td>\n",
              "    </tr>\n",
              "    <tr>\n",
              "      <th>55</th>\n",
              "      <td>21320453</td>\n",
              "      <td>67764</td>\n",
              "      <td>21768</td>\n",
              "      <td>530034******3859</td>\n",
              "      <td>16:55 01/12/2019</td>\n",
              "      <td>1012.16</td>\n",
              "      <td>357277.0</td>\n",
              "      <td>True</td>\n",
              "    </tr>\n",
              "    <tr>\n",
              "      <th>56</th>\n",
              "      <td>21320454</td>\n",
              "      <td>67764</td>\n",
              "      <td>21768</td>\n",
              "      <td>530034******3859</td>\n",
              "      <td>16:52 01/12/2019</td>\n",
              "      <td>170.69</td>\n",
              "      <td>357277.0</td>\n",
              "      <td>True</td>\n",
              "    </tr>\n",
              "    <tr>\n",
              "      <th>134</th>\n",
              "      <td>21320532</td>\n",
              "      <td>72723</td>\n",
              "      <td>26251</td>\n",
              "      <td>530034******4649</td>\n",
              "      <td>03:35 01/12/2019</td>\n",
              "      <td>695.36</td>\n",
              "      <td>NaN</td>\n",
              "      <td>True</td>\n",
              "    </tr>\n",
              "    <tr>\n",
              "      <th>135</th>\n",
              "      <td>21320533</td>\n",
              "      <td>72723</td>\n",
              "      <td>26251</td>\n",
              "      <td>530034******4649</td>\n",
              "      <td>03:20 01/12/2019</td>\n",
              "      <td>991.37</td>\n",
              "      <td>NaN</td>\n",
              "      <td>True</td>\n",
              "    </tr>\n",
              "    <tr>\n",
              "      <th>...</th>\n",
              "      <td>...</td>\n",
              "      <td>...</td>\n",
              "      <td>...</td>\n",
              "      <td>...</td>\n",
              "      <td>...</td>\n",
              "      <td>...</td>\n",
              "      <td>...</td>\n",
              "      <td>...</td>\n",
              "    </tr>\n",
              "    <tr>\n",
              "      <th>3142</th>\n",
              "      <td>21323540</td>\n",
              "      <td>8942</td>\n",
              "      <td>76819</td>\n",
              "      <td>552289******8870</td>\n",
              "      <td>16:08 03/11/2019</td>\n",
              "      <td>1551.77</td>\n",
              "      <td>NaN</td>\n",
              "      <td>True</td>\n",
              "    </tr>\n",
              "    <tr>\n",
              "      <th>3156</th>\n",
              "      <td>21323554</td>\n",
              "      <td>41354</td>\n",
              "      <td>19820</td>\n",
              "      <td>606282******6581</td>\n",
              "      <td>18:07 02/11/2019</td>\n",
              "      <td>234.06</td>\n",
              "      <td>NaN</td>\n",
              "      <td>True</td>\n",
              "    </tr>\n",
              "    <tr>\n",
              "      <th>3157</th>\n",
              "      <td>21323555</td>\n",
              "      <td>41354</td>\n",
              "      <td>19820</td>\n",
              "      <td>606282******6581</td>\n",
              "      <td>18:04 02/11/2019</td>\n",
              "      <td>4028.55</td>\n",
              "      <td>NaN</td>\n",
              "      <td>True</td>\n",
              "    </tr>\n",
              "    <tr>\n",
              "      <th>3165</th>\n",
              "      <td>21323563</td>\n",
              "      <td>41354</td>\n",
              "      <td>19820</td>\n",
              "      <td>606282******6581</td>\n",
              "      <td>16:33 02/11/2019</td>\n",
              "      <td>4031.00</td>\n",
              "      <td>NaN</td>\n",
              "      <td>True</td>\n",
              "    </tr>\n",
              "    <tr>\n",
              "      <th>3185</th>\n",
              "      <td>21323583</td>\n",
              "      <td>77570</td>\n",
              "      <td>75889</td>\n",
              "      <td>527496******2850</td>\n",
              "      <td>19:19 01/11/2019</td>\n",
              "      <td>1726.65</td>\n",
              "      <td>NaN</td>\n",
              "      <td>True</td>\n",
              "    </tr>\n",
              "  </tbody>\n",
              "</table>\n",
              "<p>128 rows × 8 columns</p>\n",
              "</div>\n",
              "      <button class=\"colab-df-convert\" onclick=\"convertToInteractive('df-77433d79-e535-4745-a5f7-f04f616eb089')\"\n",
              "              title=\"Convert this dataframe to an interactive table.\"\n",
              "              style=\"display:none;\">\n",
              "        \n",
              "  <svg xmlns=\"http://www.w3.org/2000/svg\" height=\"24px\"viewBox=\"0 0 24 24\"\n",
              "       width=\"24px\">\n",
              "    <path d=\"M0 0h24v24H0V0z\" fill=\"none\"/>\n",
              "    <path d=\"M18.56 5.44l.94 2.06.94-2.06 2.06-.94-2.06-.94-.94-2.06-.94 2.06-2.06.94zm-11 1L8.5 8.5l.94-2.06 2.06-.94-2.06-.94L8.5 2.5l-.94 2.06-2.06.94zm10 10l.94 2.06.94-2.06 2.06-.94-2.06-.94-.94-2.06-.94 2.06-2.06.94z\"/><path d=\"M17.41 7.96l-1.37-1.37c-.4-.4-.92-.59-1.43-.59-.52 0-1.04.2-1.43.59L10.3 9.45l-7.72 7.72c-.78.78-.78 2.05 0 2.83L4 21.41c.39.39.9.59 1.41.59.51 0 1.02-.2 1.41-.59l7.78-7.78 2.81-2.81c.8-.78.8-2.07 0-2.86zM5.41 20L4 18.59l7.72-7.72 1.47 1.35L5.41 20z\"/>\n",
              "  </svg>\n",
              "      </button>\n",
              "      \n",
              "  <style>\n",
              "    .colab-df-container {\n",
              "      display:flex;\n",
              "      flex-wrap:wrap;\n",
              "      gap: 12px;\n",
              "    }\n",
              "\n",
              "    .colab-df-convert {\n",
              "      background-color: #E8F0FE;\n",
              "      border: none;\n",
              "      border-radius: 50%;\n",
              "      cursor: pointer;\n",
              "      display: none;\n",
              "      fill: #1967D2;\n",
              "      height: 32px;\n",
              "      padding: 0 0 0 0;\n",
              "      width: 32px;\n",
              "    }\n",
              "\n",
              "    .colab-df-convert:hover {\n",
              "      background-color: #E2EBFA;\n",
              "      box-shadow: 0px 1px 2px rgba(60, 64, 67, 0.3), 0px 1px 3px 1px rgba(60, 64, 67, 0.15);\n",
              "      fill: #174EA6;\n",
              "    }\n",
              "\n",
              "    [theme=dark] .colab-df-convert {\n",
              "      background-color: #3B4455;\n",
              "      fill: #D2E3FC;\n",
              "    }\n",
              "\n",
              "    [theme=dark] .colab-df-convert:hover {\n",
              "      background-color: #434B5C;\n",
              "      box-shadow: 0px 1px 3px 1px rgba(0, 0, 0, 0.15);\n",
              "      filter: drop-shadow(0px 1px 2px rgba(0, 0, 0, 0.3));\n",
              "      fill: #FFFFFF;\n",
              "    }\n",
              "  </style>\n",
              "\n",
              "      <script>\n",
              "        const buttonEl =\n",
              "          document.querySelector('#df-77433d79-e535-4745-a5f7-f04f616eb089 button.colab-df-convert');\n",
              "        buttonEl.style.display =\n",
              "          google.colab.kernel.accessAllowed ? 'block' : 'none';\n",
              "\n",
              "        async function convertToInteractive(key) {\n",
              "          const element = document.querySelector('#df-77433d79-e535-4745-a5f7-f04f616eb089');\n",
              "          const dataTable =\n",
              "            await google.colab.kernel.invokeFunction('convertToInteractive',\n",
              "                                                     [key], {});\n",
              "          if (!dataTable) return;\n",
              "\n",
              "          const docLinkHtml = 'Like what you see? Visit the ' +\n",
              "            '<a target=\"_blank\" href=https://colab.research.google.com/notebooks/data_table.ipynb>data table notebook</a>'\n",
              "            + ' to learn more about interactive tables.';\n",
              "          element.innerHTML = '';\n",
              "          dataTable['output_type'] = 'display_data';\n",
              "          await google.colab.output.renderOutput(dataTable, element);\n",
              "          const docLink = document.createElement('div');\n",
              "          docLink.innerHTML = docLinkHtml;\n",
              "          element.appendChild(docLink);\n",
              "        }\n",
              "      </script>\n",
              "    </div>\n",
              "  </div>\n",
              "  "
            ]
          },
          "metadata": {},
          "execution_count": 57
        }
      ]
    },
    {
      "cell_type": "code",
      "source": [
        "#Lista dos lojistas que tiveram mais de 1 compra e todas as transacoes tiveram chargeback\n",
        "listaNomeLojistasComTodasFraudesMaisde1Compra = listaLojistasComFraudeMaisde1Compra['merchant_id'].unique()\n",
        "listaNomeLojistasComTodasFraudesMaisde1Compra"
      ],
      "metadata": {
        "colab": {
          "base_uri": "https://localhost:8080/"
        },
        "id": "PbcPG7rbw-b-",
        "outputId": "707ad12c-daa3-4f33-9d3e-7f60dcfd8007"
      },
      "execution_count": 58,
      "outputs": [
        {
          "output_type": "execute_result",
          "data": {
            "text/plain": [
              "array([73271, 67764, 72723, 81795,  5533, 83142, 15326, 38568, 44927,\n",
              "       73205, 15950,  3531, 48126,  1308, 46609, 89943, 59875, 65241,\n",
              "       75917, 54603, 74211, 35917, 38337, 52897, 62988, 11911, 25932,\n",
              "       77570,  8942, 41354])"
            ]
          },
          "metadata": {},
          "execution_count": 58
        }
      ]
    },
    {
      "cell_type": "markdown",
      "source": [
        "\n",
        "\n",
        "---\n",
        "\n",
        "### Visualizando os cartoes que foram utilizados por mais de um cliente e que todas as compras tiveram chargeback"
      ],
      "metadata": {
        "id": "QbIgQUkzyvcQ"
      }
    },
    {
      "cell_type": "code",
      "source": [
        "#Extraindo da lista de cartoes usados mais de uma vez, os cartoes que todas as compras tiveram chargeback\n",
        "detalhesCartoesMaisdeUmUserCbkOn = detalhesCartoesMaisdeUmUser[detalhesCartoesMaisdeUmUser['has_cbk'] == True].copy()\n",
        "detalhesCartoesMaisdeUmUserCbkOn = detalhesCartoesMaisdeUmUserCbkOn.sort_values('card_number', ascending=True)"
      ],
      "metadata": {
        "id": "eyZJJxwJy7Tc"
      },
      "execution_count": 59,
      "outputs": []
    },
    {
      "cell_type": "code",
      "source": [
        "#Lista dos cartoes que tiveram mais de 1 cliente utilizando e que todas as compras tiveram chargeback\n",
        "listaCartoesMaisdeUmUserCbkOn = detalhesCartoesMaisdeUmUserCbkOn['card_number'].unique().tolist()\n",
        "listaCartoesMaisdeUmUserCbkOn"
      ],
      "metadata": {
        "colab": {
          "base_uri": "https://localhost:8080/"
        },
        "id": "zK30Lhue4QnK",
        "outputId": "8d77acf9-ed4b-4b4b-bd01-728441a04d9f"
      },
      "execution_count": 60,
      "outputs": [
        {
          "output_type": "execute_result",
          "data": {
            "text/plain": [
              "['406655******4572',\n",
              " '406655******5763',\n",
              " '406655******7343',\n",
              " '412177******1138',\n",
              " '464296******3991',\n",
              " '490172******3386',\n",
              " '496045******1160',\n",
              " '498408******4290',\n",
              " '536380******6214',\n",
              " '544731******8590',\n",
              " '606282******4880']"
            ]
          },
          "metadata": {},
          "execution_count": 60
        }
      ]
    },
    {
      "cell_type": "code",
      "source": [],
      "metadata": {
        "id": "sd6JiVFg5crN"
      },
      "execution_count": 60,
      "outputs": []
    },
    {
      "cell_type": "markdown",
      "source": [
        "\n",
        "\n",
        "---\n",
        "\n",
        "### Visualizando os dispositivos que fizeram mais de 1 compra e tiveram chargeback em todas as compras"
      ],
      "metadata": {
        "id": "tf1EC_us7ENZ"
      }
    },
    {
      "cell_type": "code",
      "source": [
        "#Visualizando os dispositivos que todas as compras teve chargeback\n",
        "comprasDispositivosSomenteComFraudes = BancoDados.loc[BancoDados['device_id'].isin(dispositivosComFraudeApenas)]\n",
        "comprasDispositivosSomenteComFraudes = comprasDispositivosSomenteComFraudes.sort_values(by='device_id')\n",
        "comprasDispositivosSomenteComFraudes"
      ],
      "metadata": {
        "colab": {
          "base_uri": "https://localhost:8080/",
          "height": 0
        },
        "id": "xac4wVJ68LsT",
        "outputId": "39c3085a-2a8f-41be-ec05-4ba5bd8e9391"
      },
      "execution_count": 61,
      "outputs": [
        {
          "output_type": "execute_result",
          "data": {
            "text/plain": [
              "      transaction_id  merchant_id  user_id       card_number  \\\n",
              "7           21320405        56107    81152  650516******9201   \n",
              "8           21320406        56107    81152  650516******9201   \n",
              "9           21320407        56107    81152  650516******9201   \n",
              "13          21320411        56107    81152  650516******7004   \n",
              "2017        21322415        96692    43108  541555******6900   \n",
              "...              ...          ...      ...               ...   \n",
              "1424        21321822        75917    17929  606282******4736   \n",
              "1441        21321839        75917    17929  606282******3253   \n",
              "790         21321188        60526    17929  606282******9429   \n",
              "447         21320845        23531    93679   515590******820   \n",
              "2057        21322455        91972    38890  530780******1934   \n",
              "\n",
              "      transaction_date  transaction_amount  device_id  has_cbk  \n",
              "7     21:24 01/12/2019              188.68      486.0     True  \n",
              "8     21:13 01/12/2019              352.77      486.0     True  \n",
              "9     21:04 01/12/2019              345.68      486.0     True  \n",
              "13    20:36 01/12/2019               32.86      486.0     True  \n",
              "2017  02:34 22/11/2019              980.74     6638.0     True  \n",
              "...                ...                 ...        ...      ...  \n",
              "1424  20:03 23/11/2019             3557.90   960729.0     True  \n",
              "1441  19:32 23/11/2019             2201.48   960729.0     True  \n",
              "790   22:20 28/11/2019             4055.23   960729.0     True  \n",
              "447   23:21 29/11/2019              585.05   972377.0     True  \n",
              "2057  23:18 21/11/2019             4017.96   990288.0     True  \n",
              "\n",
              "[196 rows x 8 columns]"
            ],
            "text/html": [
              "\n",
              "  <div id=\"df-b82a4f52-ceed-46cd-ab03-a355e7096af2\">\n",
              "    <div class=\"colab-df-container\">\n",
              "      <div>\n",
              "<style scoped>\n",
              "    .dataframe tbody tr th:only-of-type {\n",
              "        vertical-align: middle;\n",
              "    }\n",
              "\n",
              "    .dataframe tbody tr th {\n",
              "        vertical-align: top;\n",
              "    }\n",
              "\n",
              "    .dataframe thead th {\n",
              "        text-align: right;\n",
              "    }\n",
              "</style>\n",
              "<table border=\"1\" class=\"dataframe\">\n",
              "  <thead>\n",
              "    <tr style=\"text-align: right;\">\n",
              "      <th></th>\n",
              "      <th>transaction_id</th>\n",
              "      <th>merchant_id</th>\n",
              "      <th>user_id</th>\n",
              "      <th>card_number</th>\n",
              "      <th>transaction_date</th>\n",
              "      <th>transaction_amount</th>\n",
              "      <th>device_id</th>\n",
              "      <th>has_cbk</th>\n",
              "    </tr>\n",
              "  </thead>\n",
              "  <tbody>\n",
              "    <tr>\n",
              "      <th>7</th>\n",
              "      <td>21320405</td>\n",
              "      <td>56107</td>\n",
              "      <td>81152</td>\n",
              "      <td>650516******9201</td>\n",
              "      <td>21:24 01/12/2019</td>\n",
              "      <td>188.68</td>\n",
              "      <td>486.0</td>\n",
              "      <td>True</td>\n",
              "    </tr>\n",
              "    <tr>\n",
              "      <th>8</th>\n",
              "      <td>21320406</td>\n",
              "      <td>56107</td>\n",
              "      <td>81152</td>\n",
              "      <td>650516******9201</td>\n",
              "      <td>21:13 01/12/2019</td>\n",
              "      <td>352.77</td>\n",
              "      <td>486.0</td>\n",
              "      <td>True</td>\n",
              "    </tr>\n",
              "    <tr>\n",
              "      <th>9</th>\n",
              "      <td>21320407</td>\n",
              "      <td>56107</td>\n",
              "      <td>81152</td>\n",
              "      <td>650516******9201</td>\n",
              "      <td>21:04 01/12/2019</td>\n",
              "      <td>345.68</td>\n",
              "      <td>486.0</td>\n",
              "      <td>True</td>\n",
              "    </tr>\n",
              "    <tr>\n",
              "      <th>13</th>\n",
              "      <td>21320411</td>\n",
              "      <td>56107</td>\n",
              "      <td>81152</td>\n",
              "      <td>650516******7004</td>\n",
              "      <td>20:36 01/12/2019</td>\n",
              "      <td>32.86</td>\n",
              "      <td>486.0</td>\n",
              "      <td>True</td>\n",
              "    </tr>\n",
              "    <tr>\n",
              "      <th>2017</th>\n",
              "      <td>21322415</td>\n",
              "      <td>96692</td>\n",
              "      <td>43108</td>\n",
              "      <td>541555******6900</td>\n",
              "      <td>02:34 22/11/2019</td>\n",
              "      <td>980.74</td>\n",
              "      <td>6638.0</td>\n",
              "      <td>True</td>\n",
              "    </tr>\n",
              "    <tr>\n",
              "      <th>...</th>\n",
              "      <td>...</td>\n",
              "      <td>...</td>\n",
              "      <td>...</td>\n",
              "      <td>...</td>\n",
              "      <td>...</td>\n",
              "      <td>...</td>\n",
              "      <td>...</td>\n",
              "      <td>...</td>\n",
              "    </tr>\n",
              "    <tr>\n",
              "      <th>1424</th>\n",
              "      <td>21321822</td>\n",
              "      <td>75917</td>\n",
              "      <td>17929</td>\n",
              "      <td>606282******4736</td>\n",
              "      <td>20:03 23/11/2019</td>\n",
              "      <td>3557.90</td>\n",
              "      <td>960729.0</td>\n",
              "      <td>True</td>\n",
              "    </tr>\n",
              "    <tr>\n",
              "      <th>1441</th>\n",
              "      <td>21321839</td>\n",
              "      <td>75917</td>\n",
              "      <td>17929</td>\n",
              "      <td>606282******3253</td>\n",
              "      <td>19:32 23/11/2019</td>\n",
              "      <td>2201.48</td>\n",
              "      <td>960729.0</td>\n",
              "      <td>True</td>\n",
              "    </tr>\n",
              "    <tr>\n",
              "      <th>790</th>\n",
              "      <td>21321188</td>\n",
              "      <td>60526</td>\n",
              "      <td>17929</td>\n",
              "      <td>606282******9429</td>\n",
              "      <td>22:20 28/11/2019</td>\n",
              "      <td>4055.23</td>\n",
              "      <td>960729.0</td>\n",
              "      <td>True</td>\n",
              "    </tr>\n",
              "    <tr>\n",
              "      <th>447</th>\n",
              "      <td>21320845</td>\n",
              "      <td>23531</td>\n",
              "      <td>93679</td>\n",
              "      <td>515590******820</td>\n",
              "      <td>23:21 29/11/2019</td>\n",
              "      <td>585.05</td>\n",
              "      <td>972377.0</td>\n",
              "      <td>True</td>\n",
              "    </tr>\n",
              "    <tr>\n",
              "      <th>2057</th>\n",
              "      <td>21322455</td>\n",
              "      <td>91972</td>\n",
              "      <td>38890</td>\n",
              "      <td>530780******1934</td>\n",
              "      <td>23:18 21/11/2019</td>\n",
              "      <td>4017.96</td>\n",
              "      <td>990288.0</td>\n",
              "      <td>True</td>\n",
              "    </tr>\n",
              "  </tbody>\n",
              "</table>\n",
              "<p>196 rows × 8 columns</p>\n",
              "</div>\n",
              "      <button class=\"colab-df-convert\" onclick=\"convertToInteractive('df-b82a4f52-ceed-46cd-ab03-a355e7096af2')\"\n",
              "              title=\"Convert this dataframe to an interactive table.\"\n",
              "              style=\"display:none;\">\n",
              "        \n",
              "  <svg xmlns=\"http://www.w3.org/2000/svg\" height=\"24px\"viewBox=\"0 0 24 24\"\n",
              "       width=\"24px\">\n",
              "    <path d=\"M0 0h24v24H0V0z\" fill=\"none\"/>\n",
              "    <path d=\"M18.56 5.44l.94 2.06.94-2.06 2.06-.94-2.06-.94-.94-2.06-.94 2.06-2.06.94zm-11 1L8.5 8.5l.94-2.06 2.06-.94-2.06-.94L8.5 2.5l-.94 2.06-2.06.94zm10 10l.94 2.06.94-2.06 2.06-.94-2.06-.94-.94-2.06-.94 2.06-2.06.94z\"/><path d=\"M17.41 7.96l-1.37-1.37c-.4-.4-.92-.59-1.43-.59-.52 0-1.04.2-1.43.59L10.3 9.45l-7.72 7.72c-.78.78-.78 2.05 0 2.83L4 21.41c.39.39.9.59 1.41.59.51 0 1.02-.2 1.41-.59l7.78-7.78 2.81-2.81c.8-.78.8-2.07 0-2.86zM5.41 20L4 18.59l7.72-7.72 1.47 1.35L5.41 20z\"/>\n",
              "  </svg>\n",
              "      </button>\n",
              "      \n",
              "  <style>\n",
              "    .colab-df-container {\n",
              "      display:flex;\n",
              "      flex-wrap:wrap;\n",
              "      gap: 12px;\n",
              "    }\n",
              "\n",
              "    .colab-df-convert {\n",
              "      background-color: #E8F0FE;\n",
              "      border: none;\n",
              "      border-radius: 50%;\n",
              "      cursor: pointer;\n",
              "      display: none;\n",
              "      fill: #1967D2;\n",
              "      height: 32px;\n",
              "      padding: 0 0 0 0;\n",
              "      width: 32px;\n",
              "    }\n",
              "\n",
              "    .colab-df-convert:hover {\n",
              "      background-color: #E2EBFA;\n",
              "      box-shadow: 0px 1px 2px rgba(60, 64, 67, 0.3), 0px 1px 3px 1px rgba(60, 64, 67, 0.15);\n",
              "      fill: #174EA6;\n",
              "    }\n",
              "\n",
              "    [theme=dark] .colab-df-convert {\n",
              "      background-color: #3B4455;\n",
              "      fill: #D2E3FC;\n",
              "    }\n",
              "\n",
              "    [theme=dark] .colab-df-convert:hover {\n",
              "      background-color: #434B5C;\n",
              "      box-shadow: 0px 1px 3px 1px rgba(0, 0, 0, 0.15);\n",
              "      filter: drop-shadow(0px 1px 2px rgba(0, 0, 0, 0.3));\n",
              "      fill: #FFFFFF;\n",
              "    }\n",
              "  </style>\n",
              "\n",
              "      <script>\n",
              "        const buttonEl =\n",
              "          document.querySelector('#df-b82a4f52-ceed-46cd-ab03-a355e7096af2 button.colab-df-convert');\n",
              "        buttonEl.style.display =\n",
              "          google.colab.kernel.accessAllowed ? 'block' : 'none';\n",
              "\n",
              "        async function convertToInteractive(key) {\n",
              "          const element = document.querySelector('#df-b82a4f52-ceed-46cd-ab03-a355e7096af2');\n",
              "          const dataTable =\n",
              "            await google.colab.kernel.invokeFunction('convertToInteractive',\n",
              "                                                     [key], {});\n",
              "          if (!dataTable) return;\n",
              "\n",
              "          const docLinkHtml = 'Like what you see? Visit the ' +\n",
              "            '<a target=\"_blank\" href=https://colab.research.google.com/notebooks/data_table.ipynb>data table notebook</a>'\n",
              "            + ' to learn more about interactive tables.';\n",
              "          element.innerHTML = '';\n",
              "          dataTable['output_type'] = 'display_data';\n",
              "          await google.colab.output.renderOutput(dataTable, element);\n",
              "          const docLink = document.createElement('div');\n",
              "          docLink.innerHTML = docLinkHtml;\n",
              "          element.appendChild(docLink);\n",
              "        }\n",
              "      </script>\n",
              "    </div>\n",
              "  </div>\n",
              "  "
            ]
          },
          "metadata": {},
          "execution_count": 61
        }
      ]
    },
    {
      "cell_type": "code",
      "source": [
        "#Visualizando a lista de compras com dispositivos com mais de 1 compra que só tiveram chargbacks\n",
        "agrupandodispositivosComFraudeApenas = comprasDispositivosSomenteComFraudes['device_id'].value_counts()\n",
        "dispositivosComFraudeApenasMaisDeUmaCompra = agrupandodispositivosComFraudeApenas[agrupandodispositivosComFraudeApenas > 1].index.tolist()\n",
        "\n",
        "#Lista de dispositivos que realizaram mais de 1 compra e que todas as compras tiveram chargebacks\n",
        "dispositivosComFraudeApenasMaisDeUmaCompra = comprasDispositivosSomenteComFraudes[comprasDispositivosSomenteComFraudes['device_id'].isin(dispositivosComFraudeApenasMaisDeUmaCompra)]\n",
        "listaDispositivosComFraudeApenasMaisDeUmaCompra = dispositivosComFraudeApenasMaisDeUmaCompra['device_id'].unique().tolist()\n",
        "listaDispositivosComFraudeApenasMaisDeUmaCompra"
      ],
      "metadata": {
        "colab": {
          "base_uri": "https://localhost:8080/"
        },
        "id": "G_ALzuaIBUQS",
        "outputId": "d4cbb7c3-97ad-4ed9-8d6c-d96c7aa7c2c1"
      },
      "execution_count": 62,
      "outputs": [
        {
          "output_type": "execute_result",
          "data": {
            "text/plain": [
              "[486.0,\n",
              " 10312.0,\n",
              " 17372.0,\n",
              " 20098.0,\n",
              " 46597.0,\n",
              " 69227.0,\n",
              " 81082.0,\n",
              " 111836.0,\n",
              " 122092.0,\n",
              " 174844.0,\n",
              " 180611.0,\n",
              " 183034.0,\n",
              " 190238.0,\n",
              " 278124.0,\n",
              " 288714.0,\n",
              " 304880.0,\n",
              " 306719.0,\n",
              " 307489.0,\n",
              " 308950.0,\n",
              " 313443.0,\n",
              " 314172.0,\n",
              " 355583.0,\n",
              " 357277.0,\n",
              " 374474.0,\n",
              " 386429.0,\n",
              " 453490.0,\n",
              " 457665.0,\n",
              " 495100.0,\n",
              " 570971.0,\n",
              " 571150.0,\n",
              " 597308.0,\n",
              " 602462.0,\n",
              " 611676.0,\n",
              " 656429.0,\n",
              " 670695.0,\n",
              " 698520.0,\n",
              " 705388.0,\n",
              " 724452.0,\n",
              " 738394.0,\n",
              " 760682.0,\n",
              " 770656.0,\n",
              " 790235.0,\n",
              " 822562.0,\n",
              " 834436.0,\n",
              " 835213.0,\n",
              " 868746.0,\n",
              " 881571.0,\n",
              " 884678.0,\n",
              " 960729.0]"
            ]
          },
          "metadata": {},
          "execution_count": 62
        }
      ]
    },
    {
      "cell_type": "markdown",
      "source": [
        "\n",
        "\n",
        "---\n",
        "\n",
        "### Visualizando os clientes que fizeram mais de uma compra e todas tiveram chargeback"
      ],
      "metadata": {
        "id": "1asgFqQKJikT"
      }
    },
    {
      "cell_type": "code",
      "source": [
        "listaComprasClientesComFraudeApenas = BancoDados.loc[BancoDados['user_id'].isin(clientesComFraudeApenas)]\n",
        "listaComprasClientesComFraudeApenas = listaComprasClientesComFraudeApenas.sort_values(by='user_id')\n",
        "listaComprasClientesComFraudeApenas"
      ],
      "metadata": {
        "colab": {
          "base_uri": "https://localhost:8080/",
          "height": 0
        },
        "id": "d5nxl_I3Jv7y",
        "outputId": "6f4d2872-8186-4ef1-ab78-d6a802a33487"
      },
      "execution_count": 63,
      "outputs": [
        {
          "output_type": "execute_result",
          "data": {
            "text/plain": [
              "      transaction_id  merchant_id  user_id       card_number  \\\n",
              "1800        21322198        53041      900  412177******1138   \n",
              "142         21320540        62194     3157  535081******2584   \n",
              "1714        21322112        38337     4651  230744******4802   \n",
              "1718        21322116        38337     4651  230744******4802   \n",
              "545         21320943        63050     4651  606282******4880   \n",
              "...              ...          ...      ...               ...   \n",
              "327         21320725        38568    99396  412177******2318   \n",
              "419         21320817        38568    99396  422100******2853   \n",
              "446         21320844        38568    99396  524703******3515   \n",
              "472         21320870        38568    99396  606282******6990   \n",
              "1541        21321939        91972    99876  511588******6999   \n",
              "\n",
              "      transaction_date  transaction_amount  device_id  has_cbk  \n",
              "1800  19:15 22/11/2019             1346.26   691601.0     True  \n",
              "142   01:50 01/12/2019              183.73   586347.0     True  \n",
              "1714  22:41 22/11/2019             1019.39   571150.0     True  \n",
              "1718  22:31 22/11/2019             2090.41   571150.0     True  \n",
              "545   18:34 29/11/2019             3068.63   571150.0     True  \n",
              "...                ...                 ...        ...      ...  \n",
              "327   15:09 30/11/2019             2559.25   248385.0     True  \n",
              "419   00:29 30/11/2019              471.94   834436.0     True  \n",
              "446   23:25 29/11/2019             2580.62   278124.0     True  \n",
              "472   21:43 29/11/2019              820.01   278124.0     True  \n",
              "1541  16:13 23/11/2019             1421.20   114015.0     True  \n",
              "\n",
              "[239 rows x 8 columns]"
            ],
            "text/html": [
              "\n",
              "  <div id=\"df-ee75f8d1-2372-405a-8d75-0501b85a38be\">\n",
              "    <div class=\"colab-df-container\">\n",
              "      <div>\n",
              "<style scoped>\n",
              "    .dataframe tbody tr th:only-of-type {\n",
              "        vertical-align: middle;\n",
              "    }\n",
              "\n",
              "    .dataframe tbody tr th {\n",
              "        vertical-align: top;\n",
              "    }\n",
              "\n",
              "    .dataframe thead th {\n",
              "        text-align: right;\n",
              "    }\n",
              "</style>\n",
              "<table border=\"1\" class=\"dataframe\">\n",
              "  <thead>\n",
              "    <tr style=\"text-align: right;\">\n",
              "      <th></th>\n",
              "      <th>transaction_id</th>\n",
              "      <th>merchant_id</th>\n",
              "      <th>user_id</th>\n",
              "      <th>card_number</th>\n",
              "      <th>transaction_date</th>\n",
              "      <th>transaction_amount</th>\n",
              "      <th>device_id</th>\n",
              "      <th>has_cbk</th>\n",
              "    </tr>\n",
              "  </thead>\n",
              "  <tbody>\n",
              "    <tr>\n",
              "      <th>1800</th>\n",
              "      <td>21322198</td>\n",
              "      <td>53041</td>\n",
              "      <td>900</td>\n",
              "      <td>412177******1138</td>\n",
              "      <td>19:15 22/11/2019</td>\n",
              "      <td>1346.26</td>\n",
              "      <td>691601.0</td>\n",
              "      <td>True</td>\n",
              "    </tr>\n",
              "    <tr>\n",
              "      <th>142</th>\n",
              "      <td>21320540</td>\n",
              "      <td>62194</td>\n",
              "      <td>3157</td>\n",
              "      <td>535081******2584</td>\n",
              "      <td>01:50 01/12/2019</td>\n",
              "      <td>183.73</td>\n",
              "      <td>586347.0</td>\n",
              "      <td>True</td>\n",
              "    </tr>\n",
              "    <tr>\n",
              "      <th>1714</th>\n",
              "      <td>21322112</td>\n",
              "      <td>38337</td>\n",
              "      <td>4651</td>\n",
              "      <td>230744******4802</td>\n",
              "      <td>22:41 22/11/2019</td>\n",
              "      <td>1019.39</td>\n",
              "      <td>571150.0</td>\n",
              "      <td>True</td>\n",
              "    </tr>\n",
              "    <tr>\n",
              "      <th>1718</th>\n",
              "      <td>21322116</td>\n",
              "      <td>38337</td>\n",
              "      <td>4651</td>\n",
              "      <td>230744******4802</td>\n",
              "      <td>22:31 22/11/2019</td>\n",
              "      <td>2090.41</td>\n",
              "      <td>571150.0</td>\n",
              "      <td>True</td>\n",
              "    </tr>\n",
              "    <tr>\n",
              "      <th>545</th>\n",
              "      <td>21320943</td>\n",
              "      <td>63050</td>\n",
              "      <td>4651</td>\n",
              "      <td>606282******4880</td>\n",
              "      <td>18:34 29/11/2019</td>\n",
              "      <td>3068.63</td>\n",
              "      <td>571150.0</td>\n",
              "      <td>True</td>\n",
              "    </tr>\n",
              "    <tr>\n",
              "      <th>...</th>\n",
              "      <td>...</td>\n",
              "      <td>...</td>\n",
              "      <td>...</td>\n",
              "      <td>...</td>\n",
              "      <td>...</td>\n",
              "      <td>...</td>\n",
              "      <td>...</td>\n",
              "      <td>...</td>\n",
              "    </tr>\n",
              "    <tr>\n",
              "      <th>327</th>\n",
              "      <td>21320725</td>\n",
              "      <td>38568</td>\n",
              "      <td>99396</td>\n",
              "      <td>412177******2318</td>\n",
              "      <td>15:09 30/11/2019</td>\n",
              "      <td>2559.25</td>\n",
              "      <td>248385.0</td>\n",
              "      <td>True</td>\n",
              "    </tr>\n",
              "    <tr>\n",
              "      <th>419</th>\n",
              "      <td>21320817</td>\n",
              "      <td>38568</td>\n",
              "      <td>99396</td>\n",
              "      <td>422100******2853</td>\n",
              "      <td>00:29 30/11/2019</td>\n",
              "      <td>471.94</td>\n",
              "      <td>834436.0</td>\n",
              "      <td>True</td>\n",
              "    </tr>\n",
              "    <tr>\n",
              "      <th>446</th>\n",
              "      <td>21320844</td>\n",
              "      <td>38568</td>\n",
              "      <td>99396</td>\n",
              "      <td>524703******3515</td>\n",
              "      <td>23:25 29/11/2019</td>\n",
              "      <td>2580.62</td>\n",
              "      <td>278124.0</td>\n",
              "      <td>True</td>\n",
              "    </tr>\n",
              "    <tr>\n",
              "      <th>472</th>\n",
              "      <td>21320870</td>\n",
              "      <td>38568</td>\n",
              "      <td>99396</td>\n",
              "      <td>606282******6990</td>\n",
              "      <td>21:43 29/11/2019</td>\n",
              "      <td>820.01</td>\n",
              "      <td>278124.0</td>\n",
              "      <td>True</td>\n",
              "    </tr>\n",
              "    <tr>\n",
              "      <th>1541</th>\n",
              "      <td>21321939</td>\n",
              "      <td>91972</td>\n",
              "      <td>99876</td>\n",
              "      <td>511588******6999</td>\n",
              "      <td>16:13 23/11/2019</td>\n",
              "      <td>1421.20</td>\n",
              "      <td>114015.0</td>\n",
              "      <td>True</td>\n",
              "    </tr>\n",
              "  </tbody>\n",
              "</table>\n",
              "<p>239 rows × 8 columns</p>\n",
              "</div>\n",
              "      <button class=\"colab-df-convert\" onclick=\"convertToInteractive('df-ee75f8d1-2372-405a-8d75-0501b85a38be')\"\n",
              "              title=\"Convert this dataframe to an interactive table.\"\n",
              "              style=\"display:none;\">\n",
              "        \n",
              "  <svg xmlns=\"http://www.w3.org/2000/svg\" height=\"24px\"viewBox=\"0 0 24 24\"\n",
              "       width=\"24px\">\n",
              "    <path d=\"M0 0h24v24H0V0z\" fill=\"none\"/>\n",
              "    <path d=\"M18.56 5.44l.94 2.06.94-2.06 2.06-.94-2.06-.94-.94-2.06-.94 2.06-2.06.94zm-11 1L8.5 8.5l.94-2.06 2.06-.94-2.06-.94L8.5 2.5l-.94 2.06-2.06.94zm10 10l.94 2.06.94-2.06 2.06-.94-2.06-.94-.94-2.06-.94 2.06-2.06.94z\"/><path d=\"M17.41 7.96l-1.37-1.37c-.4-.4-.92-.59-1.43-.59-.52 0-1.04.2-1.43.59L10.3 9.45l-7.72 7.72c-.78.78-.78 2.05 0 2.83L4 21.41c.39.39.9.59 1.41.59.51 0 1.02-.2 1.41-.59l7.78-7.78 2.81-2.81c.8-.78.8-2.07 0-2.86zM5.41 20L4 18.59l7.72-7.72 1.47 1.35L5.41 20z\"/>\n",
              "  </svg>\n",
              "      </button>\n",
              "      \n",
              "  <style>\n",
              "    .colab-df-container {\n",
              "      display:flex;\n",
              "      flex-wrap:wrap;\n",
              "      gap: 12px;\n",
              "    }\n",
              "\n",
              "    .colab-df-convert {\n",
              "      background-color: #E8F0FE;\n",
              "      border: none;\n",
              "      border-radius: 50%;\n",
              "      cursor: pointer;\n",
              "      display: none;\n",
              "      fill: #1967D2;\n",
              "      height: 32px;\n",
              "      padding: 0 0 0 0;\n",
              "      width: 32px;\n",
              "    }\n",
              "\n",
              "    .colab-df-convert:hover {\n",
              "      background-color: #E2EBFA;\n",
              "      box-shadow: 0px 1px 2px rgba(60, 64, 67, 0.3), 0px 1px 3px 1px rgba(60, 64, 67, 0.15);\n",
              "      fill: #174EA6;\n",
              "    }\n",
              "\n",
              "    [theme=dark] .colab-df-convert {\n",
              "      background-color: #3B4455;\n",
              "      fill: #D2E3FC;\n",
              "    }\n",
              "\n",
              "    [theme=dark] .colab-df-convert:hover {\n",
              "      background-color: #434B5C;\n",
              "      box-shadow: 0px 1px 3px 1px rgba(0, 0, 0, 0.15);\n",
              "      filter: drop-shadow(0px 1px 2px rgba(0, 0, 0, 0.3));\n",
              "      fill: #FFFFFF;\n",
              "    }\n",
              "  </style>\n",
              "\n",
              "      <script>\n",
              "        const buttonEl =\n",
              "          document.querySelector('#df-ee75f8d1-2372-405a-8d75-0501b85a38be button.colab-df-convert');\n",
              "        buttonEl.style.display =\n",
              "          google.colab.kernel.accessAllowed ? 'block' : 'none';\n",
              "\n",
              "        async function convertToInteractive(key) {\n",
              "          const element = document.querySelector('#df-ee75f8d1-2372-405a-8d75-0501b85a38be');\n",
              "          const dataTable =\n",
              "            await google.colab.kernel.invokeFunction('convertToInteractive',\n",
              "                                                     [key], {});\n",
              "          if (!dataTable) return;\n",
              "\n",
              "          const docLinkHtml = 'Like what you see? Visit the ' +\n",
              "            '<a target=\"_blank\" href=https://colab.research.google.com/notebooks/data_table.ipynb>data table notebook</a>'\n",
              "            + ' to learn more about interactive tables.';\n",
              "          element.innerHTML = '';\n",
              "          dataTable['output_type'] = 'display_data';\n",
              "          await google.colab.output.renderOutput(dataTable, element);\n",
              "          const docLink = document.createElement('div');\n",
              "          docLink.innerHTML = docLinkHtml;\n",
              "          element.appendChild(docLink);\n",
              "        }\n",
              "      </script>\n",
              "    </div>\n",
              "  </div>\n",
              "  "
            ]
          },
          "metadata": {},
          "execution_count": 63
        }
      ]
    },
    {
      "cell_type": "code",
      "source": [
        "listaComprasClientesMaisdeUmaCompracomFraudeApenas = listaComprasClientesComFraudeApenas[listaComprasClientesComFraudeApenas.duplicated(subset='user_id', keep=False)]\n",
        "\n",
        "listaClientesMaisDeUmaCompraComFraudeApenas = listaComprasClientesMaisdeUmaCompracomFraudeApenas['user_id'].unique()\n",
        "listaClientesMaisDeUmaCompraComFraudeApenas"
      ],
      "metadata": {
        "colab": {
          "base_uri": "https://localhost:8080/"
        },
        "id": "OX3VDKE7Jv2l",
        "outputId": "103f953d-8ed2-4988-8226-ef25ebc53d30"
      },
      "execution_count": 64,
      "outputs": [
        {
          "output_type": "execute_result",
          "data": {
            "text/plain": [
              "array([ 4651,  5541,  6761,  7725,  9600, 11065, 12678, 16862, 17807,\n",
              "       17929, 19820, 21233, 21702, 21768, 24543, 26251, 27555, 27779,\n",
              "       28218, 30874, 35138, 37113, 40493, 44531, 47604, 50643, 52129,\n",
              "       53850, 55630, 56139, 58905, 66979, 69466, 69758, 70557, 71424,\n",
              "       73385, 75710, 75889, 76422, 76768, 76819, 79998, 81152, 81164,\n",
              "       83258, 86411, 87048, 90176, 92259, 92930, 93156, 93767, 96495,\n",
              "       97611, 99396])"
            ]
          },
          "metadata": {},
          "execution_count": 64
        }
      ]
    },
    {
      "cell_type": "markdown",
      "source": [
        "\n",
        "\n",
        "---\n",
        "\n",
        "### Visualizando players que possuem compras com e sem chargeback"
      ],
      "metadata": {
        "id": "Q8zGyuMNNvYD"
      }
    },
    {
      "cell_type": "code",
      "source": [
        "# Lojistas\n",
        "lojistasAgrupadosTrueeFalse = BancoDados.groupby('merchant_id')['has_cbk'].agg(['any', 'all'])\n",
        "lojistasComChargebackTrueFalse = lojistasAgrupadosTrueeFalse[(lojistasAgrupadosTrueeFalse['any'] == True) & (lojistasAgrupadosTrueeFalse['all'] == False)]\n",
        "lojistasComChargebackTrueFalse.index.tolist()"
      ],
      "metadata": {
        "colab": {
          "base_uri": "https://localhost:8080/"
        },
        "id": "SvdJ2aNdN2iN",
        "outputId": "d849eade-fff1-4eab-95da-7a34c81fa712"
      },
      "execution_count": 65,
      "outputs": [
        {
          "output_type": "execute_result",
          "data": {
            "text/plain": [
              "[4153,\n",
              " 4705,\n",
              " 5404,\n",
              " 11973,\n",
              " 12745,\n",
              " 16266,\n",
              " 17275,\n",
              " 18267,\n",
              " 18344,\n",
              " 20663,\n",
              " 23017,\n",
              " 23722,\n",
              " 25473,\n",
              " 29214,\n",
              " 29744,\n",
              " 36617,\n",
              " 36700,\n",
              " 38755,\n",
              " 38901,\n",
              " 39253,\n",
              " 42356,\n",
              " 46045,\n",
              " 48912,\n",
              " 48982,\n",
              " 49909,\n",
              " 49919,\n",
              " 53041,\n",
              " 54572,\n",
              " 55854,\n",
              " 56107,\n",
              " 60526,\n",
              " 60779,\n",
              " 62052,\n",
              " 63050,\n",
              " 65330,\n",
              " 66876,\n",
              " 68953,\n",
              " 71378,\n",
              " 71507,\n",
              " 76725,\n",
              " 77130,\n",
              " 81894,\n",
              " 82867,\n",
              " 84970,\n",
              " 90035,\n",
              " 91446,\n",
              " 91972,\n",
              " 92895,\n",
              " 94198,\n",
              " 97291,\n",
              " 98272,\n",
              " 99510]"
            ]
          },
          "metadata": {},
          "execution_count": 65
        }
      ]
    },
    {
      "cell_type": "code",
      "source": [
        "# Clientes\n",
        "clientesAgrupadosTrueeFalse = BancoDados.groupby('user_id')['has_cbk'].agg(['any', 'all'])\n",
        "clientesComChargebackTrueFalse = clientesAgrupadosTrueeFalse[(clientesAgrupadosTrueeFalse['any'] == True) & (clientesAgrupadosTrueeFalse['all'] == False)]\n",
        "clientesComChargebackTrueFalse.index.tolist()"
      ],
      "metadata": {
        "colab": {
          "base_uri": "https://localhost:8080/"
        },
        "id": "AC2mUPZHOoAU",
        "outputId": "dec598e8-1fbd-45a5-e9eb-09761bb645c6"
      },
      "execution_count": 66,
      "outputs": [
        {
          "output_type": "execute_result",
          "data": {
            "text/plain": [
              "[2708,\n",
              " 3584,\n",
              " 7281,\n",
              " 7695,\n",
              " 9853,\n",
              " 10241,\n",
              " 10378,\n",
              " 11452,\n",
              " 11750,\n",
              " 16781,\n",
              " 18227,\n",
              " 23429,\n",
              " 24644,\n",
              " 27657,\n",
              " 31819,\n",
              " 33805,\n",
              " 39443,\n",
              " 42677,\n",
              " 56877,\n",
              " 57594,\n",
              " 64057,\n",
              " 65935,\n",
              " 67519,\n",
              " 69588,\n",
              " 71433,\n",
              " 78262,\n",
              " 79054,\n",
              " 83722,\n",
              " 89615,\n",
              " 90182,\n",
              " 91637,\n",
              " 92034,\n",
              " 96025]"
            ]
          },
          "metadata": {},
          "execution_count": 66
        }
      ]
    },
    {
      "cell_type": "code",
      "source": [
        "# Cartoes\n",
        "cartoesAgrupadosTrueeFalse = BancoDados.groupby('card_number')['has_cbk'].agg(['any', 'all'])\n",
        "cartoesComChargebackTrueFalse = cartoesAgrupadosTrueeFalse[(cartoesAgrupadosTrueeFalse['any'] == True) & (cartoesAgrupadosTrueeFalse['all'] == False)]\n",
        "cartoesComChargebackTrueFalse.index.tolist()"
      ],
      "metadata": {
        "colab": {
          "base_uri": "https://localhost:8080/"
        },
        "id": "yPCJGoEfR3GS",
        "outputId": "4bb6fb47-6972-4415-a55f-067096241e17"
      },
      "execution_count": 67,
      "outputs": [
        {
          "output_type": "execute_result",
          "data": {
            "text/plain": [
              "['455183******5202',\n",
              " '496045******1160',\n",
              " '536380******6214',\n",
              " '544731******8590',\n",
              " '546056******2924',\n",
              " '550209******3098',\n",
              " '606282******5785']"
            ]
          },
          "metadata": {},
          "execution_count": 67
        }
      ]
    },
    {
      "cell_type": "code",
      "source": [
        "# Dispositivos\n",
        "dispositivosAgrupadosTrueeFalse = BancoDados.groupby('device_id')['has_cbk'].agg(['any', 'all'])\n",
        "dispositivosComChargebackTrueFalse = dispositivosAgrupadosTrueeFalse[(dispositivosAgrupadosTrueeFalse['any'] == True) & (dispositivosAgrupadosTrueeFalse['all'] == False)]\n",
        "dispositivosComChargebackTrueFalse.index.tolist()"
      ],
      "metadata": {
        "colab": {
          "base_uri": "https://localhost:8080/"
        },
        "id": "z_pYg_jGS8SA",
        "outputId": "8d3ddeaf-210e-4fe8-f343-57cc15efa8b1"
      },
      "execution_count": 68,
      "outputs": [
        {
          "output_type": "execute_result",
          "data": {
            "text/plain": [
              "[60010.0,\n",
              " 61321.0,\n",
              " 94234.0,\n",
              " 101848.0,\n",
              " 112327.0,\n",
              " 223682.0,\n",
              " 262327.0,\n",
              " 274282.0,\n",
              " 330437.0,\n",
              " 333645.0,\n",
              " 342890.0,\n",
              " 438940.0,\n",
              " 497105.0,\n",
              " 542535.0,\n",
              " 547440.0,\n",
              " 563499.0,\n",
              " 645413.0,\n",
              " 686249.0,\n",
              " 707086.0,\n",
              " 707435.0,\n",
              " 708348.0,\n",
              " 766158.0,\n",
              " 777035.0,\n",
              " 782901.0,\n",
              " 866529.0,\n",
              " 977260.0,\n",
              " 978084.0]"
            ]
          },
          "metadata": {},
          "execution_count": 68
        }
      ]
    },
    {
      "cell_type": "markdown",
      "source": [
        "\n",
        "\n",
        "---\n",
        "\n",
        "### Testes"
      ],
      "metadata": {
        "id": "Y79sNrIIrcO5"
      }
    },
    {
      "cell_type": "code",
      "source": [
        "listaCompraslojistasComChargebackTrueFalse = BancoDados[BancoDados['merchant_id'].isin(lojistasComChargebackTrueFalse.index.tolist())].copy()\n",
        "listaClienteslojistasComChargebackTrueFalse = BancoDados[BancoDados['user_id'].isin(clientesComChargebackTrueFalse.index.tolist())].copy()\n",
        "listaCartoeslojistasComChargebackTrueFalse = BancoDados[BancoDados['card_number'].isin(cartoesComChargebackTrueFalse.index.tolist())].copy()\n",
        "listaDispositivosslojistasComChargebackTrueFalse = BancoDados[BancoDados['device_id'].isin(dispositivosComChargebackTrueFalse.index.tolist())].copy()"
      ],
      "metadata": {
        "id": "bmAmktt7rbzf"
      },
      "execution_count": 69,
      "outputs": []
    },
    {
      "cell_type": "code",
      "source": [],
      "metadata": {
        "id": "V7J9k4JQ3iXZ"
      },
      "execution_count": 69,
      "outputs": []
    },
    {
      "cell_type": "markdown",
      "source": [
        "\n",
        "\n",
        "---\n",
        "\n",
        "### Identificando os clientes que fizeram compras em mais de uma loja e todos os pedidos tiveram chargeback"
      ],
      "metadata": {
        "id": "qfUFLUPJ465G"
      }
    },
    {
      "cell_type": "code",
      "source": [
        "contadorClientesFraudes = transacoesComFraude.groupby('user_id')['merchant_id'].nunique()\n",
        "clientesMaisdeUmLojistaFraudes = contadorClientesFraudes[contadorClientesFraudes > 1].index\n",
        "clientesMaisdeUmLojistaFraudes"
      ],
      "metadata": {
        "colab": {
          "base_uri": "https://localhost:8080/"
        },
        "id": "W3rJgGPO54Rz",
        "outputId": "975d8476-08ce-4681-f7d5-b47666845f90"
      },
      "execution_count": 70,
      "outputs": [
        {
          "output_type": "execute_result",
          "data": {
            "text/plain": [
              "Int64Index([ 4651,  5541,  9853, 11452, 11750, 17929, 21768, 27657, 44531,\n",
              "            69466, 69588, 69758, 76768, 78262, 79054, 83258, 92034, 93767,\n",
              "            96025],\n",
              "           dtype='int64', name='user_id')"
            ]
          },
          "metadata": {},
          "execution_count": 70
        }
      ]
    },
    {
      "cell_type": "code",
      "source": [],
      "metadata": {
        "id": "f2pnRIMI7bp-"
      },
      "execution_count": 70,
      "outputs": []
    },
    {
      "cell_type": "markdown",
      "source": [
        "\n",
        "\n",
        "---\n",
        "\n",
        "### Identificando os lojistas que fizeram compras sem device_id e só teve registro de fraude"
      ],
      "metadata": {
        "id": "rH92DJJoPUIA"
      }
    },
    {
      "cell_type": "code",
      "source": [
        "listaLojistasSemDeviceComFraude = transacoesSemDeviceIdCbkOn['merchant_id'].unique()\n",
        "listaLojistasSemDeviceComFraude"
      ],
      "metadata": {
        "colab": {
          "base_uri": "https://localhost:8080/"
        },
        "outputId": "871ba39c-35ea-4329-dee3-0ae23eace56e",
        "id": "TqBJxZv6Pdg0"
      },
      "execution_count": 71,
      "outputs": [
        {
          "output_type": "execute_result",
          "data": {
            "text/plain": [
              "array([68657, 56977, 72723, 11570, 92215,  4694, 44927, 97291, 83982,\n",
              "       99510, 36700, 11911, 65330, 74450, 11973, 91972, 23017, 49919,\n",
              "       77130, 25932, 70899, 77570, 76725, 62052,  8942, 41354, 16266])"
            ]
          },
          "metadata": {},
          "execution_count": 71
        }
      ]
    },
    {
      "cell_type": "code",
      "source": [
        "listaClientesTransacoesSemFraude = set(transacoesSemFraude['merchant_id'])"
      ],
      "metadata": {
        "id": "dzWY4cTAPe0Q"
      },
      "execution_count": 72,
      "outputs": []
    },
    {
      "cell_type": "code",
      "source": [
        "listaLojistasSemDeviceComFraude = [valor for valor in listaLojistasSemDeviceComFraude if valor not in listaClientesTransacoesSemFraude]"
      ],
      "metadata": {
        "id": "CnJ4S9RyPpBq"
      },
      "execution_count": 73,
      "outputs": []
    },
    {
      "cell_type": "code",
      "source": [
        "listaLojistasSemDeviceComFraude"
      ],
      "metadata": {
        "colab": {
          "base_uri": "https://localhost:8080/"
        },
        "id": "z3lFCytlPth1",
        "outputId": "e52f25f8-76e6-42cf-e401-3a94fc067605"
      },
      "execution_count": 74,
      "outputs": [
        {
          "output_type": "execute_result",
          "data": {
            "text/plain": [
              "[68657,\n",
              " 56977,\n",
              " 72723,\n",
              " 11570,\n",
              " 92215,\n",
              " 4694,\n",
              " 44927,\n",
              " 83982,\n",
              " 11911,\n",
              " 74450,\n",
              " 25932,\n",
              " 70899,\n",
              " 77570,\n",
              " 8942,\n",
              " 41354]"
            ]
          },
          "metadata": {},
          "execution_count": 74
        }
      ]
    },
    {
      "cell_type": "code",
      "source": [],
      "metadata": {
        "id": "MMRDPGKmPuhW"
      },
      "execution_count": 74,
      "outputs": []
    },
    {
      "cell_type": "markdown",
      "source": [
        "\n",
        "\n",
        "---\n",
        "\n",
        "### Identificando lojistas que fizeram compras com e sem device_id"
      ],
      "metadata": {
        "id": "8_plOjztS5yv"
      }
    },
    {
      "cell_type": "code",
      "source": [
        "lojistaSemDevice = set(transacoesSemDeviceId['merchant_id'])\n",
        "lojistaComDevice = set(transacoesComDeviceId['merchant_id'])"
      ],
      "metadata": {
        "id": "H04mpIgITANj"
      },
      "execution_count": 75,
      "outputs": []
    },
    {
      "cell_type": "code",
      "source": [
        "lojistasComESemDevice = lojistaSemDevice.intersection(lojistaComDevice)"
      ],
      "metadata": {
        "id": "ns9RfFytWrAT"
      },
      "execution_count": 76,
      "outputs": []
    },
    {
      "cell_type": "code",
      "source": [
        "lojistasComESemDevice"
      ],
      "metadata": {
        "colab": {
          "base_uri": "https://localhost:8080/"
        },
        "id": "5Co5heKRXL6R",
        "outputId": "9820e029-e61b-474a-c827-c90c5abfc6b3"
      },
      "execution_count": 77,
      "outputs": [
        {
          "output_type": "execute_result",
          "data": {
            "text/plain": [
              "{217,\n",
              " 828,\n",
              " 981,\n",
              " 1356,\n",
              " 1931,\n",
              " 3659,\n",
              " 4039,\n",
              " 4129,\n",
              " 5868,\n",
              " 6112,\n",
              " 7246,\n",
              " 7594,\n",
              " 8549,\n",
              " 9828,\n",
              " 9842,\n",
              " 10291,\n",
              " 11863,\n",
              " 11973,\n",
              " 12331,\n",
              " 12476,\n",
              " 12745,\n",
              " 13148,\n",
              " 13720,\n",
              " 13827,\n",
              " 14322,\n",
              " 14646,\n",
              " 14834,\n",
              " 15842,\n",
              " 16266,\n",
              " 17264,\n",
              " 17348,\n",
              " 17712,\n",
              " 18046,\n",
              " 18874,\n",
              " 19258,\n",
              " 21087,\n",
              " 22118,\n",
              " 22454,\n",
              " 22532,\n",
              " 23017,\n",
              " 23396,\n",
              " 23781,\n",
              " 24295,\n",
              " 24340,\n",
              " 24618,\n",
              " 24714,\n",
              " 25471,\n",
              " 26647,\n",
              " 26765,\n",
              " 26981,\n",
              " 28647,\n",
              " 28785,\n",
              " 29140,\n",
              " 29744,\n",
              " 29931,\n",
              " 30121,\n",
              " 31960,\n",
              " 32186,\n",
              " 32384,\n",
              " 33192,\n",
              " 34433,\n",
              " 34434,\n",
              " 34597,\n",
              " 35610,\n",
              " 36411,\n",
              " 36700,\n",
              " 36929,\n",
              " 38109,\n",
              " 38410,\n",
              " 39528,\n",
              " 39705,\n",
              " 39967,\n",
              " 40046,\n",
              " 40095,\n",
              " 40591,\n",
              " 41034,\n",
              " 41438,\n",
              " 42178,\n",
              " 42546,\n",
              " 43078,\n",
              " 44229,\n",
              " 44397,\n",
              " 44927,\n",
              " 45959,\n",
              " 46367,\n",
              " 46837,\n",
              " 47605,\n",
              " 47759,\n",
              " 48752,\n",
              " 49205,\n",
              " 49909,\n",
              " 49919,\n",
              " 50512,\n",
              " 50653,\n",
              " 50970,\n",
              " 52378,\n",
              " 52603,\n",
              " 52663,\n",
              " 53732,\n",
              " 56239,\n",
              " 56451,\n",
              " 57737,\n",
              " 57964,\n",
              " 58209,\n",
              " 58552,\n",
              " 58892,\n",
              " 59324,\n",
              " 59566,\n",
              " 59777,\n",
              " 60121,\n",
              " 60526,\n",
              " 60884,\n",
              " 62052,\n",
              " 62891,\n",
              " 63113,\n",
              " 63526,\n",
              " 64076,\n",
              " 65330,\n",
              " 65919,\n",
              " 68998,\n",
              " 70454,\n",
              " 70989,\n",
              " 71549,\n",
              " 71701,\n",
              " 72355,\n",
              " 72386,\n",
              " 72751,\n",
              " 76725,\n",
              " 77130,\n",
              " 78379,\n",
              " 78601,\n",
              " 79530,\n",
              " 79698,\n",
              " 80160,\n",
              " 80345,\n",
              " 81433,\n",
              " 81977,\n",
              " 82113,\n",
              " 82477,\n",
              " 82589,\n",
              " 82613,\n",
              " 83283,\n",
              " 83294,\n",
              " 84548,\n",
              " 84868,\n",
              " 85032,\n",
              " 85250,\n",
              " 85435,\n",
              " 86197,\n",
              " 86964,\n",
              " 87081,\n",
              " 88242,\n",
              " 88500,\n",
              " 88540,\n",
              " 89161,\n",
              " 90032,\n",
              " 90035,\n",
              " 90572,\n",
              " 91013,\n",
              " 91446,\n",
              " 91689,\n",
              " 91972,\n",
              " 92441,\n",
              " 93050,\n",
              " 93711,\n",
              " 93881,\n",
              " 94544,\n",
              " 95110,\n",
              " 95499,\n",
              " 96553,\n",
              " 97291,\n",
              " 97631,\n",
              " 97900,\n",
              " 98542,\n",
              " 98913,\n",
              " 99379,\n",
              " 99510,\n",
              " 99653}"
            ]
          },
          "metadata": {},
          "execution_count": 77
        }
      ]
    },
    {
      "cell_type": "code",
      "source": [
        "lojistasComFraudeApenas"
      ],
      "metadata": {
        "colab": {
          "base_uri": "https://localhost:8080/"
        },
        "id": "gLgQD3pZXM7x",
        "outputId": "fd09609d-6159-488a-e681-827f1186aaeb"
      },
      "execution_count": 78,
      "outputs": [
        {
          "output_type": "execute_result",
          "data": {
            "text/plain": [
              "array([ 1017,  1175,  1308,  2842,  3109,  3531,  4694,  5252,  5533,\n",
              "        5763,  7535,  8787,  8942,  9292, 11470, 11570, 11911, 13096,\n",
              "       15326, 15950, 18768, 21281, 23531, 25199, 25932, 35917, 38337,\n",
              "       38568, 41354, 44927, 45399, 46609, 48126, 49710, 52897, 53816,\n",
              "       54603, 56977, 59875, 62194, 62613, 62988, 65241, 67075, 67764,\n",
              "       68657, 70899, 72723, 73205, 73271, 73922, 74211, 74450, 75917,\n",
              "       76239, 77570, 81795, 83142, 83982, 84902, 89943, 91352, 92215,\n",
              "       94053, 96692, 99644])"
            ]
          },
          "metadata": {},
          "execution_count": 78
        }
      ]
    },
    {
      "cell_type": "code",
      "source": [
        "lojistasComFraudeApenasComESemDevice = list(lojistasComESemDevice.intersection(lojistasComFraudeApenas))\n",
        "lojistasComFraudeApenasComESemDevice"
      ],
      "metadata": {
        "colab": {
          "base_uri": "https://localhost:8080/"
        },
        "id": "egSMgbhkXtoS",
        "outputId": "e891cab0-dc06-4a94-bbdd-975726e59755"
      },
      "execution_count": 79,
      "outputs": [
        {
          "output_type": "execute_result",
          "data": {
            "text/plain": [
              "[44927]"
            ]
          },
          "metadata": {},
          "execution_count": 79
        }
      ]
    },
    {
      "cell_type": "code",
      "source": [],
      "metadata": {
        "id": "kGAaaDWeY3KH"
      },
      "execution_count": 79,
      "outputs": []
    },
    {
      "cell_type": "markdown",
      "source": [
        "\n",
        "\n",
        "---\n",
        "\n",
        "### Identificar clientes que fizeram mais de uma compra em uma hora e todas as compras tiveram fraude"
      ],
      "metadata": {
        "id": "BgZluHCjg06w"
      }
    },
    {
      "cell_type": "code",
      "source": [
        "clientesComprasSeguidasFraude = BancoDados.groupby(['user_id', 'transaction_date']).filter(lambda x: len(x) > 1 and x['has_cbk'].all())\n",
        "clientesComprasSeguidasFraude = clientesComprasSeguidasFraude['user_id'].unique()"
      ],
      "metadata": {
        "id": "6scqzGZ7g7Hd"
      },
      "execution_count": 160,
      "outputs": []
    },
    {
      "cell_type": "code",
      "source": [
        "clientesComprasSeguidasFraude"
      ],
      "metadata": {
        "colab": {
          "base_uri": "https://localhost:8080/"
        },
        "id": "18yyBBKGrp2j",
        "outputId": "9b66cc16-3c34-41b7-8ce1-b6c5503dacc7"
      },
      "execution_count": 161,
      "outputs": [
        {
          "output_type": "execute_result",
          "data": {
            "text/plain": [
              "array([90176, 56877, 53850, 42677])"
            ]
          },
          "metadata": {},
          "execution_count": 161
        }
      ]
    },
    {
      "cell_type": "code",
      "source": [],
      "metadata": {
        "id": "zxOq3G2qrq3f"
      },
      "execution_count": 161,
      "outputs": []
    },
    {
      "cell_type": "markdown",
      "source": [
        "\n",
        "\n",
        "---\n",
        "\n",
        "### Identificando lojistas que tem mais de um device e todas as compras tiveram fraude"
      ],
      "metadata": {
        "id": "uh4eIqa4tdMK"
      }
    },
    {
      "cell_type": "code",
      "source": [
        "lojistasMaisDeUmDeviceComFraudes = BancoDados.groupby('merchant_id').filter(lambda x: x['device_id'].nunique() > 1 and x['has_cbk'].all())\n",
        "lojistasMaisDeUmDeviceComFraudes = lojistasMaisDeUmDeviceComFraudes['merchant_id'].unique()\n",
        "lojistasMaisDeUmDeviceComFraudes"
      ],
      "metadata": {
        "colab": {
          "base_uri": "https://localhost:8080/"
        },
        "id": "op1hvSAytjoa",
        "outputId": "4e60da5c-5dd7-46da-d1b0-bb730e0f4678"
      },
      "execution_count": 82,
      "outputs": [
        {
          "output_type": "execute_result",
          "data": {
            "text/plain": [
              "array([73271, 81795,  5533, 83142, 15326, 38568, 44927, 73205, 48126,\n",
              "        1308, 46609, 65241, 75917, 54603, 74211, 35917, 38337])"
            ]
          },
          "metadata": {},
          "execution_count": 82
        }
      ]
    },
    {
      "cell_type": "markdown",
      "source": [
        "\n",
        "\n",
        "---\n",
        "\n",
        "### Separando as transacoes com e sem fraude em transaction_amount de 1000 em 1000 e comparar os percentuais de ocorrencias"
      ],
      "metadata": {
        "id": "Ie7FkkDg-A_d"
      }
    },
    {
      "cell_type": "code",
      "source": [
        "transacoesComFraudeAte1000 = transacoesComFraude[transacoesComFraude['transaction_amount'] <= 1000]\n",
        "transacoesComFraudeDe1001a2000 = transacoesComFraude[(transacoesComFraude['transaction_amount'] >= 1001)&(transacoesComFraude['transaction_amount'] <= 2000)]\n",
        "transacoesComFraudeDe2001a3000 = transacoesComFraude[(transacoesComFraude['transaction_amount'] >= 2001)&(transacoesComFraude['transaction_amount'] <= 3000)]\n",
        "transacoesComFraudeDe3001a4000 = transacoesComFraude[(transacoesComFraude['transaction_amount'] >= 3001)&(transacoesComFraude['transaction_amount'] <= 4000)]\n",
        "transacoesComFraudeAcima4001 = transacoesComFraude[transacoesComFraude['transaction_amount'] >= 4001]\n",
        "transacoesComFraudeAcima1000 = transacoesComFraude[transacoesComFraude['transaction_amount'] >= 1000]\n",
        "\n",
        "transacoesSemFraudeAte1000 = transacoesSemFraude[transacoesSemFraude['transaction_amount'] <= 1000]\n",
        "transacoesSemFraudeDe1001a2000 = transacoesSemFraude[(transacoesSemFraude['transaction_amount'] >= 1001)&(transacoesSemFraude['transaction_amount'] <= 2000)]\n",
        "transacoesSemFraudeDe2001a3000 = transacoesSemFraude[(transacoesSemFraude['transaction_amount'] >= 2001)&(transacoesSemFraude['transaction_amount'] <= 3000)]\n",
        "transacoesSemFraudeDe3001a4000 = transacoesSemFraude[(transacoesSemFraude['transaction_amount'] >= 3001)&(transacoesSemFraude['transaction_amount'] <= 4000)]\n",
        "transacoesSemFraudeAcima4001 = transacoesSemFraude[transacoesSemFraude['transaction_amount'] >= 4001]"
      ],
      "metadata": {
        "id": "HKJCxjCKuPkJ"
      },
      "execution_count": 83,
      "outputs": []
    },
    {
      "cell_type": "code",
      "source": [
        "qtttransacoesComFraudeAte1000 = len(transacoesComFraudeAte1000)\n",
        "qtttransacoesComFraudeDe1001a2000 = len(transacoesComFraudeDe1001a2000)\n",
        "qtttransacoesComFraudeDe2001a3000 = len(transacoesComFraudeDe2001a3000)\n",
        "qtttransacoesComFraudeDe3001a4000 = len(transacoesComFraudeDe3001a4000)\n",
        "qtttransacoesComFraudeAcima4001 = len(transacoesComFraudeAcima4001)\n",
        "\n",
        "qtttransacoesSemFraudeAte1000 = len(transacoesSemFraudeAte1000)\n",
        "qtttransacoesSemFraudeDe1001a2000 = len(transacoesSemFraudeDe1001a2000)\n",
        "qtttransacoesSemFraudeDe2001a3000 = len(transacoesSemFraudeDe2001a3000)\n",
        "qtttransacoesSemFraudeDe3001a4000 = len(transacoesSemFraudeDe3001a4000)\n",
        "qtttransacoesSemFraudeAcima4001 = len(transacoesSemFraudeAcima4001)"
      ],
      "metadata": {
        "id": "rHB1vfKgBeC2"
      },
      "execution_count": 84,
      "outputs": []
    },
    {
      "cell_type": "code",
      "source": [
        "pcttransacoesComFraudeAte1000 = (qtttransacoesComFraudeAte1000 / (qtttransacoesComFraudeAte1000 + qtttransacoesSemFraudeAte1000)) * 100\n",
        "pcttransacoesSemFraudeAte1000 = (qtttransacoesSemFraudeAte1000 / (qtttransacoesComFraudeAte1000 + qtttransacoesSemFraudeAte1000)) * 100\n",
        "\n",
        "pcttransacoesComFraudeDe1001a2000 = (qtttransacoesComFraudeDe1001a2000 / (qtttransacoesComFraudeDe1001a2000 + qtttransacoesSemFraudeDe1001a2000)) * 100\n",
        "pcttransacoesSemFraudeDe1001a2000 = (qtttransacoesSemFraudeDe1001a2000 / (qtttransacoesSemFraudeDe1001a2000 + qtttransacoesComFraudeDe1001a2000)) * 100\n",
        "\n",
        "pcttransacoesComFraudeDe2001a3000 = (qtttransacoesComFraudeDe2001a3000 / (qtttransacoesComFraudeDe2001a3000 + qtttransacoesSemFraudeDe2001a3000)) * 100\n",
        "pcttransacoesSemFraudeDe2001a3000 = (qtttransacoesSemFraudeDe2001a3000 / (qtttransacoesComFraudeDe2001a3000 + qtttransacoesSemFraudeDe2001a3000)) * 100\n",
        "\n",
        "pcttransacoesComFraudeDe3001a4000 = (qtttransacoesComFraudeDe3001a4000 / (qtttransacoesComFraudeDe3001a4000 + qtttransacoesSemFraudeDe3001a4000)) * 100\n",
        "pcttransacoesSemFraudeDe3001a4000 = (qtttransacoesSemFraudeDe3001a4000 / (qtttransacoesComFraudeDe3001a4000 + qtttransacoesSemFraudeDe3001a4000)) * 100\n",
        "\n",
        "pcttransacoesComFraudeAcima4001 = (qtttransacoesComFraudeAcima4001 / (qtttransacoesComFraudeAcima4001 + qtttransacoesSemFraudeAcima4001)) * 100\n",
        "pcttransacoesSemFraudeAcima4001 = (qtttransacoesSemFraudeAcima4001 / (qtttransacoesComFraudeAte1000 + qtttransacoesSemFraudeAcima4001)) * 100"
      ],
      "metadata": {
        "id": "qgaDN5O8BiWS"
      },
      "execution_count": 85,
      "outputs": []
    },
    {
      "cell_type": "markdown",
      "source": [
        "\n",
        "\n",
        "---\n",
        "\n",
        "### Identificando os device_ids usados por mais de um merchant_id e que as transicoes sao fraudes"
      ],
      "metadata": {
        "id": "RPAY7Ip4K95K"
      }
    },
    {
      "cell_type": "code",
      "source": [
        "contagemDispositivosLojistas = transacoesComFraude.groupby('device_id')['merchant_id'].nunique()"
      ],
      "metadata": {
        "id": "xATACbFFGCOz"
      },
      "execution_count": 86,
      "outputs": []
    },
    {
      "cell_type": "code",
      "source": [
        "dispositivosMaisDeUmLojistaComFraude = transacoesComFraude[transacoesComFraude['device_id'].isin(contagemDispositivosLojistas[contagemDispositivosLojistas > 1].index)]"
      ],
      "metadata": {
        "id": "5NDnnJyiUvCv"
      },
      "execution_count": 87,
      "outputs": []
    },
    {
      "cell_type": "code",
      "source": [
        "listaDispositivosMaisDeUmLojistaComFraude = dispositivosMaisDeUmLojistaComFraude['device_id'].unique()\n",
        "listaDispositivosMaisDeUmLojistaComFraude"
      ],
      "metadata": {
        "colab": {
          "base_uri": "https://localhost:8080/"
        },
        "id": "J4qbsxgAU7Pq",
        "outputId": "302d0044-7053-44e3-c6cb-5d3d8ccebde1"
      },
      "execution_count": 88,
      "outputs": [
        {
          "output_type": "execute_result",
          "data": {
            "text/plain": [
              "array([656429., 357277., 342890., 314172., 766158., 571150., 438940.,\n",
              "       101848., 304880., 960729., 686249., 111836., 547440., 180611.,\n",
              "       868746., 724452., 274282.])"
            ]
          },
          "metadata": {},
          "execution_count": 88
        }
      ]
    },
    {
      "cell_type": "markdown",
      "source": [
        "\n",
        "\n",
        "---\n",
        "\n",
        "### Identificando lojistas que fizeram compras para mais de um cliente e todas as compras tiveram fraude"
      ],
      "metadata": {
        "id": "SKb5m9DWXbBx"
      }
    },
    {
      "cell_type": "code",
      "source": [
        "lojistasMaisDeUmClienteComFraudes = transacoesComFraude.groupby('merchant_id')['user_id'].nunique()\n",
        "listalojistasMaisDeUmClienteComFraudes = lojistasMaisDeUmClienteComFraudes[lojistasMaisDeUmClienteComFraudes > 1].index.tolist()"
      ],
      "metadata": {
        "id": "IP5mqJj3XgxZ"
      },
      "execution_count": 89,
      "outputs": []
    },
    {
      "cell_type": "code",
      "source": [
        "listalojistasMaisDeUmClienteComFraudes"
      ],
      "metadata": {
        "colab": {
          "base_uri": "https://localhost:8080/"
        },
        "id": "VVJPmz6Rt1UK",
        "outputId": "ba09b7d0-df8a-4a50-bd41-0e342fc1b08d"
      },
      "execution_count": 90,
      "outputs": [
        {
          "output_type": "execute_result",
          "data": {
            "text/plain": [
              "[1308,\n",
              " 4153,\n",
              " 5533,\n",
              " 8942,\n",
              " 15326,\n",
              " 17275,\n",
              " 18267,\n",
              " 18344,\n",
              " 29214,\n",
              " 35917,\n",
              " 36700,\n",
              " 38337,\n",
              " 42356,\n",
              " 44927,\n",
              " 46609,\n",
              " 48126,\n",
              " 48982,\n",
              " 49919,\n",
              " 53041,\n",
              " 54603,\n",
              " 55854,\n",
              " 60779,\n",
              " 63050,\n",
              " 65241,\n",
              " 65330,\n",
              " 72723,\n",
              " 73205,\n",
              " 73271,\n",
              " 75917,\n",
              " 77130,\n",
              " 81795,\n",
              " 83142,\n",
              " 91972,\n",
              " 97291,\n",
              " 99510]"
            ]
          },
          "metadata": {},
          "execution_count": 90
        }
      ]
    },
    {
      "cell_type": "code",
      "source": [],
      "metadata": {
        "id": "jPsYA82_t3GS"
      },
      "execution_count": 90,
      "outputs": []
    },
    {
      "cell_type": "markdown",
      "source": [
        "\n",
        "\n",
        "---\n",
        "\n",
        "### Identificando clientes que fizeram compras no mesmo dia com cartoes diferentes e todas as compras tiveram fraude"
      ],
      "metadata": {
        "id": "ZUfjlqiGwmWP"
      }
    },
    {
      "cell_type": "code",
      "source": [
        "BancoDados['transaction_date'] = pd.to_datetime(BancoDados['transaction_date'])"
      ],
      "metadata": {
        "id": "NuIqetG9xr3H"
      },
      "execution_count": 91,
      "outputs": []
    },
    {
      "cell_type": "code",
      "source": [
        "BancoDados['transaction_date_day'] = BancoDados['transaction_date'].dt.date"
      ],
      "metadata": {
        "id": "UKJqot_Uzgqx"
      },
      "execution_count": 92,
      "outputs": []
    },
    {
      "cell_type": "code",
      "source": [
        "clientesCartoesDiferentesMesmoDia = BancoDados.groupby(['user_id', 'transaction_date_day'])['card_number'].transform('nunique') > 1"
      ],
      "metadata": {
        "id": "ePSeqk7F1St5"
      },
      "execution_count": 93,
      "outputs": []
    },
    {
      "cell_type": "code",
      "source": [
        "clientesCartoesDiferentesMesmoDiaComFraude= BancoDados[clientesCartoesDiferentesMesmoDia & (BancoDados['has_cbk'] == True)].copy()"
      ],
      "metadata": {
        "id": "Z0fSXRGI1wbC"
      },
      "execution_count": 94,
      "outputs": []
    },
    {
      "cell_type": "code",
      "source": [
        "listaClientesCartoesDiferentesMesmoDiaComFraude = clientesCartoesDiferentesMesmoDiaComFraude['user_id'].unique().tolist()"
      ],
      "metadata": {
        "id": "AU2fqr1D273h"
      },
      "execution_count": 95,
      "outputs": []
    },
    {
      "cell_type": "code",
      "source": [
        "listaClientesCartoesDiferentesMesmoDiaComFraude"
      ],
      "metadata": {
        "colab": {
          "base_uri": "https://localhost:8080/"
        },
        "id": "sR3GNg9u5tmP",
        "outputId": "945e46ed-bf1c-4519-ae83-266cd77a2a66"
      },
      "execution_count": 96,
      "outputs": [
        {
          "output_type": "execute_result",
          "data": {
            "text/plain": [
              "[81152,\n",
              " 11750,\n",
              " 90182,\n",
              " 7695,\n",
              " 39443,\n",
              " 99396,\n",
              " 56877,\n",
              " 87048,\n",
              " 73385,\n",
              " 7281,\n",
              " 92034,\n",
              " 7725,\n",
              " 96025,\n",
              " 79054,\n",
              " 91637,\n",
              " 17929,\n",
              " 89615,\n",
              " 71424,\n",
              " 11065,\n",
              " 3584,\n",
              " 78262,\n",
              " 76768,\n",
              " 9600,\n",
              " 44531,\n",
              " 83722,\n",
              " 67519,\n",
              " 69466,\n",
              " 31819,\n",
              " 93156,\n",
              " 9853,\n",
              " 27657,\n",
              " 64057,\n",
              " 11452,\n",
              " 65935,\n",
              " 69588,\n",
              " 30874,\n",
              " 96495]"
            ]
          },
          "metadata": {},
          "execution_count": 96
        }
      ]
    },
    {
      "cell_type": "code",
      "source": [],
      "metadata": {
        "id": "mAFszT8s5vll"
      },
      "execution_count": 96,
      "outputs": []
    },
    {
      "cell_type": "markdown",
      "source": [
        "\n",
        "\n",
        "---\n",
        "\n",
        "### Identificando clientes em que todas as compras tiveram chargeback e os valores das transacoes foram acima de 1000"
      ],
      "metadata": {
        "id": "VMxzMZ1h9Qm1"
      }
    },
    {
      "cell_type": "code",
      "source": [
        "listaClientestransacoesComFraudeAcima1000 = transacoesComFraudeAcima1000['user_id'].unique()"
      ],
      "metadata": {
        "id": "R-9_jALs9ZTM"
      },
      "execution_count": 97,
      "outputs": []
    },
    {
      "cell_type": "code",
      "source": [
        "listaClientestransacoesSemFraude = transacoesSemFraude['user_id'].unique()"
      ],
      "metadata": {
        "id": "Ww-FJRPu90sk"
      },
      "execution_count": 98,
      "outputs": []
    },
    {
      "cell_type": "code",
      "source": [
        "listaClientestransacoesComFraudeAcima1000 = [valor for valor in listaClientestransacoesComFraudeAcima1000 if valor not in listaClientestransacoesSemFraude]"
      ],
      "metadata": {
        "id": "BRIzu_0393_N"
      },
      "execution_count": 99,
      "outputs": []
    },
    {
      "cell_type": "code",
      "source": [
        "listaClientestransacoesComFraudeAcima1000"
      ],
      "metadata": {
        "colab": {
          "base_uri": "https://localhost:8080/"
        },
        "id": "ivQtdzMt-WhO",
        "outputId": "0ed16bda-5314-4928-949e-6e27b94126cf"
      },
      "execution_count": 100,
      "outputs": [
        {
          "output_type": "execute_result",
          "data": {
            "text/plain": [
              "[69758,\n",
              " 5541,\n",
              " 7725,\n",
              " 21768,\n",
              " 31867,\n",
              " 50734,\n",
              " 44494,\n",
              " 79998,\n",
              " 66979,\n",
              " 81164,\n",
              " 59418,\n",
              " 99396,\n",
              " 97611,\n",
              " 74844,\n",
              " 90144,\n",
              " 87048,\n",
              " 73385,\n",
              " 21233,\n",
              " 55630,\n",
              " 27779,\n",
              " 4651,\n",
              " 70557,\n",
              " 68191,\n",
              " 92259,\n",
              " 17929,\n",
              " 63582,\n",
              " 6761,\n",
              " 77999,\n",
              " 8743,\n",
              " 11065,\n",
              " 27555,\n",
              " 79237,\n",
              " 86219,\n",
              " 86411,\n",
              " 89064,\n",
              " 12756,\n",
              " 93767,\n",
              " 57127,\n",
              " 83258,\n",
              " 62888,\n",
              " 76768,\n",
              " 9600,\n",
              " 44531,\n",
              " 99876,\n",
              " 41281,\n",
              " 23916,\n",
              " 35138,\n",
              " 16644,\n",
              " 61047,\n",
              " 70465,\n",
              " 900,\n",
              " 40493,\n",
              " 56139,\n",
              " 24543,\n",
              " 38890,\n",
              " 92930,\n",
              " 39334,\n",
              " 61415,\n",
              " 58709,\n",
              " 96972,\n",
              " 85897,\n",
              " 58905,\n",
              " 38734,\n",
              " 28218,\n",
              " 8761,\n",
              " 43913,\n",
              " 21702,\n",
              " 50699,\n",
              " 60263,\n",
              " 70457,\n",
              " 13793,\n",
              " 11858,\n",
              " 75710,\n",
              " 30874,\n",
              " 40595,\n",
              " 69973,\n",
              " 75889,\n",
              " 24027,\n",
              " 76819,\n",
              " 19820,\n",
              " 96495]"
            ]
          },
          "metadata": {},
          "execution_count": 100
        }
      ]
    },
    {
      "cell_type": "code",
      "source": [],
      "metadata": {
        "id": "FHPKWdAa-i3p"
      },
      "execution_count": 100,
      "outputs": []
    },
    {
      "cell_type": "markdown",
      "source": [
        "\n",
        "\n",
        "---\n",
        "\n",
        "# Sistema anti-fraude"
      ],
      "metadata": {
        "id": "p9unv5E1x4bK"
      }
    },
    {
      "cell_type": "markdown",
      "source": [
        "\n",
        "\n",
        "---\n",
        "\n",
        "## Instalando o Flask e outras bibliotecas"
      ],
      "metadata": {
        "id": "2df_rQ7ny8OL"
      }
    },
    {
      "cell_type": "code",
      "source": [
        "!pip install flask"
      ],
      "metadata": {
        "colab": {
          "base_uri": "https://localhost:8080/"
        },
        "id": "JzjVm1QWyA6_",
        "outputId": "feea6603-036c-468f-a4da-8c6f4edf8ce9"
      },
      "execution_count": 207,
      "outputs": [
        {
          "output_type": "stream",
          "name": "stdout",
          "text": [
            "Looking in indexes: https://pypi.org/simple, https://us-python.pkg.dev/colab-wheels/public/simple/\n",
            "Requirement already satisfied: flask in /usr/local/lib/python3.10/dist-packages (2.2.4)\n",
            "Requirement already satisfied: Werkzeug>=2.2.2 in /usr/local/lib/python3.10/dist-packages (from flask) (2.3.0)\n",
            "Requirement already satisfied: Jinja2>=3.0 in /usr/local/lib/python3.10/dist-packages (from flask) (3.1.2)\n",
            "Requirement already satisfied: itsdangerous>=2.0 in /usr/local/lib/python3.10/dist-packages (from flask) (2.1.2)\n",
            "Requirement already satisfied: click>=8.0 in /usr/local/lib/python3.10/dist-packages (from flask) (8.1.3)\n",
            "Requirement already satisfied: MarkupSafe>=2.0 in /usr/local/lib/python3.10/dist-packages (from Jinja2>=3.0->flask) (2.1.2)\n"
          ]
        }
      ]
    },
    {
      "cell_type": "code",
      "source": [
        "from flask import Flask, request, jsonify"
      ],
      "metadata": {
        "id": "9s1S1eSwyCLk"
      },
      "execution_count": 208,
      "outputs": []
    },
    {
      "cell_type": "markdown",
      "source": [
        "\n",
        "\n",
        "---\n",
        "\n",
        "## Criando as regras anti-fraude"
      ],
      "metadata": {
        "id": "0qBTifBvzCcq"
      }
    },
    {
      "cell_type": "code",
      "source": [
        "def detectar_fraude_cliente_chargeback(dados_transacao):\n",
        "    user_id = dados_transacao['user_id']\n",
        "    ## Identificando um cliente que ja teve Chargeback anteriormente - Validado\n",
        "    if user_id in clientesComFraude:\n",
        "        return True    \n",
        "    return False"
      ],
      "metadata": {
        "id": "tXaevvjJy5ps"
      },
      "execution_count": 203,
      "outputs": []
    },
    {
      "cell_type": "code",
      "source": [
        "def detectar_fraude_mesma_hora(dados_transacao):\n",
        "    user_id = dados_transacao['user_id']\n",
        "    transaction_date = dados_transacao['transaction_date'].split('.')[0]\n",
        "    transaction_datetime = datetime.strptime(transaction_date, \"%Y-%m-%dT%H:%M:%S\")\n",
        "    transaction_date_day = transaction_datetime.strftime(\"%d/%m/%Y\")\n",
        "    transaction_date_hour = transaction_datetime.strftime(\"%H\")\n",
        "    transaction_date_minute = transaction_datetime.strftime(\"%M\")\n",
        "    compras_mesmo_dia = BancoDadosHoraData[BancoDadosHoraData['user_id'] == user_id] ## Aqui estou usando o BancoDadosHoraData criado no início\n",
        "    compras_mesmo_dia = compras_mesmo_dia[compras_mesmo_dia['transaction_date_day'] == transaction_date_day]\n",
        "    compras_mesma_hora = compras_mesmo_dia[compras_mesmo_dia['transaction_date_hour'] == transaction_date_hour]\n",
        "    ## Identificando um cliente que fez compras na mesma hora\n",
        "    if len(compras_mesmo_dia) == 0:\n",
        "        return False\n",
        "    if len(compras_mesma_hora) == 0:\n",
        "        return False\n",
        "    \n",
        "    return True"
      ],
      "metadata": {
        "id": "9PyFWxCa20to"
      },
      "execution_count": 204,
      "outputs": []
    },
    {
      "cell_type": "code",
      "source": [
        "def detectar_fraude_valor_alto(dados_transacao):\n",
        "    transaction_amount = dados_transacao['transaction_amount']\n",
        "    user_id = dados_transacao['user_id']\n",
        "    ## Identificando um cliente que fez compra com valor alto (3x maior que a média) - Validado\n",
        "    if user_id in BancoDados['user_id'].values:\n",
        "        mediaValorCompraCliente = BancoDados.loc[BancoDados['user_id'] == user_id, 'transaction_amount'].mean()\n",
        "        if transaction_amount >= mediaValorCompraCliente * 3:\n",
        "            return True\n",
        "    return False"
      ],
      "metadata": {
        "id": "BOmbm_gJ20js"
      },
      "execution_count": 205,
      "outputs": []
    },
    {
      "cell_type": "code",
      "source": [
        "def detectar_fraude(dados_transacao):\n",
        "    # Primeira função: detectar fraude de chargeback\n",
        "    if detectar_fraude_cliente_chargeback(dados_transacao):\n",
        "        return True\n",
        "\n",
        "    # Segunda função: detectar fraude de valor alto\n",
        "    if detectar_fraude_valor_alto(dados_transacao):\n",
        "        return True\n",
        "\n",
        "    # Terceira função: detectar fraude de mesma hora\n",
        "    if detectar_fraude_mesma_hora(dados_transacao):\n",
        "        return True\n",
        "\n",
        "    # Se nenhuma das funções detectar fraude, retorna False\n",
        "    return False"
      ],
      "metadata": {
        "id": "yA3PFv0W3Eks"
      },
      "execution_count": 206,
      "outputs": []
    },
    {
      "cell_type": "markdown",
      "source": [
        "\n",
        "\n",
        "---\n",
        "\n",
        "## Desenvolvendo o sistema com as regras criadas"
      ],
      "metadata": {
        "id": "XN8F3EALzLlz"
      }
    },
    {
      "cell_type": "code",
      "source": [
        "app = Flask(__name__)"
      ],
      "metadata": {
        "id": "IVWcJPw00HKy"
      },
      "execution_count": 209,
      "outputs": []
    },
    {
      "cell_type": "code",
      "source": [
        "def check_fraud():\n",
        "    transaction_data = request.json\n",
        "    transaction_id = transaction_data.get('transaction_id')\n",
        "    recommendation = detectar_fraude(transaction_data)\n",
        "    recommendation_text = \"deny\" if recommendation else \"approve\"\n",
        "    output = {'transaction_id': transaction_id, 'recommendation': recommendation_text}\n",
        "    return jsonify(output)"
      ],
      "metadata": {
        "id": "7ngfCSnqzWZi"
      },
      "execution_count": 214,
      "outputs": []
    },
    {
      "cell_type": "markdown",
      "source": [
        "\n",
        "\n",
        "---\n",
        "\n",
        "## Finalizando sistema e testando"
      ],
      "metadata": {
        "id": "vUj0Oal5zXBh"
      }
    },
    {
      "cell_type": "code",
      "source": [
        "if __name__ == '__main__':\n",
        "    app.run()"
      ],
      "metadata": {
        "colab": {
          "base_uri": "https://localhost:8080/"
        },
        "id": "jOTmaUzHzeAF",
        "outputId": "2b7f981a-9697-49a9-d849-7c486abb0a21"
      },
      "execution_count": 213,
      "outputs": [
        {
          "output_type": "stream",
          "name": "stdout",
          "text": [
            " * Serving Flask app '__main__'\n",
            " * Debug mode: off\n"
          ]
        },
        {
          "output_type": "stream",
          "name": "stderr",
          "text": [
            "INFO:werkzeug:\u001b[31m\u001b[1mWARNING: This is a development server. Do not use it in a production deployment. Use a production WSGI server instead.\u001b[0m\n",
            " * Running on http://127.0.0.1:5000\n",
            "INFO:werkzeug:\u001b[33mPress CTRL+C to quit\u001b[0m\n"
          ]
        }
      ]
    },
    {
      "cell_type": "code",
      "source": [],
      "metadata": {
        "id": "mFv9ruIm411u"
      },
      "execution_count": null,
      "outputs": []
    }
  ]
}